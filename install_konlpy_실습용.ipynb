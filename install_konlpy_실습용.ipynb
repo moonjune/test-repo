{
  "nbformat": 4,
  "nbformat_minor": 0,
  "metadata": {
    "colab": {
      "name": "install_konlpy.ipynb",
      "version": "0.3.2",
      "provenance": [],
      "collapsed_sections": [],
      "include_colab_link": true
    },
    "kernelspec": {
      "name": "python3",
      "display_name": "Python 3"
    }
  },
  "cells": [
    {
      "cell_type": "markdown",
      "metadata": {
        "id": "view-in-github",
        "colab_type": "text"
      },
      "source": [
        "<a href=\"https://colab.research.google.com/github/moonjune/test-repo/blob/master/install_konlpy_%EC%8B%A4%EC%8A%B5%EC%9A%A9.ipynb\" target=\"_parent\"><img src=\"https://colab.research.google.com/assets/colab-badge.svg\" alt=\"Open In Colab\"/></a>"
      ]
    },
    {
      "cell_type": "markdown",
      "metadata": {
        "id": "0kvbmAzfPjSz",
        "colab_type": "text"
      },
      "source": [
        "# Install KoNLPy in colaboratory\n",
        "[KoNLPy 설치 문서](http://konlpy-ko.readthedocs.io/ko/v0.4.4/install/)\n",
        "\n",
        "본 문서는 coaboratory에서 mecab을 설치하여 konlpy에서 사용하기 위해 만들었습니다.\n",
        "\n",
        "This document was created for use in konlpy by installing mecab in coaboratory."
      ]
    },
    {
      "cell_type": "markdown",
      "metadata": {
        "id": "QXRIrOYNP4zD",
        "colab_type": "text"
      },
      "source": [
        "## install konlpy library\n",
        "\n",
        " Successfully installed konlpy-0.4.4"
      ]
    },
    {
      "cell_type": "code",
      "metadata": {
        "id": "9gqwqppQaVqg",
        "colab_type": "code",
        "colab": {}
      },
      "source": [
        "!pip install konlpy\n"
      ],
      "execution_count": 0,
      "outputs": []
    },
    {
      "cell_type": "markdown",
      "metadata": {
        "id": "YBu7OOUJQPPQ",
        "colab_type": "text"
      },
      "source": [
        "## install jdk and install JPype1-py3\n",
        "\n",
        "oracle jdk 설치 무방"
      ]
    },
    {
      "cell_type": "code",
      "metadata": {
        "id": "KlWrdMWqai9C",
        "colab_type": "code",
        "colab": {}
      },
      "source": [
        "!apt-get install openjdk-8-jdk-headless -qq > /dev/null\n",
        "!pip3 install JPype1-py3"
      ],
      "execution_count": 0,
      "outputs": []
    },
    {
      "cell_type": "markdown",
      "metadata": {
        "id": "HLROadTzQ0Wt",
        "colab_type": "text"
      },
      "source": [
        "## mecab-ko 설치\n",
        "[mecab 설치 문서](https://bitbucket.org/eunjeon/mecab-ko)"
      ]
    },
    {
      "cell_type": "code",
      "metadata": {
        "id": "Tz9LpOyzeAQq",
        "colab_type": "code",
        "colab": {}
      },
      "source": [
        "import os\n",
        "os.chdir('/tmp/')\n",
        "!curl -LO https://bitbucket.org/eunjeon/mecab-ko/downloads/mecab-0.996-ko-0.9.1.tar.gz\n",
        "!tar zxfv mecab-0.996-ko-0.9.1.tar.gz\n",
        "os.chdir('/tmp/mecab-0.996-ko-0.9.1')\n",
        "!./configure\n",
        "!make\n",
        "!make check\n",
        "!make install\n"
      ],
      "execution_count": 0,
      "outputs": []
    },
    {
      "cell_type": "markdown",
      "metadata": {
        "id": "p-2F0QsIRNhE",
        "colab_type": "text"
      },
      "source": [
        "## automake 설치"
      ]
    },
    {
      "cell_type": "code",
      "metadata": {
        "id": "bR4P6WDcwU_3",
        "colab_type": "code",
        "colab": {}
      },
      "source": [
        "\n",
        "os.chdir('/tmp')\n",
        "!curl -LO http://ftpmirror.gnu.org/automake/automake-1.11.tar.gz\n",
        "!tar -zxvf automake-1.11.tar.gz\n",
        "os.chdir('/tmp/automake-1.11')\n",
        "!./configure\n",
        "!make\n",
        "!make install\n"
      ],
      "execution_count": 0,
      "outputs": []
    },
    {
      "cell_type": "markdown",
      "metadata": {
        "id": "jhznoGrySKm8",
        "colab_type": "text"
      },
      "source": [
        "## automake install error\n",
        "configure: error: no acceptable m4 could be found in $PATH.\n",
        "\n",
        "Glibc 2.9 - 2.12 and GNU M4 1.4.11 - 1.4.15 have another strstr bug.\n",
        "\n",
        "- install GNU M4 1.4.9\n",
        "\n",
        "- install autoconf-2.69\n",
        "\n"
      ]
    },
    {
      "cell_type": "code",
      "metadata": {
        "id": "QhHpNihFR5hD",
        "colab_type": "code",
        "colab": {}
      },
      "source": [
        "import os\n",
        "os.chdir('/tmp/')\n",
        "\n",
        " \n",
        "!wget -O m4-1.4.9.tar.gz http://ftp.gnu.org/gnu/m4/m4-1.4.9.tar.gz\n",
        "!tar -zvxf m4-1.4.9.tar.gz\n",
        "os.chdir('/tmp/m4-1.4.9')\n",
        "!./configure\n",
        "!make\n",
        "!make install\n",
        "\n",
        "os.chdir('/tmp')\n",
        "!curl -OL http://ftpmirror.gnu.org/autoconf/autoconf-2.69.tar.gz\n",
        "!tar xzf autoconf-2.69.tar.gz\n",
        "os.chdir('/tmp/autoconf-2.69')\n",
        "!./configure --prefix=/usr/local\n",
        "!make\n",
        "!make install\n",
        "!export PATH=/usr/local/bin"
      ],
      "execution_count": 0,
      "outputs": []
    },
    {
      "cell_type": "markdown",
      "metadata": {
        "id": "FmnvrVdwRTd8",
        "colab_type": "text"
      },
      "source": [
        "## install mecab-ko-dic\n",
        "[mecab-ko-dic 설치 문서](https://bitbucket.org/eunjeon/mecab-ko-dic)"
      ]
    },
    {
      "cell_type": "code",
      "metadata": {
        "id": "Z7PCBmGrsR4Y",
        "colab_type": "code",
        "colab": {}
      },
      "source": [
        "import os\n",
        "os.chdir('/tmp')\n",
        "!curl -LO https://bitbucket.org/eunjeon/mecab-ko-dic/downloads/mecab-ko-dic-2.0.1-20150920.tar.gz\n",
        "!tar -zxvf mecab-ko-dic-2.0.1-20150920.tar.gz\n",
        "os.chdir('/tmp/mecab-ko-dic-2.0.1-20150920')\n",
        "!./autogen.sh\n",
        "!./configure\n",
        "!make\n",
        "# !sh -c 'echo \"dicdir=/usr/local/lib/mecab/dic/mecab-ko-dic\" > /usr/local/etc/mecabrc'\n",
        "!make install"
      ],
      "execution_count": 0,
      "outputs": []
    },
    {
      "cell_type": "markdown",
      "metadata": {
        "id": "GIydn0oeONmt",
        "colab_type": "text"
      },
      "source": [
        "## ldconfig\n",
        "libmecab.so.2를 찾을 수 없는 에러가 나는 경우\n",
        "\n",
        "실행 후 재시도\n",
        "\n"
      ]
    },
    {
      "cell_type": "code",
      "metadata": {
        "id": "qs0rvn4p1EeE",
        "colab_type": "code",
        "colab": {}
      },
      "source": [
        "os.chdir('/tmp/mecab-ko-dic-2.0.1-20150920')\n",
        "!ldconfig\n",
        "!ldconfig -p | grep /usr/local/lib\n"
      ],
      "execution_count": 0,
      "outputs": []
    },
    {
      "cell_type": "markdown",
      "metadata": {
        "id": "csXIshqZN_Mi",
        "colab_type": "text"
      },
      "source": [
        "## install mecab-python\n",
        "python3 기준입니다."
      ]
    },
    {
      "cell_type": "code",
      "metadata": {
        "id": "ITq9SMVv3Dli",
        "colab_type": "code",
        "colab": {}
      },
      "source": [
        "# install mecab-python\n",
        "import os\n",
        "os.chdir('/content')\n",
        "\n",
        "!git clone https://bitbucket.org/eunjeon/mecab-python-0.996.git\n",
        "os.chdir('/content/mecab-python-0.996')\n",
        "\n",
        "!python3 setup.py build\n",
        "!python3 setup.py install\n"
      ],
      "execution_count": 0,
      "outputs": []
    },
    {
      "cell_type": "markdown",
      "metadata": {
        "id": "rTshp2XZVxA8",
        "colab_type": "text"
      },
      "source": [
        "## complete\n",
        "\n",
        "설치가 모두 완료되었습니다.\n",
        "\n",
        "새창을 띄워 실행 해보시길 바랍니다.\n",
        "\n"
      ]
    },
    {
      "cell_type": "code",
      "metadata": {
        "id": "1lxZgy_vjaah",
        "colab_type": "code",
        "colab": {}
      },
      "source": [
        "os.chdir('/content')\n",
        "\n",
        "from konlpy.tag import Mecab\n",
        "from konlpy.tag import Hannanum\n",
        "from konlpy.tag import Kkma\n",
        "from konlpy.tag import Komoran\n",
        "from konlpy.tag import Okt\n",
        "mecab = Mecab()\n",
        "hannanum = Hannanum()\n",
        "kkma = Kkma()\n",
        "komoran = Komoran()\n",
        "okt = Okt()"
      ],
      "execution_count": 0,
      "outputs": []
    },
    {
      "cell_type": "code",
      "metadata": {
        "id": "dhtsMwWajviG",
        "colab_type": "code",
        "colab": {}
      },
      "source": [
        "print(mecab.morphs(u'영등포구청역에 있는 맛집 좀 알려주세요.'))\n",
        "print(hannanum.morphs(u'영등포구청역에 있는 맛집 좀 알려주세요.'))\n",
        "print(kkma.morphs(u'영등포구청역에 있는 맛집 좀 알려주세요.'))\n",
        "print(komoran.morphs(u'영등포구청역에 있는 맛집 좀 알려주세요.'))\n",
        "print(okt.morphs(u'영등포구청역에 있는 맛집 좀 알려주세요.'))\n"
      ],
      "execution_count": 0,
      "outputs": []
    },
    {
      "cell_type": "code",
      "metadata": {
        "id": "uqm3l_F2VNQq",
        "colab_type": "code",
        "colab": {}
      },
      "source": [
        "print(mecab.pos(u'인공지능 연구를 위한 지역과학기술인적자원 연구'))\n",
        "print(hannanum.pos(u'인공지능 연구를 위한 지역과학기술인적자원 연구'))\n",
        "print(kkma.pos(u'인공지능 연구를 위한 지역과학기술인적자원 연구'))\n",
        "print(komoran.pos(u'인공지능 연구를 위한 지역과학기술인적자원 연구'))\n",
        "print(okt.pos(u'인공지능 연구를 위한 지역과학기술인적자원 연구'))"
      ],
      "execution_count": 0,
      "outputs": []
    },
    {
      "cell_type": "code",
      "metadata": {
        "id": "ImfbRrM5mv7Q",
        "colab_type": "code",
        "colab": {}
      },
      "source": [
        "print(hannanum.pos(\"□ ('08년) 지경부와 중기청은 각각 ‘신기술보육사업’과 ‘BI창업기업 공동기술개발사업’을 운영, 창업기업의 R&D 투자와 사업화 촉진 유도 □ ('09년) 사업 효율성 제고를 위해 지경부와 중기청에서 분산 지원하던 두개 사업을 ‘창업보육기술개발사업’ 으로 통합    * 제1차 중소기업성공전략회의 기술창업활성화대책 VIP 보고('08.6) □ ('10년) 창업초기기업 R&D사업 지원규모 대폭 확대 추진    * 제9차 국가고용전략회의 “청년 기술·지식창업 지원대책” VIP 보고('10.8.19) □ ('11년) 사업 효율성 제고를 위해 ‘기술혁신개발사업 內 창업·실용과제’와 ‘창업보육기술개발사업’을 ‘창업성장기술개발사업’으로 통합·확대 □ ('12년) 중기청 R&D 구조개편(‘12.5)에 따라 5년 이하 소규모 창업기업* 및 1인 창조기업으로 지원대상 제한    * 업력 5년 이하이면서 종업원수 50인 이하 또는 매출액 50억원 이하 □ ('14년) ｢창업지원법｣에 따라 창업과제 지원대상 범위 확대    * (기존) 업력 5년이하 → (개선) 업력 7년이하 □ ('15년) 여성의 경제활동 참여 활성화를 위해 여성 전용 R&D 신설 □ (‘16년) 분산된 창업기업 R&D지원의 통합을 위해 ’민간투자주도형 기술창업지원(TIPS)과제‘를 ‘산학연협력R&D사업’에서 동 사업으로 이관 □ (‘17년) 사업 구조조정을 통해 ’1인 창조기업과제‘ 폐지 및 창업기업이  스케일업(Scale-up)으로 성장할 수 있도록 소규모 기준 폐지\"))\n",
        "print(mecab.pos(\"□ ('08년) 지경부와 중기청은 각각 ‘신기술보육사업’과 ‘BI창업기업 공동기술개발사업’을 운영, 창업기업의 R&D 투자와 사업화 촉진 유도 □ ('09년) 사업 효율성 제고를 위해 지경부와 중기청에서 분산 지원하던 두개 사업을 ‘창업보육기술개발사업’ 으로 통합    * 제1차 중소기업성공전략회의 기술창업활성화대책 VIP 보고('08.6) □ ('10년) 창업초기기업 R&D사업 지원규모 대폭 확대 추진    * 제9차 국가고용전략회의 “청년 기술·지식창업 지원대책” VIP 보고('10.8.19) □ ('11년) 사업 효율성 제고를 위해 ‘기술혁신개발사업 內 창업·실용과제’와 ‘창업보육기술개발사업’을 ‘창업성장기술개발사업’으로 통합·확대 □ ('12년) 중기청 R&D 구조개편(‘12.5)에 따라 5년 이하 소규모 창업기업* 및 1인 창조기업으로 지원대상 제한    * 업력 5년 이하이면서 종업원수 50인 이하 또는 매출액 50억원 이하 □ ('14년) ｢창업지원법｣에 따라 창업과제 지원대상 범위 확대    * (기존) 업력 5년이하 → (개선) 업력 7년이하 □ ('15년) 여성의 경제활동 참여 활성화를 위해 여성 전용 R&D 신설 □ (‘16년) 분산된 창업기업 R&D지원의 통합을 위해 ’민간투자주도형 기술창업지원(TIPS)과제‘를 ‘산학연협력R&D사업’에서 동 사업으로 이관 □ (‘17년) 사업 구조조정을 통해 ’1인 창조기업과제‘ 폐지 및 창업기업이  스케일업(Scale-up)으로 성장할 수 있도록 소규모 기준 폐지\"))"
      ],
      "execution_count": 0,
      "outputs": []
    },
    {
      "cell_type": "markdown",
      "metadata": {
        "id": "4ukba4bruy5R",
        "colab_type": "text"
      },
      "source": [
        ""
      ]
    }
  ]
}