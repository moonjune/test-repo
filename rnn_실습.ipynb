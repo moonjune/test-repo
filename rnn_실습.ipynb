{
  "nbformat": 4,
  "nbformat_minor": 0,
  "metadata": {
    "colab": {
      "name": "rnn 실습.ipynb",
      "version": "0.3.2",
      "provenance": [],
      "include_colab_link": true
    },
    "kernelspec": {
      "name": "python3",
      "display_name": "Python 3"
    }
  },
  "cells": [
    {
      "cell_type": "markdown",
      "metadata": {
        "id": "view-in-github",
        "colab_type": "text"
      },
      "source": [
        "<a href=\"https://colab.research.google.com/github/moonjune/test-repo/blob/master/rnn_%EC%8B%A4%EC%8A%B5.ipynb\" target=\"_parent\"><img src=\"https://colab.research.google.com/assets/colab-badge.svg\" alt=\"Open In Colab\"/></a>"
      ]
    },
    {
      "cell_type": "code",
      "metadata": {
        "id": "ZIpK3vjJ4Iip",
        "colab_type": "code",
        "outputId": "f00ff74d-305d-431f-b2cd-bcec0a2faeea",
        "colab": {
          "base_uri": "https://localhost:8080/",
          "height": 563
        }
      },
      "source": [
        "!pip install tensorflow==1.12"
      ],
      "execution_count": 1,
      "outputs": [
        {
          "output_type": "stream",
          "text": [
            "Collecting tensorflow==1.12\n",
            "\u001b[?25l  Downloading https://files.pythonhosted.org/packages/22/cc/ca70b78087015d21c5f3f93694107f34ebccb3be9624385a911d4b52ecef/tensorflow-1.12.0-cp36-cp36m-manylinux1_x86_64.whl (83.1MB)\n",
            "\u001b[K     |████████████████████████████████| 83.1MB 417kB/s \n",
            "\u001b[?25hRequirement already satisfied: keras-preprocessing>=1.0.5 in /usr/local/lib/python3.6/dist-packages (from tensorflow==1.12) (1.0.9)\n",
            "Requirement already satisfied: astor>=0.6.0 in /usr/local/lib/python3.6/dist-packages (from tensorflow==1.12) (0.7.1)\n",
            "Requirement already satisfied: grpcio>=1.8.6 in /usr/local/lib/python3.6/dist-packages (from tensorflow==1.12) (1.15.0)\n",
            "Requirement already satisfied: wheel>=0.26 in /usr/local/lib/python3.6/dist-packages (from tensorflow==1.12) (0.33.1)\n",
            "Requirement already satisfied: numpy>=1.13.3 in /usr/local/lib/python3.6/dist-packages (from tensorflow==1.12) (1.16.3)\n",
            "Requirement already satisfied: absl-py>=0.1.6 in /usr/local/lib/python3.6/dist-packages (from tensorflow==1.12) (0.7.1)\n",
            "Requirement already satisfied: termcolor>=1.1.0 in /usr/local/lib/python3.6/dist-packages (from tensorflow==1.12) (1.1.0)\n",
            "Requirement already satisfied: six>=1.10.0 in /usr/local/lib/python3.6/dist-packages (from tensorflow==1.12) (1.12.0)\n",
            "Requirement already satisfied: protobuf>=3.6.1 in /usr/local/lib/python3.6/dist-packages (from tensorflow==1.12) (3.7.1)\n",
            "Requirement already satisfied: gast>=0.2.0 in /usr/local/lib/python3.6/dist-packages (from tensorflow==1.12) (0.2.2)\n",
            "Collecting tensorboard<1.13.0,>=1.12.0 (from tensorflow==1.12)\n",
            "\u001b[?25l  Downloading https://files.pythonhosted.org/packages/07/53/8d32ce9471c18f8d99028b7cef2e5b39ea8765bd7ef250ca05b490880971/tensorboard-1.12.2-py3-none-any.whl (3.0MB)\n",
            "\u001b[K     |████████████████████████████████| 3.1MB 34.0MB/s \n",
            "\u001b[?25hRequirement already satisfied: keras-applications>=1.0.6 in /usr/local/lib/python3.6/dist-packages (from tensorflow==1.12) (1.0.7)\n",
            "Requirement already satisfied: setuptools in /usr/local/lib/python3.6/dist-packages (from protobuf>=3.6.1->tensorflow==1.12) (41.0.1)\n",
            "Requirement already satisfied: markdown>=2.6.8 in /usr/local/lib/python3.6/dist-packages (from tensorboard<1.13.0,>=1.12.0->tensorflow==1.12) (3.1)\n",
            "Requirement already satisfied: werkzeug>=0.11.10 in /usr/local/lib/python3.6/dist-packages (from tensorboard<1.13.0,>=1.12.0->tensorflow==1.12) (0.15.2)\n",
            "Requirement already satisfied: h5py in /usr/local/lib/python3.6/dist-packages (from keras-applications>=1.0.6->tensorflow==1.12) (2.8.0)\n",
            "Installing collected packages: tensorboard, tensorflow\n",
            "  Found existing installation: tensorboard 1.13.1\n",
            "    Uninstalling tensorboard-1.13.1:\n",
            "      Successfully uninstalled tensorboard-1.13.1\n",
            "  Found existing installation: tensorflow 1.13.1\n",
            "    Uninstalling tensorflow-1.13.1:\n",
            "      Successfully uninstalled tensorflow-1.13.1\n",
            "Successfully installed tensorboard-1.12.2 tensorflow-1.12.0\n"
          ],
          "name": "stdout"
        }
      ]
    },
    {
      "cell_type": "code",
      "metadata": {
        "id": "gGAFup7Z4Jp7",
        "colab_type": "code",
        "outputId": "593339bc-f8e2-4916-e2e1-704c02208728",
        "colab": {
          "base_uri": "https://localhost:8080/",
          "height": 35
        }
      },
      "source": [
        "import numpy as np\n",
        "import tensorflow as tf\n",
        "from tensorflow import keras\n",
        "from tensorflow.keras import layers\n",
        "from tensorflow.keras import Sequential, Model\n",
        "\n",
        "print(tf.__version__)\n",
        "tf.enable_eager_execution()"
      ],
      "execution_count": 2,
      "outputs": [
        {
          "output_type": "stream",
          "text": [
            "1.12.0\n"
          ],
          "name": "stdout"
        }
      ]
    },
    {
      "cell_type": "code",
      "metadata": {
        "id": "YXVGsc1Z4o2a",
        "colab_type": "code",
        "colab": {}
      },
      "source": [
        "# One hot encoding for each char in 'hello'\n",
        "h = [1, 0, 0, 0]\n",
        "e = [0, 1, 0, 0]\n",
        "l = [0, 0, 1, 0]\n",
        "o = [0, 0, 0, 1]"
      ],
      "execution_count": 0,
      "outputs": []
    },
    {
      "cell_type": "code",
      "metadata": {
        "id": "O-Hgaj2l6Nun",
        "colab_type": "code",
        "outputId": "dd52d73b-6f76-4c47-fd6f-72394dfeb655",
        "colab": {
          "base_uri": "https://localhost:8080/",
          "height": 71
        }
      },
      "source": [
        "x_data = np.array([[h]], dtype=np.float32)\n",
        "\n",
        "hidden_size = 2\n",
        "cell = layers.SimpleRNNCell(units = hidden_size) # 텐서플로 케라스에서 데려온 layers 라이브러리에 있는 셀 함수. units를 인수로 받음\n",
        "rnn = layers.RNN(cell, return_sequences = True, return_state = True) \n",
        "# 정의된 셀을 인자로 받는 신경망 함수\n",
        "# return_sequences: 아웃풋을 마지막만 반환할지(1?) 전체 다 할건지 결정, 여기선 셀이 하나라서 하나만 나오나 봄(Waa Wax Way는?)\n",
        "# return_state: 상태를 반환.. 위나 아래나 둘 다 state를 반환한 것이다. 4차원 짜리를 2차원의, 'h'를 2개의 수로 표현한 것\n",
        "outputs, states = rnn(x_data)\n",
        "\n",
        "print('x_data: {}, shape : {}'.format(x_data, x_data.shape))\n",
        "print('outputs: {}, shape : {}'.format(outputs, outputs.shape))\n",
        "print('states: {}, shape : {}'.format(states, states.shape))"
      ],
      "execution_count": 4,
      "outputs": [
        {
          "output_type": "stream",
          "text": [
            "x_data: [[[1. 0. 0. 0.]]], shape : (1, 1, 4)\n",
            "outputs: [[[0.4263243  0.60274637]]], shape : (1, 1, 2)\n",
            "states: [[0.4263243  0.60274637]], shape : (1, 2)\n"
          ],
          "name": "stdout"
        }
      ]
    },
    {
      "cell_type": "code",
      "metadata": {
        "id": "RobUvtkLuzw4",
        "colab_type": "code",
        "outputId": "2224926b-afdb-47f0-e3bf-5e8cc2bcb2e6",
        "colab": {
          "base_uri": "https://localhost:8080/",
          "height": 71
        }
      },
      "source": [
        "rnn = layers.SimpleRNN(units = hidden_size, return_sequences = True,\n",
        "                      return_state = True)\n",
        "# 셀을 정의하고 rnn에 넣었던 위 식과 다른 표시법. \n",
        "\n",
        "outputs, states = rnn(x_data)\n",
        "\n",
        "print('x_data: {}, shape: {}'.format(x_data, x_data.shape))\n",
        "print('outputs: {}, shape: {}'.format(outputs, outputs.shape))\n",
        "print('states: {}, shape: {}'.format(states, states.shape))"
      ],
      "execution_count": 5,
      "outputs": [
        {
          "output_type": "stream",
          "text": [
            "x_data: [[[1. 0. 0. 0.]]], shape: (1, 1, 4)\n",
            "outputs: [[[-0.67922044  0.12051022]]], shape: (1, 1, 2)\n",
            "states: [[-0.67922044  0.12051022]], shape: (1, 2)\n"
          ],
          "name": "stdout"
        }
      ]
    },
    {
      "cell_type": "code",
      "metadata": {
        "id": "DMAzQsctvXHP",
        "colab_type": "code",
        "outputId": "a4b02c2b-45a7-4c19-ade5-5e3cf123b550",
        "colab": {
          "base_uri": "https://localhost:8080/",
          "height": 253
        }
      },
      "source": [
        "x_data = np.array([[h, e, l, l, o]], dtype = np.float32)\n",
        "\n",
        "hidden_size = 2\n",
        "rnn = layers.SimpleRNN(units = 2, return_sequences = True, return_state = True)\n",
        "# 시퀀스는 h,e,l,l,o를 구성하는 5개에 대한 박스 값을 의미한다.. 그런데 응애 state는 뭔가?\n",
        "# 가장 유력한 추정은 Waa이다. 얘는 불변이라 1개의 값이고 1,4였던 값을 1,2로 바꾸기 위해선 2가 들어가야 하는데...\n",
        "# 뭔가 실수가 있어서 정정되었음. state는 마지막값을 의미함\n",
        "\n",
        "outputs, state = rnn(x_data)\n",
        "\n",
        "\n",
        "print('x_data : {}, shape{} \\n'.format(x_data, x_data.shape))\n",
        "print('outputs: {}, shape: {} \\n'.format(outputs, outputs.shape))\n",
        "print('states: {}, shape: {}'.format(state, state.shape))"
      ],
      "execution_count": 13,
      "outputs": [
        {
          "output_type": "stream",
          "text": [
            "x_data : [[[1. 0. 0. 0.]\n",
            "  [0. 1. 0. 0.]\n",
            "  [0. 0. 1. 0.]\n",
            "  [0. 0. 1. 0.]\n",
            "  [0. 0. 0. 1.]]], shape(1, 5, 4) \n",
            "\n",
            "outputs: [[[ 0.41113684 -0.7473485 ]\n",
            "  [-0.38623387 -0.4041295 ]\n",
            "  [ 0.09279767  0.2903303 ]\n",
            "  [ 0.5970044  -0.29017586]\n",
            "  [-0.3213257  -0.83620524]]], shape: (1, 5, 2) \n",
            "\n",
            "states: [[-0.3213257  -0.83620524]], shape: (1, 2)\n"
          ],
          "name": "stdout"
        }
      ]
    },
    {
      "cell_type": "code",
      "metadata": {
        "id": "UDRQiO9qxTmw",
        "colab_type": "code",
        "colab": {
          "base_uri": "https://localhost:8080/",
          "height": 470
        },
        "outputId": "9cec4487-3b40-4266-fa91-4ee9bd541dcd"
      },
      "source": [
        "x_data = np.array([[h, e, l, l, o],\n",
        "                   [e, o, l, l, l],\n",
        "                   [l, l, e, e, l]], dtype = np.float32)\n",
        "\n",
        "hidden_size = 2\n",
        "#히든 사이즈는 최종적으로 2가 되도록 만들라는 명령임.. 행렬 형태를 맞춘 행렬곱을 해줘야 할텐데 이걸 이 명령 하나로 끝내는 거\n",
        "rnn = layers.SimpleRNN(units = 2, return_sequences = False, return_state = True)\n",
        "outputs, states = rnn(x_data)\n",
        "# 예제에서 출력한 states는 가장 마지막 단에서 만들어진 히든값이고 이는 return_sequences의 가장 마지막 값과 같다. \n",
        "# 이걸 계속 봐온 이유는 무엇일까...\n",
        "#\n",
        "\n",
        "print('x_data: {}, shape: {} \\n'.format(x_data, x_data.shape))\n",
        "print('outputs: {}, shape: {} \\n'.format(outputs, outputs.shape))\n",
        "print('states: {}, shape: {}'.format(states, states.shape))\n"
      ],
      "execution_count": 14,
      "outputs": [
        {
          "output_type": "stream",
          "text": [
            "x_data: [[[1. 0. 0. 0.]\n",
            "  [0. 1. 0. 0.]\n",
            "  [0. 0. 1. 0.]\n",
            "  [0. 0. 1. 0.]\n",
            "  [0. 0. 0. 1.]]\n",
            "\n",
            " [[0. 1. 0. 0.]\n",
            "  [0. 0. 0. 1.]\n",
            "  [0. 0. 1. 0.]\n",
            "  [0. 0. 1. 0.]\n",
            "  [0. 0. 1. 0.]]\n",
            "\n",
            " [[0. 0. 1. 0.]\n",
            "  [0. 0. 1. 0.]\n",
            "  [0. 1. 0. 0.]\n",
            "  [0. 1. 0. 0.]\n",
            "  [0. 0. 1. 0.]]], shape: (3, 5, 4) \n",
            "\n",
            "outputs: [[ 0.8115094  -0.8678043 ]\n",
            " [ 0.92047393  0.6977403 ]\n",
            " [ 0.91155434  0.57665396]], shape: (3, 2) \n",
            "\n",
            "states: [[ 0.8115094  -0.8678043 ]\n",
            " [ 0.92047393  0.6977403 ]\n",
            " [ 0.91155434  0.57665396]], shape: (3, 2)\n"
          ],
          "name": "stdout"
        }
      ]
    },
    {
      "cell_type": "code",
      "metadata": {
        "id": "ByAFHEcW4mzC",
        "colab_type": "code",
        "colab": {}
      },
      "source": [
        ""
      ],
      "execution_count": 0,
      "outputs": []
    },
    {
      "cell_type": "code",
      "metadata": {
        "id": "JMY2vBJyTP2P",
        "colab_type": "code",
        "colab": {}
      },
      "source": [
        ""
      ],
      "execution_count": 0,
      "outputs": []
    }
  ]
}