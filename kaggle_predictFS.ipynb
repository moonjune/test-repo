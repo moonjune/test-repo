{
  "nbformat": 4,
  "nbformat_minor": 0,
  "metadata": {
    "colab": {
      "name": "Untitled17.ipynb",
      "provenance": [],
      "authorship_tag": "ABX9TyMZ8T3XZfxf7L5yNWHKq9St",
      "include_colab_link": true
    },
    "kernelspec": {
      "name": "python3",
      "display_name": "Python 3"
    }
  },
  "cells": [
    {
      "cell_type": "markdown",
      "metadata": {
        "id": "view-in-github",
        "colab_type": "text"
      },
      "source": [
        "<a href=\"https://colab.research.google.com/github/moonjune/test-repo/blob/master/kaggle_predictFS.ipynb\" target=\"_parent\"><img src=\"https://colab.research.google.com/assets/colab-badge.svg\" alt=\"Open In Colab\"/></a>"
      ]
    },
    {
      "cell_type": "code",
      "metadata": {
        "id": "KFKRnNmMPvUd",
        "colab_type": "code",
        "colab": {}
      },
      "source": [
        "# kaggle_Predint_Future_Sales\n",
        "!pip install kaggle\n",
        "from google.colab import files\n",
        "files.upload()"
      ],
      "execution_count": 0,
      "outputs": []
    },
    {
      "cell_type": "code",
      "metadata": {
        "id": "LJyDPlaKRI6k",
        "colab_type": "code",
        "colab": {}
      },
      "source": [
        "import os\n",
        "os.chdir('/content')\n",
        "!ls -1ha kaggle.json"
      ],
      "execution_count": 0,
      "outputs": []
    },
    {
      "cell_type": "code",
      "metadata": {
        "id": "r4gOJl6YUQUm",
        "colab_type": "code",
        "colab": {}
      },
      "source": [
        "!mkdir -p ~/.kaggle\n",
        "!cp kaggle.json ~/.kaggle/\n",
        "# Permission Warning 이 일어나지 않도록 \n",
        "!chmod 600 ~/.kaggle/kaggle.json"
      ],
      "execution_count": 0,
      "outputs": []
    },
    {
      "cell_type": "code",
      "metadata": {
        "id": "GYgaajKdU3cb",
        "colab_type": "code",
        "colab": {}
      },
      "source": [
        "import os\n",
        "os.mkdir('/content/predFS/')\n",
        "os.chdir('/content/predFS/')"
      ],
      "execution_count": 0,
      "outputs": []
    },
    {
      "cell_type": "code",
      "metadata": {
        "id": "H3rqjNbwURVX",
        "colab_type": "code",
        "colab": {}
      },
      "source": [
        "!kaggle competitions download -c competitive-data-science-predict-future-sales"
      ],
      "execution_count": 0,
      "outputs": []
    },
    {
      "cell_type": "code",
      "metadata": {
        "id": "2l8liIoRWHWW",
        "colab_type": "code",
        "colab": {}
      },
      "source": [
        "os.chdir('/content/predFS/')\n",
        "!ls"
      ],
      "execution_count": 0,
      "outputs": []
    },
    {
      "cell_type": "code",
      "metadata": {
        "id": "bhWHUo3WWLVb",
        "colab_type": "code",
        "colab": {}
      },
      "source": [
        "os.mkdir('/content/predFS/input')\n",
        "!mv item_categories.csv /content/predFS/input\n",
        "!mv sales_train.csv.zip /content/predFS/input\n",
        "!mv shops.csv /content/predFS/input\n",
        "!mv items.csv.zip /content/predFS/input\n",
        "!mv sample_submission.csv.zip /content/predFS/input\n",
        "!mv test.csv.zip /content/predFS/input"
      ],
      "execution_count": 0,
      "outputs": []
    },
    {
      "cell_type": "code",
      "metadata": {
        "id": "mPkyojrcYSYV",
        "colab_type": "code",
        "colab": {}
      },
      "source": [
        "os.chdir('/content/predFS/input')\n",
        "!unzip sales_train.csv.zip \n",
        "!unzip items.csv.zip\n",
        "!unzip sample_submission.csv.zip\n",
        "!unzip test.csv.zip\n"
      ],
      "execution_count": 0,
      "outputs": []
    },
    {
      "cell_type": "code",
      "metadata": {
        "id": "KdZUnt3iVBha",
        "colab_type": "code",
        "colab": {}
      },
      "source": [
        "#https://www.kaggle.com/dlarionov/feature-engineering-xgboost\n",
        "\n",
        "# feature engineering\n",
        "import numpy as np\n",
        "import pandas as pd\n",
        "pd.set_option('display.max_rows', 500)\n",
        "pd.set_option('display.max_columns', 100)\n",
        "\n",
        "from itertools import product\n",
        "from sklearn.preprocessing import LabelEncoder\n",
        "\n",
        "import seaborn as sns\n",
        "import matplotlib.pyplot as plt\n",
        "%matplotlib inline\n",
        "\n",
        "from xgboost import XGBRegressor\n",
        "from xgboost import plot_importance\n",
        "\n",
        "def plot_features(booster, figsize):    \n",
        "    fig, ax = plt.subplots(1,1,figsize=figsize)\n",
        "    return plot_importance(booster=booster, ax=ax)\n",
        "\n",
        "import time\n",
        "import sys\n",
        "import gc\n",
        "import pickle\n",
        "sys.version_info"
      ],
      "execution_count": 0,
      "outputs": []
    },
    {
      "cell_type": "code",
      "metadata": {
        "id": "uOiXX_RtVoh4",
        "colab_type": "code",
        "colab": {}
      },
      "source": [
        "items = pd.read_csv('../input/items.csv')\n",
        "shops = pd.read_csv('../input/shops.csv')\n",
        "cats = pd.read_csv('../input/item_categories.csv')\n",
        "train = pd.read_csv('../input/sales_train.csv')\n",
        "# set index to ID to avoid droping it later\n",
        "test  = pd.read_csv('../input/test.csv').set_index('ID')"
      ],
      "execution_count": 0,
      "outputs": []
    },
    {
      "cell_type": "markdown",
      "metadata": {
        "id": "E9TpFqAw7nbc",
        "colab_type": "text"
      },
      "source": [
        "**Data Field**\n",
        "\n",
        "**ID** - an Id that represents a (Shop, Item) tuple within the test set\n",
        "\n",
        "**shop_id** - unique identifier of a shop\n",
        "\n",
        "**item_id** - unique identifier of a product\n",
        "\n",
        "**item_category_id** - unique identifier of item category\n",
        "\n",
        "**item_cnt_day** - number of products sold. You are predicting a monthly amount of this measure\n",
        "\n",
        "**item_price** - current price of an item\n",
        "\n",
        "**date** - date in format dd/mm/yyyy\n",
        "\n",
        "**date_block_num** - a consecutive month number, used for convenience. January 2013 is 0, February 2013 is 1,..., October 2015 is 33\n",
        "\n",
        "**item_name** - name of item\n",
        "\n",
        "**shop_name** - name of shop\n",
        "\n",
        "**item_category_name** - name of item category"
      ]
    },
    {
      "cell_type": "code",
      "metadata": {
        "id": "h1t1y9wVaQLi",
        "colab_type": "code",
        "colab": {}
      },
      "source": [
        "train.head()"
      ],
      "execution_count": 0,
      "outputs": []
    },
    {
      "cell_type": "code",
      "metadata": {
        "id": "2dJW4DRraSEX",
        "colab_type": "code",
        "colab": {}
      },
      "source": [
        "# outlier 찾기\n",
        "plt.figure(figsize=(10,4)) # 그래프 판 사이즈\n",
        "plt.xlim(-100, 3000) # x 좌표 설정\n",
        "sns.boxplot(x=train.item_cnt_day) # 어떤 샵의 어떤 제품의 어떤 날짜 1일 판매량 박스 플롯으로\n",
        "\n",
        "plt.figure(figsize=(10,4))\n",
        "plt.xlim(train.item_price.min(), train.item_price.max()*1.1) # x 좌표 설정, 가격 최소값과 최대값을 직접 입력\n",
        "sns.boxplot(x=train.item_price) # 제품 가격 박스 플롯"
      ],
      "execution_count": 0,
      "outputs": []
    },
    {
      "cell_type": "code",
      "metadata": {
        "id": "hdVDFTcOc60R",
        "colab_type": "code",
        "colab": {}
      },
      "source": [
        "#outlier 제거\n",
        "train = train[train.item_price<100000]  # 가격 100000 미만\n",
        "train = train[train.item_cnt_day<1001]  # 하루 판매량 1000 이하"
      ],
      "execution_count": 0,
      "outputs": []
    },
    {
      "cell_type": "code",
      "metadata": {
        "id": "3YM66xQLtcbw",
        "colab_type": "code",
        "colab": {}
      },
      "source": [
        "# 결측값 채우기\n",
        "median = train[(train.shop_id==32)&(train.item_id==2973)&(train.date_block_num==4)&(train.item_price>0)].item_price.median()\n",
        "# 가격 외 위 조건의 항목 중 가격이 음의 값이 존재하며, 이를 같은 조건을 가진 다른 케이스들의 중앙값(median)으로 채움\n",
        "train.loc[train.item_price<0, 'item_price'] = median \n",
        "# loc 다음은 행 값, 열 값을 줄 수 있음. 이 케이스의 경우 가격이 음인 케이스는 하나이므로 행조건에 별다른 조건을 걸지 않음"
      ],
      "execution_count": 0,
      "outputs": []
    },
    {
      "cell_type": "code",
      "metadata": {
        "id": "7ruL0zKmy1qg",
        "colab_type": "code",
        "colab": {}
      },
      "source": [
        "shops"
      ],
      "execution_count": 0,
      "outputs": []
    },
    {
      "cell_type": "code",
      "metadata": {
        "id": "DxVEkNKivEXz",
        "colab_type": "code",
        "colab": {}
      },
      "source": [
        "# 같은 가게를 다르게 입력한 케이스 통합, 단순 데이터 중복이 아닌 내용적 중복을 잡은 것이지만 그냥 스킬적으로만 알자\n",
        "# Якутск Орджоникидзе, 56\n",
        "train.loc[train.shop_id == 0, 'shop_id'] = 57\n",
        "test.loc[test.shop_id == 0, 'shop_id'] = 57\n",
        "# Якутск ТЦ \"Центральный\"\n",
        "train.loc[train.shop_id == 1, 'shop_id'] = 58\n",
        "test.loc[test.shop_id == 1, 'shop_id'] = 58\n",
        "# Жуковский ул. Чкалова 39м²\n",
        "train.loc[train.shop_id == 10, 'shop_id'] = 11\n",
        "test.loc[test.shop_id == 10, 'shop_id'] = 11"
      ],
      "execution_count": 0,
      "outputs": []
    },
    {
      "cell_type": "code",
      "metadata": {
        "id": "6EOkqAlv5AVi",
        "colab_type": "code",
        "colab": {}
      },
      "source": [
        "# \n",
        "shops.loc[shops.shop_name == 'Сергиев Посад ТЦ \"7Я\"', 'shop_name'] = 'СергиевПосад ТЦ \"7Я\"'\n",
        "shops['city'] = shops['shop_name'].str.split(' ').map(lambda x: x[0])\n",
        "shops.loc[shops.city == '!Якутск', 'city'] = 'Якутск'\n",
        "shops['city_code'] = LabelEncoder().fit_transform(shops['city'])\n",
        "shops = shops[['shop_id','city_code']]\n",
        "\n",
        "cats['split'] = cats['item_category_name'].str.split('-')\n",
        "cats['type'] = cats['split'].map(lambda x: x[0].strip())\n",
        "cats['type_code'] = LabelEncoder().fit_transform(cats['type'])\n",
        "# if subtype is nan then type\n",
        "cats['subtype'] = cats['split'].map(lambda x: x[1].strip() if len(x) > 1 else x[0].strip())\n",
        "cats['subtype_code'] = LabelEncoder().fit_transform(cats['subtype'])\n",
        "cats = cats[['item_category_id','type_code', 'subtype_code']]\n",
        "\n",
        "items.drop(['item_name'], axis=1, inplace=True)"
      ],
      "execution_count": 0,
      "outputs": []
    }
  ]
}