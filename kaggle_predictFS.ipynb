{
  "nbformat": 4,
  "nbformat_minor": 0,
  "metadata": {
    "colab": {
      "name": "Untitled17.ipynb",
      "provenance": [],
      "include_colab_link": true
    },
    "kernelspec": {
      "name": "python3",
      "display_name": "Python 3"
    }
  },
  "cells": [
    {
      "cell_type": "markdown",
      "metadata": {
        "id": "view-in-github",
        "colab_type": "text"
      },
      "source": [
        "<a href=\"https://colab.research.google.com/github/moonjune/test-repo/blob/master/kaggle_predictFS.ipynb\" target=\"_parent\"><img src=\"https://colab.research.google.com/assets/colab-badge.svg\" alt=\"Open In Colab\"/></a>"
      ]
    },
    {
      "cell_type": "code",
      "metadata": {
        "id": "uzW2vUTRkm6z",
        "colab_type": "code",
        "colab": {
          "base_uri": "https://localhost:8080/",
          "height": 146
        },
        "outputId": "be28645a-0396-421c-e1b0-53a9d2aa35b4"
      },
      "source": [
        "try:\n",
        "    from google.colab import drive\n",
        "    drive.mount('/content/drive', force_remount=True)\n",
        "    COLAB = True\n",
        "    print(\"Note: using Google CoLab\")\n",
        "    %tensorflow_version 2.x\n",
        "except:\n",
        "    print(\"Note: not using Google CoLab\")\n",
        "    COLAB = False"
      ],
      "execution_count": 2,
      "outputs": [
        {
          "output_type": "stream",
          "text": [
            "Go to this URL in a browser: https://accounts.google.com/o/oauth2/auth?client_id=947318989803-6bn6qk8qdgf4n4g3pfee6491hc0brc4i.apps.googleusercontent.com&redirect_uri=urn%3aietf%3awg%3aoauth%3a2.0%3aoob&response_type=code&scope=email%20https%3a%2f%2fwww.googleapis.com%2fauth%2fdocs.test%20https%3a%2f%2fwww.googleapis.com%2fauth%2fdrive%20https%3a%2f%2fwww.googleapis.com%2fauth%2fdrive.photos.readonly%20https%3a%2f%2fwww.googleapis.com%2fauth%2fpeopleapi.readonly\n",
            "\n",
            "Enter your authorization code:\n",
            "··········\n",
            "Mounted at /content/drive\n",
            "Note: using Google CoLab\n"
          ],
          "name": "stdout"
        }
      ]
    },
    {
      "cell_type": "code",
      "metadata": {
        "id": "gOa_6fKNlDhi",
        "colab_type": "code",
        "colab": {}
      },
      "source": [
        "import os\n",
        "os.chdir('/content/drive/My Drive/colab')\n",
        "!cp kaggle.json /content"
      ],
      "execution_count": 0,
      "outputs": []
    },
    {
      "cell_type": "code",
      "metadata": {
        "id": "KFKRnNmMPvUd",
        "colab_type": "code",
        "colab": {
          "base_uri": "https://localhost:8080/",
          "height": 216
        },
        "outputId": "8b3702cb-b931-4820-ffe5-449271530492"
      },
      "source": [
        "os.chdir('/content/')\n",
        "# kaggle_Predint_Future_Sales\n",
        "!pip install kaggle"
      ],
      "execution_count": 4,
      "outputs": [
        {
          "output_type": "stream",
          "text": [
            "Requirement already satisfied: kaggle in /usr/local/lib/python3.6/dist-packages (1.5.6)\n",
            "Requirement already satisfied: python-dateutil in /usr/local/lib/python3.6/dist-packages (from kaggle) (2.8.1)\n",
            "Requirement already satisfied: python-slugify in /usr/local/lib/python3.6/dist-packages (from kaggle) (4.0.0)\n",
            "Requirement already satisfied: requests in /usr/local/lib/python3.6/dist-packages (from kaggle) (2.23.0)\n",
            "Requirement already satisfied: tqdm in /usr/local/lib/python3.6/dist-packages (from kaggle) (4.41.1)\n",
            "Requirement already satisfied: urllib3<1.25,>=1.21.1 in /usr/local/lib/python3.6/dist-packages (from kaggle) (1.24.3)\n",
            "Requirement already satisfied: six>=1.10 in /usr/local/lib/python3.6/dist-packages (from kaggle) (1.12.0)\n",
            "Requirement already satisfied: certifi in /usr/local/lib/python3.6/dist-packages (from kaggle) (2020.4.5.1)\n",
            "Requirement already satisfied: text-unidecode>=1.3 in /usr/local/lib/python3.6/dist-packages (from python-slugify->kaggle) (1.3)\n",
            "Requirement already satisfied: chardet<4,>=3.0.2 in /usr/local/lib/python3.6/dist-packages (from requests->kaggle) (3.0.4)\n",
            "Requirement already satisfied: idna<3,>=2.5 in /usr/local/lib/python3.6/dist-packages (from requests->kaggle) (2.9)\n"
          ],
          "name": "stdout"
        }
      ]
    },
    {
      "cell_type": "code",
      "metadata": {
        "id": "4RTZo58NlMuZ",
        "colab_type": "code",
        "colab": {
          "base_uri": "https://localhost:8080/",
          "height": 236
        },
        "outputId": "cf654113-24c8-4dfe-e3a2-40ce43bfdd93"
      },
      "source": [
        "!pip install kaggle --upgrade"
      ],
      "execution_count": 5,
      "outputs": [
        {
          "output_type": "stream",
          "text": [
            "Requirement already up-to-date: kaggle in /usr/local/lib/python3.6/dist-packages (1.5.6)\n",
            "Requirement already satisfied, skipping upgrade: requests in /usr/local/lib/python3.6/dist-packages (from kaggle) (2.23.0)\n",
            "Requirement already satisfied, skipping upgrade: urllib3<1.25,>=1.21.1 in /usr/local/lib/python3.6/dist-packages (from kaggle) (1.24.3)\n",
            "Requirement already satisfied, skipping upgrade: tqdm in /usr/local/lib/python3.6/dist-packages (from kaggle) (4.41.1)\n",
            "Requirement already satisfied, skipping upgrade: six>=1.10 in /usr/local/lib/python3.6/dist-packages (from kaggle) (1.12.0)\n",
            "Requirement already satisfied, skipping upgrade: certifi in /usr/local/lib/python3.6/dist-packages (from kaggle) (2020.4.5.1)\n",
            "Requirement already satisfied, skipping upgrade: python-slugify in /usr/local/lib/python3.6/dist-packages (from kaggle) (4.0.0)\n",
            "Requirement already satisfied, skipping upgrade: python-dateutil in /usr/local/lib/python3.6/dist-packages (from kaggle) (2.8.1)\n",
            "Requirement already satisfied, skipping upgrade: chardet<4,>=3.0.2 in /usr/local/lib/python3.6/dist-packages (from requests->kaggle) (3.0.4)\n",
            "Requirement already satisfied, skipping upgrade: idna<3,>=2.5 in /usr/local/lib/python3.6/dist-packages (from requests->kaggle) (2.9)\n",
            "Requirement already satisfied, skipping upgrade: text-unidecode>=1.3 in /usr/local/lib/python3.6/dist-packages (from python-slugify->kaggle) (1.3)\n"
          ],
          "name": "stdout"
        }
      ]
    },
    {
      "cell_type": "code",
      "metadata": {
        "id": "LJyDPlaKRI6k",
        "colab_type": "code",
        "colab": {
          "base_uri": "https://localhost:8080/",
          "height": 35
        },
        "outputId": "2093f46c-55ab-4752-cfd6-0ea25c74e931"
      },
      "source": [
        "os.chdir('/content')\n",
        "!ls -1ha kaggle.json"
      ],
      "execution_count": 6,
      "outputs": [
        {
          "output_type": "stream",
          "text": [
            "kaggle.json\n"
          ],
          "name": "stdout"
        }
      ]
    },
    {
      "cell_type": "code",
      "metadata": {
        "id": "r4gOJl6YUQUm",
        "colab_type": "code",
        "colab": {}
      },
      "source": [
        "!mkdir -p ~/.kaggle\n",
        "!cp kaggle.json ~/.kaggle/\n",
        "# Permission Warning 이 일어나지 않도록 \n",
        "!chmod 600 ~/.kaggle/kaggle.json"
      ],
      "execution_count": 0,
      "outputs": []
    },
    {
      "cell_type": "code",
      "metadata": {
        "id": "GYgaajKdU3cb",
        "colab_type": "code",
        "colab": {}
      },
      "source": [
        "import os\n",
        "if not os.path.exists('/content/predFS/'):\n",
        "  os.mkdir('/content/predFS/')\n",
        "os.chdir('/content/predFS/')"
      ],
      "execution_count": 0,
      "outputs": []
    },
    {
      "cell_type": "code",
      "metadata": {
        "id": "H3rqjNbwURVX",
        "colab_type": "code",
        "colab": {
          "base_uri": "https://localhost:8080/",
          "height": 361
        },
        "outputId": "697ead33-746c-469c-f70e-f4a4a97d1db1"
      },
      "source": [
        "!kaggle competitions download -c competitive-data-science-predict-future-sales"
      ],
      "execution_count": 9,
      "outputs": [
        {
          "output_type": "stream",
          "text": [
            "Warning: Looks like you're using an outdated API Version, please consider updating (server 1.5.6 / client 1.5.4)\n",
            "Downloading test.csv.zip to /content/predFS\n",
            "  0% 0.00/1.02M [00:00<?, ?B/s]\n",
            "100% 1.02M/1.02M [00:00<00:00, 69.5MB/s]\n",
            "Downloading sales_train.csv.zip to /content/predFS\n",
            " 68% 9.00M/13.3M [00:00<00:00, 14.3MB/s]\n",
            "100% 13.3M/13.3M [00:00<00:00, 19.4MB/s]\n",
            "Downloading sample_submission.csv.zip to /content/predFS\n",
            "  0% 0.00/468k [00:00<?, ?B/s]\n",
            "100% 468k/468k [00:00<00:00, 142MB/s]\n",
            "Downloading item_categories.csv to /content/predFS\n",
            "  0% 0.00/3.49k [00:00<?, ?B/s]\n",
            "100% 3.49k/3.49k [00:00<00:00, 3.62MB/s]\n",
            "Downloading shops.csv to /content/predFS\n",
            "  0% 0.00/2.91k [00:00<?, ?B/s]\n",
            "100% 2.91k/2.91k [00:00<00:00, 2.88MB/s]\n",
            "Downloading items.csv.zip to /content/predFS\n",
            "  0% 0.00/368k [00:00<?, ?B/s]\n",
            "100% 368k/368k [00:00<00:00, 114MB/s]\n"
          ],
          "name": "stdout"
        }
      ]
    },
    {
      "cell_type": "code",
      "metadata": {
        "id": "2l8liIoRWHWW",
        "colab_type": "code",
        "colab": {
          "base_uri": "https://localhost:8080/",
          "height": 53
        },
        "outputId": "860ee1aa-d7bc-4598-fa30-8e2398b86493"
      },
      "source": [
        "os.chdir('/content/predFS/')\n",
        "!ls"
      ],
      "execution_count": 10,
      "outputs": [
        {
          "output_type": "stream",
          "text": [
            "item_categories.csv  sales_train.csv.zip\tshops.csv\n",
            "items.csv.zip\t     sample_submission.csv.zip\ttest.csv.zip\n"
          ],
          "name": "stdout"
        }
      ]
    },
    {
      "cell_type": "code",
      "metadata": {
        "id": "HURQEwZ7jAyc",
        "colab_type": "code",
        "colab": {
          "base_uri": "https://localhost:8080/",
          "height": 53
        },
        "outputId": "1ec9d052-26da-43b8-8d17-1d1800c9e7ce"
      },
      "source": [
        "!kaggle config"
      ],
      "execution_count": 11,
      "outputs": [
        {
          "output_type": "stream",
          "text": [
            "usage: kaggle config [-h] {view,set,unset} ...\n",
            "kaggle config: error: too few arguments\n"
          ],
          "name": "stdout"
        }
      ]
    },
    {
      "cell_type": "code",
      "metadata": {
        "id": "bhWHUo3WWLVb",
        "colab_type": "code",
        "colab": {}
      },
      "source": [
        "if not os.path.exists('/content/predFS/input'):\n",
        "  os.mkdir('/content/predFS/input')\n",
        "!mv item_categories.csv /content/predFS/input\n",
        "!mv sales_train.csv.zip /content/predFS/input\n",
        "!mv shops.csv /content/predFS/input\n",
        "!mv items.csv.zip /content/predFS/input\n",
        "!mv sample_submission.csv.zip /content/predFS/input\n",
        "!mv test.csv.zip /content/predFS/input"
      ],
      "execution_count": 0,
      "outputs": []
    },
    {
      "cell_type": "code",
      "metadata": {
        "id": "mPkyojrcYSYV",
        "colab_type": "code",
        "colab": {
          "base_uri": "https://localhost:8080/",
          "height": 162
        },
        "outputId": "8fecdd2a-db5c-4c59-e52b-e8e1862424ff"
      },
      "source": [
        "os.chdir('/content/predFS/input')\n",
        "!unzip sales_train.csv.zip \n",
        "!unzip items.csv.zip\n",
        "!unzip sample_submission.csv.zip\n",
        "!unzip test.csv.zip\n"
      ],
      "execution_count": 13,
      "outputs": [
        {
          "output_type": "stream",
          "text": [
            "Archive:  sales_train.csv.zip\n",
            "  inflating: sales_train.csv         \n",
            "Archive:  items.csv.zip\n",
            "  inflating: items.csv               \n",
            "Archive:  sample_submission.csv.zip\n",
            "  inflating: sample_submission.csv   \n",
            "Archive:  test.csv.zip\n",
            "  inflating: test.csv                \n"
          ],
          "name": "stdout"
        }
      ]
    },
    {
      "cell_type": "code",
      "metadata": {
        "id": "KdZUnt3iVBha",
        "colab_type": "code",
        "colab": {
          "base_uri": "https://localhost:8080/",
          "height": 91
        },
        "outputId": "fc56a4a2-dc8b-4e33-b188-4bbf5c0038dd"
      },
      "source": [
        "#https://www.kaggle.com/dlarionov/feature-engineering-xgboost\n",
        "\n",
        "# feature engineering\n",
        "import numpy as np\n",
        "import pandas as pd\n",
        "pd.set_option('display.max_rows', 500)\n",
        "pd.set_option('display.max_columns', 100)\n",
        "\n",
        "from itertools import product\n",
        "from sklearn.preprocessing import LabelEncoder\n",
        "\n",
        "import seaborn as sns\n",
        "import matplotlib.pyplot as plt\n",
        "%matplotlib inline\n",
        "\n",
        "from xgboost import XGBRegressor\n",
        "from xgboost import plot_importance\n",
        "\n",
        "def plot_features(booster, figsize):    \n",
        "    fig, ax = plt.subplots(1,1,figsize=figsize)\n",
        "    return plot_importance(booster=booster, ax=ax)\n",
        "\n",
        "import time\n",
        "import sys\n",
        "import gc\n",
        "import pickle\n",
        "sys.version_info"
      ],
      "execution_count": 14,
      "outputs": [
        {
          "output_type": "stream",
          "text": [
            "/usr/local/lib/python3.6/dist-packages/statsmodels/tools/_testing.py:19: FutureWarning: pandas.util.testing is deprecated. Use the functions in the public API at pandas.testing instead.\n",
            "  import pandas.util.testing as tm\n"
          ],
          "name": "stderr"
        },
        {
          "output_type": "execute_result",
          "data": {
            "text/plain": [
              "sys.version_info(major=3, minor=6, micro=9, releaselevel='final', serial=0)"
            ]
          },
          "metadata": {
            "tags": []
          },
          "execution_count": 14
        }
      ]
    },
    {
      "cell_type": "code",
      "metadata": {
        "id": "uOiXX_RtVoh4",
        "colab_type": "code",
        "colab": {}
      },
      "source": [
        "items = pd.read_csv('../input/items.csv')\n",
        "shops = pd.read_csv('../input/shops.csv')\n",
        "cats = pd.read_csv('../input/item_categories.csv')\n",
        "train = pd.read_csv('../input/sales_train.csv')\n",
        "# set index to ID to avoid droping it later\n",
        "test  = pd.read_csv('../input/test.csv').set_index('ID')"
      ],
      "execution_count": 0,
      "outputs": []
    },
    {
      "cell_type": "markdown",
      "metadata": {
        "id": "E9TpFqAw7nbc",
        "colab_type": "text"
      },
      "source": [
        "**Data Field**\n",
        "\n",
        "**ID** - an Id that represents a (Shop, Item) tuple within the test set\n",
        "\n",
        "**shop_id** - unique identifier of a shop\n",
        "\n",
        "**item_id** - unique identifier of a product\n",
        "\n",
        "**item_category_id** - unique identifier of item category\n",
        "\n",
        "**item_cnt_day** - number of products sold. You are predicting a monthly amount of this measure\n",
        "\n",
        "**item_price** - current price of an item\n",
        "\n",
        "**date** - date in format dd/mm/yyyy\n",
        "\n",
        "**date_block_num** - a consecutive month number, used for convenience. January 2013 is 0, February 2013 is 1,..., October 2015 is 33\n",
        "\n",
        "**item_name** - name of item\n",
        "\n",
        "**shop_name** - name of shop\n",
        "\n",
        "**item_category_name** - name of item category"
      ]
    },
    {
      "cell_type": "code",
      "metadata": {
        "id": "h1t1y9wVaQLi",
        "colab_type": "code",
        "colab": {
          "base_uri": "https://localhost:8080/",
          "height": 203
        },
        "outputId": "5bf1c764-f13c-4a36-cad9-bcd6b8db4652"
      },
      "source": [
        "train.head()"
      ],
      "execution_count": 16,
      "outputs": [
        {
          "output_type": "execute_result",
          "data": {
            "text/html": [
              "<div>\n",
              "<style scoped>\n",
              "    .dataframe tbody tr th:only-of-type {\n",
              "        vertical-align: middle;\n",
              "    }\n",
              "\n",
              "    .dataframe tbody tr th {\n",
              "        vertical-align: top;\n",
              "    }\n",
              "\n",
              "    .dataframe thead th {\n",
              "        text-align: right;\n",
              "    }\n",
              "</style>\n",
              "<table border=\"1\" class=\"dataframe\">\n",
              "  <thead>\n",
              "    <tr style=\"text-align: right;\">\n",
              "      <th></th>\n",
              "      <th>date</th>\n",
              "      <th>date_block_num</th>\n",
              "      <th>shop_id</th>\n",
              "      <th>item_id</th>\n",
              "      <th>item_price</th>\n",
              "      <th>item_cnt_day</th>\n",
              "    </tr>\n",
              "  </thead>\n",
              "  <tbody>\n",
              "    <tr>\n",
              "      <th>0</th>\n",
              "      <td>02.01.2013</td>\n",
              "      <td>0</td>\n",
              "      <td>59</td>\n",
              "      <td>22154</td>\n",
              "      <td>999.00</td>\n",
              "      <td>1.0</td>\n",
              "    </tr>\n",
              "    <tr>\n",
              "      <th>1</th>\n",
              "      <td>03.01.2013</td>\n",
              "      <td>0</td>\n",
              "      <td>25</td>\n",
              "      <td>2552</td>\n",
              "      <td>899.00</td>\n",
              "      <td>1.0</td>\n",
              "    </tr>\n",
              "    <tr>\n",
              "      <th>2</th>\n",
              "      <td>05.01.2013</td>\n",
              "      <td>0</td>\n",
              "      <td>25</td>\n",
              "      <td>2552</td>\n",
              "      <td>899.00</td>\n",
              "      <td>-1.0</td>\n",
              "    </tr>\n",
              "    <tr>\n",
              "      <th>3</th>\n",
              "      <td>06.01.2013</td>\n",
              "      <td>0</td>\n",
              "      <td>25</td>\n",
              "      <td>2554</td>\n",
              "      <td>1709.05</td>\n",
              "      <td>1.0</td>\n",
              "    </tr>\n",
              "    <tr>\n",
              "      <th>4</th>\n",
              "      <td>15.01.2013</td>\n",
              "      <td>0</td>\n",
              "      <td>25</td>\n",
              "      <td>2555</td>\n",
              "      <td>1099.00</td>\n",
              "      <td>1.0</td>\n",
              "    </tr>\n",
              "  </tbody>\n",
              "</table>\n",
              "</div>"
            ],
            "text/plain": [
              "         date  date_block_num  shop_id  item_id  item_price  item_cnt_day\n",
              "0  02.01.2013               0       59    22154      999.00           1.0\n",
              "1  03.01.2013               0       25     2552      899.00           1.0\n",
              "2  05.01.2013               0       25     2552      899.00          -1.0\n",
              "3  06.01.2013               0       25     2554     1709.05           1.0\n",
              "4  15.01.2013               0       25     2555     1099.00           1.0"
            ]
          },
          "metadata": {
            "tags": []
          },
          "execution_count": 16
        }
      ]
    },
    {
      "cell_type": "code",
      "metadata": {
        "id": "2dJW4DRraSEX",
        "colab_type": "code",
        "colab": {
          "base_uri": "https://localhost:8080/",
          "height": 561
        },
        "outputId": "6929825b-0b42-4229-d68a-74b604e0cd00"
      },
      "source": [
        "# outlier 찾기\n",
        "plt.figure(figsize=(10,4)) # 그래프 판 사이즈\n",
        "plt.xlim(-100, 3000) # x 좌표 설정\n",
        "sns.boxplot(x=train.item_cnt_day) # 어떤 샵의 어떤 제품의 어떤 날짜 1일 판매량 박스 플롯으로\n",
        "\n",
        "plt.figure(figsize=(10,4))\n",
        "plt.xlim(train.item_price.min(), train.item_price.max()*1.1) # x 좌표 설정, 가격 최소값과 최대값을 직접 입력\n",
        "sns.boxplot(x=train.item_price) # 제품 가격 박스 플롯"
      ],
      "execution_count": 17,
      "outputs": [
        {
          "output_type": "execute_result",
          "data": {
            "text/plain": [
              "<matplotlib.axes._subplots.AxesSubplot at 0x7f1bf6b9c630>"
            ]
          },
          "metadata": {
            "tags": []
          },
          "execution_count": 17
        },
        {
          "output_type": "display_data",
          "data": {
            "image/png": "[encoded data removed]",
            "text/plain": [
              "<Figure size 720x288 with 1 Axes>"
            ]
          },
          "metadata": {
            "tags": [],
            "needs_background": "light"
          }
        },
        {
          "output_type": "display_data",
          "data": {
            "image/png": "[encoded data removed]",
            "text/plain": [
              "<Figure size 720x288 with 1 Axes>"
            ]
          },
          "metadata": {
            "tags": [],
            "needs_background": "light"
          }
        }
      ]
    },
    {
      "cell_type": "code",
      "metadata": {
        "id": "hdVDFTcOc60R",
        "colab_type": "code",
        "colab": {}
      },
      "source": [
        "#outlier 제거\n",
        "train = train[train.item_price<100000]  # 가격 100000 미만\n",
        "train = train[train.item_cnt_day<1001]  # 하루 판매량 1000 이하"
      ],
      "execution_count": 0,
      "outputs": []
    },
    {
      "cell_type": "code",
      "metadata": {
        "id": "3YM66xQLtcbw",
        "colab_type": "code",
        "colab": {}
      },
      "source": [
        "# 결측값 채우기\n",
        "median = train[(train.shop_id==32)&(train.item_id==2973)&(train.date_block_num==4)&(train.item_price>0)].item_price.median()\n",
        "# 가격 외 위 조건의 항목 중 가격이 음의 값이 존재하며, 이를 같은 조건을 가진 다른 케이스들의 중앙값(median)으로 채움\n",
        "train.loc[train.item_price<0, 'item_price'] = median \n",
        "# loc 다음은 행 값, 열 값을 줄 수 있음. 이 케이스의 경우 가격이 음인 케이스는 하나이므로 행조건에 별다른 조건을 걸지 않음"
      ],
      "execution_count": 0,
      "outputs": []
    },
    {
      "cell_type": "code",
      "metadata": {
        "id": "7ruL0zKmy1qg",
        "colab_type": "code",
        "colab": {
          "base_uri": "https://localhost:8080/",
          "height": 667
        },
        "outputId": "eb763807-db11-4d24-d5bf-b17d8c8d1157"
      },
      "source": [
        "cats[:20]"
      ],
      "execution_count": 20,
      "outputs": [
        {
          "output_type": "execute_result",
          "data": {
            "text/html": [
              "<div>\n",
              "<style scoped>\n",
              "    .dataframe tbody tr th:only-of-type {\n",
              "        vertical-align: middle;\n",
              "    }\n",
              "\n",
              "    .dataframe tbody tr th {\n",
              "        vertical-align: top;\n",
              "    }\n",
              "\n",
              "    .dataframe thead th {\n",
              "        text-align: right;\n",
              "    }\n",
              "</style>\n",
              "<table border=\"1\" class=\"dataframe\">\n",
              "  <thead>\n",
              "    <tr style=\"text-align: right;\">\n",
              "      <th></th>\n",
              "      <th>item_category_name</th>\n",
              "      <th>item_category_id</th>\n",
              "    </tr>\n",
              "  </thead>\n",
              "  <tbody>\n",
              "    <tr>\n",
              "      <th>0</th>\n",
              "      <td>PC - Гарнитуры/Наушники</td>\n",
              "      <td>0</td>\n",
              "    </tr>\n",
              "    <tr>\n",
              "      <th>1</th>\n",
              "      <td>Аксессуары - PS2</td>\n",
              "      <td>1</td>\n",
              "    </tr>\n",
              "    <tr>\n",
              "      <th>2</th>\n",
              "      <td>Аксессуары - PS3</td>\n",
              "      <td>2</td>\n",
              "    </tr>\n",
              "    <tr>\n",
              "      <th>3</th>\n",
              "      <td>Аксессуары - PS4</td>\n",
              "      <td>3</td>\n",
              "    </tr>\n",
              "    <tr>\n",
              "      <th>4</th>\n",
              "      <td>Аксессуары - PSP</td>\n",
              "      <td>4</td>\n",
              "    </tr>\n",
              "    <tr>\n",
              "      <th>5</th>\n",
              "      <td>Аксессуары - PSVita</td>\n",
              "      <td>5</td>\n",
              "    </tr>\n",
              "    <tr>\n",
              "      <th>6</th>\n",
              "      <td>Аксессуары - XBOX 360</td>\n",
              "      <td>6</td>\n",
              "    </tr>\n",
              "    <tr>\n",
              "      <th>7</th>\n",
              "      <td>Аксессуары - XBOX ONE</td>\n",
              "      <td>7</td>\n",
              "    </tr>\n",
              "    <tr>\n",
              "      <th>8</th>\n",
              "      <td>Билеты (Цифра)</td>\n",
              "      <td>8</td>\n",
              "    </tr>\n",
              "    <tr>\n",
              "      <th>9</th>\n",
              "      <td>Доставка товара</td>\n",
              "      <td>9</td>\n",
              "    </tr>\n",
              "    <tr>\n",
              "      <th>10</th>\n",
              "      <td>Игровые консоли - PS2</td>\n",
              "      <td>10</td>\n",
              "    </tr>\n",
              "    <tr>\n",
              "      <th>11</th>\n",
              "      <td>Игровые консоли - PS3</td>\n",
              "      <td>11</td>\n",
              "    </tr>\n",
              "    <tr>\n",
              "      <th>12</th>\n",
              "      <td>Игровые консоли - PS4</td>\n",
              "      <td>12</td>\n",
              "    </tr>\n",
              "    <tr>\n",
              "      <th>13</th>\n",
              "      <td>Игровые консоли - PSP</td>\n",
              "      <td>13</td>\n",
              "    </tr>\n",
              "    <tr>\n",
              "      <th>14</th>\n",
              "      <td>Игровые консоли - PSVita</td>\n",
              "      <td>14</td>\n",
              "    </tr>\n",
              "    <tr>\n",
              "      <th>15</th>\n",
              "      <td>Игровые консоли - XBOX 360</td>\n",
              "      <td>15</td>\n",
              "    </tr>\n",
              "    <tr>\n",
              "      <th>16</th>\n",
              "      <td>Игровые консоли - XBOX ONE</td>\n",
              "      <td>16</td>\n",
              "    </tr>\n",
              "    <tr>\n",
              "      <th>17</th>\n",
              "      <td>Игровые консоли - Прочие</td>\n",
              "      <td>17</td>\n",
              "    </tr>\n",
              "    <tr>\n",
              "      <th>18</th>\n",
              "      <td>Игры - PS2</td>\n",
              "      <td>18</td>\n",
              "    </tr>\n",
              "    <tr>\n",
              "      <th>19</th>\n",
              "      <td>Игры - PS3</td>\n",
              "      <td>19</td>\n",
              "    </tr>\n",
              "  </tbody>\n",
              "</table>\n",
              "</div>"
            ],
            "text/plain": [
              "            item_category_name  item_category_id\n",
              "0      PC - Гарнитуры/Наушники                 0\n",
              "1             Аксессуары - PS2                 1\n",
              "2             Аксессуары - PS3                 2\n",
              "3             Аксессуары - PS4                 3\n",
              "4             Аксессуары - PSP                 4\n",
              "5          Аксессуары - PSVita                 5\n",
              "6        Аксессуары - XBOX 360                 6\n",
              "7        Аксессуары - XBOX ONE                 7\n",
              "8               Билеты (Цифра)                 8\n",
              "9              Доставка товара                 9\n",
              "10       Игровые консоли - PS2                10\n",
              "11       Игровые консоли - PS3                11\n",
              "12       Игровые консоли - PS4                12\n",
              "13       Игровые консоли - PSP                13\n",
              "14    Игровые консоли - PSVita                14\n",
              "15  Игровые консоли - XBOX 360                15\n",
              "16  Игровые консоли - XBOX ONE                16\n",
              "17    Игровые консоли - Прочие                17\n",
              "18                  Игры - PS2                18\n",
              "19                  Игры - PS3                19"
            ]
          },
          "metadata": {
            "tags": []
          },
          "execution_count": 20
        }
      ]
    },
    {
      "cell_type": "code",
      "metadata": {
        "id": "DxVEkNKivEXz",
        "colab_type": "code",
        "colab": {}
      },
      "source": [
        "# 같은 가게를 다르게 입력한 케이스 통합, 단순 데이터 중복이 아닌 내용적 중복을 잡은 것이지만 그냥 스킬적으로만 알자\n",
        "# Якутск Орджоникидзе, 56\n",
        "train.loc[train.shop_id == 0, 'shop_id'] = 57\n",
        "test.loc[test.shop_id == 0, 'shop_id'] = 57\n",
        "# Якутск ТЦ \"Центральный\"\n",
        "train.loc[train.shop_id == 1, 'shop_id'] = 58\n",
        "test.loc[test.shop_id == 1, 'shop_id'] = 58\n",
        "# Жуковский ул. Чкалова 39м²\n",
        "train.loc[train.shop_id == 10, 'shop_id'] = 11\n",
        "test.loc[test.shop_id == 10, 'shop_id'] = 11"
      ],
      "execution_count": 0,
      "outputs": []
    },
    {
      "cell_type": "code",
      "metadata": {
        "id": "6EOkqAlv5AVi",
        "colab_type": "code",
        "colab": {}
      },
      "source": [
        "# 신규 특징(도시명, 서브카테고리 명) 생성\n",
        "# 작성자는 가게앞 명칭이 도시명으로 되어 있다는 사실에 착안하여 도시명 생성\n",
        "shops.loc[shops.shop_name == 'Сергиев Посад ТЦ \"7Я\"', 'shop_name'] = 'СергиевПосад ТЦ \"7Я\"'\n",
        "#샵 이름의 도시명 정제\n",
        "shops['city'] = shops['shop_name'].str.split(' ').map(lambda x: x[0]) \n",
        "# shop_name을 ' '으로 스플릿하여 ['도시이름', '샵이름']의 pd.Series가 나오며, map(lambda)의 x는 map앞을 받아 함수처리\n",
        "shops.loc[shops.city == '!Якутск', 'city'] = 'Якутск'\n",
        "# 데이터 정제로 보임(특수문자 제거)\n",
        "shops['city_code'] = LabelEncoder().fit_transform(shops['city'])\n",
        "# sklearn의 함수로 괄호안 이터레이션에 고유값 별 라벨을 만들어주고 해당 값에 따라 라벨을 붙여줌\n",
        "shops = shops[['shop_id','city_code']]\n",
        "# shops 테이블 간소화, 최종적으로 가게 id와 도시이름 code만 남김\n",
        "# 가게명-도시명 관계 확인 -> 앞부분을 이용한 도시명 추출 -> 도시명 정제 -> 도시명 코드화 -> shop_id, city_code로 정리\n",
        "\n",
        "# 상위 카테고리(제품 종류)와 하위 카테고리(브랜드? 종류) 구분\n",
        "cats['split'] = cats['item_category_name'].str.split('-') # -로 연결된 두 개를 분리하여 DF로 남김\n",
        "cats['type'] = cats['split'].map(lambda x: x[0].strip()) # 제품 유형을 type으로 \n",
        "cats['type_code'] = LabelEncoder().fit_transform(cats['type']) # 제품 유형 라벨 붙이기\n",
        "# if subtype is nan then type\n",
        "cats['subtype'] = cats['split'].map(lambda x: x[1].strip() if len(x) > 1 else x[0].strip())  # 브랜드가 없으면 유형으로\n",
        "cats['subtype_code'] = LabelEncoder().fit_transform(cats['subtype'])# 라벨링\n",
        "cats = cats[['item_category_id','type_code', 'subtype_code']] # id와 코드들로만 테이블 정리\n",
        "\n",
        "items.drop(['item_name'], axis=1, inplace=True) # 아이템 id와 카테고리 id만 남김"
      ],
      "execution_count": 0,
      "outputs": []
    },
    {
      "cell_type": "code",
      "metadata": {
        "id": "_4Pau3rlIqxb",
        "colab_type": "code",
        "colab": {
          "base_uri": "https://localhost:8080/",
          "height": 35
        },
        "outputId": "5746bef5-c8a3-4d24-c500-0700c0be6688"
      },
      "source": [
        "#월별 판매량으로 정리\n",
        "len(list(set(test.item_id) - set(test.item_id).intersection(set(train.item_id)))), len(list(set(test.item_id))), len(test)\n",
        "#test 셋에만 존재하는 아이템 종류 수, 테스트에 있는 아이템 종류 총 수, 테스트 총 케이스 수"
      ],
      "execution_count": 23,
      "outputs": [
        {
          "output_type": "execute_result",
          "data": {
            "text/plain": [
              "(363, 5100, 214200)"
            ]
          },
          "metadata": {
            "tags": []
          },
          "execution_count": 23
        }
      ]
    },
    {
      "cell_type": "code",
      "metadata": {
        "id": "OX-tpIY70HeA",
        "colab_type": "code",
        "colab": {
          "base_uri": "https://localhost:8080/",
          "height": 35
        },
        "outputId": "422c2da4-02e1-47e6-cb89-4032a5989abb"
      },
      "source": [
        "ts = time.time() # 셀 시작 시간\n",
        "matrix = [] \n",
        "cols = ['date_block_num','shop_id','item_id']\n",
        "for i in range(34): #훈련 세트의 날짜 블록이 34개\n",
        "    sales = train[train.date_block_num==i] # 날짜 블록별로 DF 생성\n",
        "    matrix.append(np.array(list(product([i], sales.shop_id.unique(), sales.item_id.unique())), dtype='int16'))\n",
        "      # len(i)와 sales.shop_id.unique(), sales.item_id.unique()의 카테시안 곱이 이뤄지며,\n",
        "      # (1 * len(sales.shop_id.unique()), len(sales.item_id.unique()),3)의 리스트 생성 후 리스트에 더해진다.\n",
        "matrix = pd.DataFrame(np.vstack(matrix), columns=cols) \n",
        "# vstack은 가장 작은 리스트 단위를 쌓아주는 것으로 리스트 내 원소 숫자는 같지만 리스트들의 숫자가 케이스별로 다를 경우\n",
        "# vstack류를 사용하여 정렬시킬 수 있을 것\n",
        "matrix['date_block_num'] = matrix['date_block_num'].astype(np.int8) # 정수 타입 변환\n",
        "matrix['shop_id'] = matrix['shop_id'].astype(np.int8) # 정수 타입 변환\n",
        "matrix['item_id'] = matrix['item_id'].astype(np.int16)  # 정수 타입 변환 \n",
        "matrix.sort_values(cols,inplace=True) \n",
        "time.time() - ts"
      ],
      "execution_count": 24,
      "outputs": [
        {
          "output_type": "execute_result",
          "data": {
            "text/plain": [
              "11.639636278152466"
            ]
          },
          "metadata": {
            "tags": []
          },
          "execution_count": 24
        }
      ]
    },
    {
      "cell_type": "code",
      "metadata": {
        "id": "Hz5iAbIjTzEh",
        "colab_type": "code",
        "colab": {}
      },
      "source": [
        "train['revenue'] = train['item_price'] *  train['item_cnt_day']"
      ],
      "execution_count": 0,
      "outputs": []
    },
    {
      "cell_type": "code",
      "metadata": {
        "id": "kATIDkAAT5Sw",
        "colab_type": "code",
        "colab": {
          "base_uri": "https://localhost:8080/",
          "height": 35
        },
        "outputId": "1016878b-c69a-4d1e-fe27-8b83486187a5"
      },
      "source": [
        "ts = time.time()\n",
        "group = train.groupby(['date_block_num','shop_id','item_id']).agg({'item_cnt_day': ['sum']})\n",
        "# 월 블록 - 샵 id - 아이템 id로 테이블을 만들고 하루 판매량의 합을 값으로 설정\n",
        "group.columns = ['item_cnt_month'] # 값 열을 월별 판매량으로 명명(date_block은 월 단위 순서임)\n",
        "group.reset_index(inplace=True)\n",
        "\n",
        "matrix = pd.merge(matrix, group, on=cols, how='left') # 모든 케이스가 월단위 판매량을 가지게 함\n",
        "matrix['item_cnt_month'] = (matrix['item_cnt_month']\n",
        "                                .fillna(0) \n",
        "                                .clip(0,20) # NB clip target here # 최대-최소 바운더리\n",
        "                                .astype(np.float16))\n",
        "time.time() - ts"
      ],
      "execution_count": 26,
      "outputs": [
        {
          "output_type": "execute_result",
          "data": {
            "text/plain": [
              "5.073041677474976"
            ]
          },
          "metadata": {
            "tags": []
          },
          "execution_count": 26
        }
      ]
    },
    {
      "cell_type": "code",
      "metadata": {
        "id": "mR8UN784RG9Q",
        "colab_type": "code",
        "colab": {}
      },
      "source": [
        "sample_test = pd.read_csv(\"sample_submission.csv\")"
      ],
      "execution_count": 0,
      "outputs": []
    },
    {
      "cell_type": "code",
      "metadata": {
        "id": "g9GT8BV_R1wI",
        "colab_type": "code",
        "colab": {
          "base_uri": "https://localhost:8080/",
          "height": 358
        },
        "outputId": "be8dc575-b80f-4dc0-8257-79294c5af86d"
      },
      "source": [
        "du = 20\n",
        "sample_test[du*10:(du+1)*10]"
      ],
      "execution_count": 28,
      "outputs": [
        {
          "output_type": "execute_result",
          "data": {
            "text/html": [
              "<div>\n",
              "<style scoped>\n",
              "    .dataframe tbody tr th:only-of-type {\n",
              "        vertical-align: middle;\n",
              "    }\n",
              "\n",
              "    .dataframe tbody tr th {\n",
              "        vertical-align: top;\n",
              "    }\n",
              "\n",
              "    .dataframe thead th {\n",
              "        text-align: right;\n",
              "    }\n",
              "</style>\n",
              "<table border=\"1\" class=\"dataframe\">\n",
              "  <thead>\n",
              "    <tr style=\"text-align: right;\">\n",
              "      <th></th>\n",
              "      <th>ID</th>\n",
              "      <th>item_cnt_month</th>\n",
              "    </tr>\n",
              "  </thead>\n",
              "  <tbody>\n",
              "    <tr>\n",
              "      <th>200</th>\n",
              "      <td>200</td>\n",
              "      <td>0.5</td>\n",
              "    </tr>\n",
              "    <tr>\n",
              "      <th>201</th>\n",
              "      <td>201</td>\n",
              "      <td>0.5</td>\n",
              "    </tr>\n",
              "    <tr>\n",
              "      <th>202</th>\n",
              "      <td>202</td>\n",
              "      <td>0.5</td>\n",
              "    </tr>\n",
              "    <tr>\n",
              "      <th>203</th>\n",
              "      <td>203</td>\n",
              "      <td>0.5</td>\n",
              "    </tr>\n",
              "    <tr>\n",
              "      <th>204</th>\n",
              "      <td>204</td>\n",
              "      <td>0.5</td>\n",
              "    </tr>\n",
              "    <tr>\n",
              "      <th>205</th>\n",
              "      <td>205</td>\n",
              "      <td>0.5</td>\n",
              "    </tr>\n",
              "    <tr>\n",
              "      <th>206</th>\n",
              "      <td>206</td>\n",
              "      <td>0.5</td>\n",
              "    </tr>\n",
              "    <tr>\n",
              "      <th>207</th>\n",
              "      <td>207</td>\n",
              "      <td>0.5</td>\n",
              "    </tr>\n",
              "    <tr>\n",
              "      <th>208</th>\n",
              "      <td>208</td>\n",
              "      <td>0.5</td>\n",
              "    </tr>\n",
              "    <tr>\n",
              "      <th>209</th>\n",
              "      <td>209</td>\n",
              "      <td>0.5</td>\n",
              "    </tr>\n",
              "  </tbody>\n",
              "</table>\n",
              "</div>"
            ],
            "text/plain": [
              "      ID  item_cnt_month\n",
              "200  200             0.5\n",
              "201  201             0.5\n",
              "202  202             0.5\n",
              "203  203             0.5\n",
              "204  204             0.5\n",
              "205  205             0.5\n",
              "206  206             0.5\n",
              "207  207             0.5\n",
              "208  208             0.5\n",
              "209  209             0.5"
            ]
          },
          "metadata": {
            "tags": []
          },
          "execution_count": 28
        }
      ]
    },
    {
      "cell_type": "code",
      "metadata": {
        "id": "EILB9sVJbDJL",
        "colab_type": "code",
        "colab": {
          "base_uri": "https://localhost:8080/",
          "height": 55
        },
        "outputId": "f7976884-68a4-4dc2-9e77-5b343c9be16d"
      },
      "source": [
        "\"\"\" 이상에서 트레이닝 셋에서 처리된 것을 정리하면, \n",
        "1. outlier 제외 - 시각적 도구 활용 판단 - 가격 100000 이상 or 판매량 1000개 이상 케이스 제거\n",
        "2. 결측치 대체 - 중앙값 - 가격이 (-)인 케이스 대체\n",
        "3. 코드 오류 수정 - 중복 데이터 - 중복 데이터 코드 통합\n",
        "4. 신규 특성 생성1 - 텍스트 마이닝(직접 읽어서?) - 가게 정보에서 지역정보 추출\n",
        "5. 신규 특성 생성2 - 텍스트 마이닝(기계적 규칙 존재) - 유형 정보에서 대분류와 브랜드(?) 카테고리 추출\n",
        "6. 타겟값 변형 - 그룹핑 및 총합 - 목적 \n",
        "  6.1 test의 고유 유형 사례 확인\n",
        "  6.2 train 데이터를 (시간, 가게, 아이템) 카테시안 곱으로 발생 가능한 모든 사례 DF 생성\n",
        "  6.3 train 데이터의 (시점, 가게, 아이템)별 월 매출 값을 구한 뒤 6.2 DF에 left 조인\n",
        "  6.4 월 매출을 0~20 사이의 값으로 범주화(왜일까;;?)\"\"\""
      ],
      "execution_count": 29,
      "outputs": [
        {
          "output_type": "execute_result",
          "data": {
            "text/plain": [
              "' 이상에서 트레이닝 셋에서 처리된 것을 정리하면, \\n1. outlier 제외 - 시각적 도구 활용 판단 - 가격 100000 이상 or 판매량 1000개 이상 케이스 제거\\n2. 결측치 대체 - 중앙값 - 가격이 (-)인 케이스 대체\\n3. 코드 오류 수정 - 중복 데이터 - 중복 데이터 코드 통합\\n4. 신규 특성 생성1 - 텍스트 마이닝(직접 읽어서?) - 가게 정보에서 지역정보 추출\\n5. 신규 특성 생성2 - 텍스트 마이닝(기계적 규칙 존재) - 유형 정보에서 대분류와 브랜드(?) 카테고리 추출\\n6. 타겟값 변형 - 그룹핑 및 총합 - 목적 \\n  6.1 test의 고유 유형 사례 확인\\n  6.2 train 데이터를 (시간, 가게, 아이템) 카테시안 곱으로 발생 가능한 모든 사례 DF 생성\\n  6.3 train 데이터의 (시점, 가게, 아이템)별 월 매출 값을 구한 뒤 6.2 DF에 left 조인\\n  6.4 월 매출을 0~20 사이의 값으로 범주화(왜일까;;?)'"
            ]
          },
          "metadata": {
            "tags": []
          },
          "execution_count": 29
        }
      ]
    },
    {
      "cell_type": "code",
      "metadata": {
        "id": "l_5jScaqWa9O",
        "colab_type": "code",
        "colab": {}
      },
      "source": [
        "# Test set 처리\n",
        "test['date_block_num'] = 34 # testset 은 34(train set 의 다음 한달)로 처리\n",
        "test['date_block_num'] = test['date_block_num'].astype(np.int8)\n",
        "test['shop_id'] = test['shop_id'].astype(np.int8)\n",
        "test['item_id'] = test['item_id'].astype(np.int16)"
      ],
      "execution_count": 0,
      "outputs": []
    },
    {
      "cell_type": "code",
      "metadata": {
        "id": "4nUiu-eRXnot",
        "colab_type": "code",
        "colab": {
          "base_uri": "https://localhost:8080/",
          "height": 35
        },
        "outputId": "16cf2038-53cc-4675-d0ce-ba4e8a2bc4d4"
      },
      "source": [
        "ts = time.time()\n",
        "matrix = pd.concat([matrix, test], ignore_index=True, sort=False, keys=cols) # train, test 데이터 통합\n",
        "matrix.fillna(0, inplace=True) # 34 month\n",
        "time.time() - ts"
      ],
      "execution_count": 31,
      "outputs": [
        {
          "output_type": "execute_result",
          "data": {
            "text/plain": [
              "0.08466720581054688"
            ]
          },
          "metadata": {
            "tags": []
          },
          "execution_count": 31
        }
      ]
    },
    {
      "cell_type": "code",
      "metadata": {
        "id": "EJ_t3xaGghX3",
        "colab_type": "code",
        "colab": {
          "base_uri": "https://localhost:8080/",
          "height": 35
        },
        "outputId": "28714fe1-892c-4f9d-9e29-3f39af7e2bb7"
      },
      "source": [
        "# 넣을 데이터의 결합\n",
        "ts = time.time()\n",
        "matrix = pd.merge(matrix, shops, on=['shop_id'], how='left') # shop 정보 붙임\n",
        "matrix = pd.merge(matrix, items, on=['item_id'], how='left') # 아이템 정보 붙임\n",
        "matrix = pd.merge(matrix, cats, on=['item_category_id'], how='left') # 카테고리 정보 붙임\n",
        "matrix['city_code'] = matrix['city_code'].astype(np.int8) # NaN 시 형식 바뀌는 걸 방지하고 회귀 가능하게\n",
        "matrix['item_category_id'] = matrix['item_category_id'].astype(np.int8)\n",
        "matrix['type_code'] = matrix['type_code'].astype(np.int8)\n",
        "matrix['subtype_code'] = matrix['subtype_code'].astype(np.int8)\n",
        "time.time() - ts"
      ],
      "execution_count": 32,
      "outputs": [
        {
          "output_type": "execute_result",
          "data": {
            "text/plain": [
              "3.7458460330963135"
            ]
          },
          "metadata": {
            "tags": []
          },
          "execution_count": 32
        }
      ]
    },
    {
      "cell_type": "code",
      "metadata": {
        "id": "8s8Oi6m5hGCj",
        "colab_type": "code",
        "colab": {}
      },
      "source": [
        "def lag_feature(df, lags, col):\n",
        "    tmp = df[['date_block_num','shop_id','item_id',col]] \n",
        "    for i in lags:\n",
        "        shifted = tmp.copy()\n",
        "        shifted.columns = ['date_block_num','shop_id','item_id', col+'_lag_'+str(i)]\n",
        "        shifted['date_block_num'] += i\n",
        "        df = pd.merge(df, shifted, on=['date_block_num','shop_id','item_id'], how='left')\n",
        "    return df\n",
        "# (shop, item)의 n달 전 케이스를 붙이는 중, 최대 4개"
      ],
      "execution_count": 0,
      "outputs": []
    },
    {
      "cell_type": "code",
      "metadata": {
        "id": "dmoRV9_Ei0J-",
        "colab_type": "code",
        "colab": {
          "base_uri": "https://localhost:8080/",
          "height": 35
        },
        "outputId": "44cc5f06-f864-49fe-be48-3e13f9101b73"
      },
      "source": [
        "ts = time.time()\n",
        "matrix = lag_feature(matrix, [1,2,3,6,12], 'item_cnt_month')\n",
        "time.time() - ts"
      ],
      "execution_count": 34,
      "outputs": [
        {
          "output_type": "execute_result",
          "data": {
            "text/plain": [
              "31.918654441833496"
            ]
          },
          "metadata": {
            "tags": []
          },
          "execution_count": 34
        }
      ]
    },
    {
      "cell_type": "code",
      "metadata": {
        "id": "tC7NKAH3mdC-",
        "colab_type": "code",
        "colab": {
          "base_uri": "https://localhost:8080/",
          "height": 35
        },
        "outputId": "13590d46-c885-4a61-ead7-0327f7d7e8fa"
      },
      "source": [
        "# 평균 인코딩 특성?\n",
        "group = matrix.groupby(['date_block_num']).agg({'item_cnt_month': ['mean']}) #월별 평균 총 판매량\n",
        "group.columns = [ 'date_avg_item_cnt' ] # \n",
        "group.reset_index(inplace=True)\n",
        "\n",
        "matrix = pd.merge(matrix, group, on=['date_block_num'], how='left') # 평균 추가\n",
        "matrix['date_avg_item_cnt'] = matrix['date_avg_item_cnt'].astype(np.float16) # \n",
        "matrix = lag_feature(matrix, [1], 'date_avg_item_cnt') # 평균로 랙 추가\n",
        "matrix.drop(['date_avg_item_cnt'], axis=1, inplace=True) # 해당기간 평균 데이터 삭제\n",
        "time.time() - ts"
      ],
      "execution_count": 35,
      "outputs": [
        {
          "output_type": "execute_result",
          "data": {
            "text/plain": [
              "41.958446979522705"
            ]
          },
          "metadata": {
            "tags": []
          },
          "execution_count": 35
        }
      ]
    },
    {
      "cell_type": "code",
      "metadata": {
        "id": "8B_lSyfavluu",
        "colab_type": "code",
        "colab": {
          "base_uri": "https://localhost:8080/",
          "height": 35
        },
        "outputId": "1b087be8-6dcf-4220-e118-19527a26865e"
      },
      "source": [
        "ts = time.time()\n",
        "group = matrix.groupby(['date_block_num', 'item_id']).agg({'item_cnt_month': ['mean']}) # (기간, 아이템) 월 평균\n",
        "group.columns = [ 'date_item_avg_item_cnt' ]\n",
        "group.reset_index(inplace=True)\n",
        "\n",
        "matrix = pd.merge(matrix, group, on=['date_block_num','item_id'], how='left') #위랑 동일\n",
        "matrix['date_item_avg_item_cnt'] = matrix['date_item_avg_item_cnt'].astype(np.float16)\n",
        "matrix = lag_feature(matrix, [1,2,3,6,12], 'date_item_avg_item_cnt')\n",
        "matrix.drop(['date_item_avg_item_cnt'], axis=1, inplace=True)\n",
        "time.time() - ts"
      ],
      "execution_count": 36,
      "outputs": [
        {
          "output_type": "execute_result",
          "data": {
            "text/plain": [
              "38.51046085357666"
            ]
          },
          "metadata": {
            "tags": []
          },
          "execution_count": 36
        }
      ]
    },
    {
      "cell_type": "code",
      "metadata": {
        "id": "EE60mv-sxG3e",
        "colab_type": "code",
        "colab": {
          "base_uri": "https://localhost:8080/",
          "height": 35
        },
        "outputId": "49e52396-3633-43da-f48f-120853289067"
      },
      "source": [
        "ts = time.time()\n",
        "group = matrix.groupby(['date_block_num', 'shop_id']).agg({'item_cnt_month': ['mean']}) # (기간,샵)별 월 판매량 평균\n",
        "group.columns = [ 'date_shop_avg_item_cnt' ]\n",
        "group.reset_index(inplace=True)\n",
        "\n",
        "matrix = pd.merge(matrix, group, on=['date_block_num','shop_id'], how='left') # 위랑 동일\n",
        "matrix['date_shop_avg_item_cnt'] = matrix['date_shop_avg_item_cnt'].astype(np.float16)\n",
        "matrix = lag_feature(matrix, [1,2,3,6,12], 'date_shop_avg_item_cnt')\n",
        "matrix.drop(['date_shop_avg_item_cnt'], axis=1, inplace=True)\n",
        "time.time() - ts"
      ],
      "execution_count": 37,
      "outputs": [
        {
          "output_type": "execute_result",
          "data": {
            "text/plain": [
              "39.72433042526245"
            ]
          },
          "metadata": {
            "tags": []
          },
          "execution_count": 37
        }
      ]
    },
    {
      "cell_type": "code",
      "metadata": {
        "id": "sgDxdwEAyV1s",
        "colab_type": "code",
        "colab": {
          "base_uri": "https://localhost:8080/",
          "height": 35
        },
        "outputId": "49ad2a6b-b239-4ef1-d604-b2c1913f05fd"
      },
      "source": [
        "ts = time.time()\n",
        "group = matrix.groupby(['date_block_num', 'item_category_id']).agg({'item_cnt_month': ['mean']}) #(기간, 제품 카테고리)\n",
        "group.columns = [ 'date_cat_avg_item_cnt' ]\n",
        "group.reset_index(inplace=True)\n",
        "\n",
        "matrix = pd.merge(matrix, group, on=['date_block_num','item_category_id'], how='left') # 위랑 동일..\n",
        "matrix['date_cat_avg_item_cnt'] = matrix['date_cat_avg_item_cnt'].astype(np.float16)\n",
        "matrix = lag_feature(matrix, [1], 'date_cat_avg_item_cnt') # 1달전 판매량만 가져 옴\n",
        "matrix.drop(['date_cat_avg_item_cnt'], axis=1, inplace=True)\n",
        "time.time() - ts"
      ],
      "execution_count": 38,
      "outputs": [
        {
          "output_type": "execute_result",
          "data": {
            "text/plain": [
              "13.430294513702393"
            ]
          },
          "metadata": {
            "tags": []
          },
          "execution_count": 38
        }
      ]
    },
    {
      "cell_type": "code",
      "metadata": {
        "id": "cHa2ZzI2ylZf",
        "colab_type": "code",
        "colab": {
          "base_uri": "https://localhost:8080/",
          "height": 35
        },
        "outputId": "34df40c9-2e2f-4996-88dd-b9c95dc7f301"
      },
      "source": [
        "ts = time.time()\n",
        "group = matrix.groupby(['date_block_num', 'shop_id', 'item_category_id']).agg({'item_cnt_month': ['mean']})\n",
        "# (기간, 샵, 제품 카테고리) 월 평균 판매량\n",
        "group.columns = ['date_shop_cat_avg_item_cnt']\n",
        "group.reset_index(inplace=True)\n",
        "\n",
        "matrix = pd.merge(matrix, group, on=['date_block_num', 'shop_id', 'item_category_id'], how='left')\n",
        "matrix['date_shop_cat_avg_item_cnt'] = matrix['date_shop_cat_avg_item_cnt'].astype(np.float16)\n",
        "matrix = lag_feature(matrix, [1], 'date_shop_cat_avg_item_cnt') # 역시 한달만\n",
        "matrix.drop(['date_shop_cat_avg_item_cnt'], axis=1, inplace=True)\n",
        "time.time() - ts"
      ],
      "execution_count": 39,
      "outputs": [
        {
          "output_type": "execute_result",
          "data": {
            "text/plain": [
              "14.052684783935547"
            ]
          },
          "metadata": {
            "tags": []
          },
          "execution_count": 39
        }
      ]
    },
    {
      "cell_type": "code",
      "metadata": {
        "id": "UfTAeNCIyy0u",
        "colab_type": "code",
        "colab": {
          "base_uri": "https://localhost:8080/",
          "height": 358
        },
        "outputId": "489ec202-278c-437b-fb1c-1d59024547c4"
      },
      "source": [
        "group[:10]"
      ],
      "execution_count": 40,
      "outputs": [
        {
          "output_type": "execute_result",
          "data": {
            "text/html": [
              "<div>\n",
              "<style scoped>\n",
              "    .dataframe tbody tr th:only-of-type {\n",
              "        vertical-align: middle;\n",
              "    }\n",
              "\n",
              "    .dataframe tbody tr th {\n",
              "        vertical-align: top;\n",
              "    }\n",
              "\n",
              "    .dataframe thead th {\n",
              "        text-align: right;\n",
              "    }\n",
              "</style>\n",
              "<table border=\"1\" class=\"dataframe\">\n",
              "  <thead>\n",
              "    <tr style=\"text-align: right;\">\n",
              "      <th></th>\n",
              "      <th>date_block_num</th>\n",
              "      <th>shop_id</th>\n",
              "      <th>item_category_id</th>\n",
              "      <th>date_shop_cat_avg_item_cnt</th>\n",
              "    </tr>\n",
              "  </thead>\n",
              "  <tbody>\n",
              "    <tr>\n",
              "      <th>0</th>\n",
              "      <td>0</td>\n",
              "      <td>2</td>\n",
              "      <td>0</td>\n",
              "      <td>0.000000</td>\n",
              "    </tr>\n",
              "    <tr>\n",
              "      <th>1</th>\n",
              "      <td>0</td>\n",
              "      <td>2</td>\n",
              "      <td>1</td>\n",
              "      <td>0.000000</td>\n",
              "    </tr>\n",
              "    <tr>\n",
              "      <th>2</th>\n",
              "      <td>0</td>\n",
              "      <td>2</td>\n",
              "      <td>2</td>\n",
              "      <td>0.675781</td>\n",
              "    </tr>\n",
              "    <tr>\n",
              "      <th>3</th>\n",
              "      <td>0</td>\n",
              "      <td>2</td>\n",
              "      <td>3</td>\n",
              "      <td>4.500000</td>\n",
              "    </tr>\n",
              "    <tr>\n",
              "      <th>4</th>\n",
              "      <td>0</td>\n",
              "      <td>2</td>\n",
              "      <td>4</td>\n",
              "      <td>0.909180</td>\n",
              "    </tr>\n",
              "    <tr>\n",
              "      <th>5</th>\n",
              "      <td>0</td>\n",
              "      <td>2</td>\n",
              "      <td>5</td>\n",
              "      <td>0.370361</td>\n",
              "    </tr>\n",
              "    <tr>\n",
              "      <th>6</th>\n",
              "      <td>0</td>\n",
              "      <td>2</td>\n",
              "      <td>6</td>\n",
              "      <td>0.631348</td>\n",
              "    </tr>\n",
              "    <tr>\n",
              "      <th>7</th>\n",
              "      <td>0</td>\n",
              "      <td>2</td>\n",
              "      <td>9</td>\n",
              "      <td>0.000000</td>\n",
              "    </tr>\n",
              "    <tr>\n",
              "      <th>8</th>\n",
              "      <td>0</td>\n",
              "      <td>2</td>\n",
              "      <td>11</td>\n",
              "      <td>0.588379</td>\n",
              "    </tr>\n",
              "    <tr>\n",
              "      <th>9</th>\n",
              "      <td>0</td>\n",
              "      <td>2</td>\n",
              "      <td>13</td>\n",
              "      <td>0.600098</td>\n",
              "    </tr>\n",
              "  </tbody>\n",
              "</table>\n",
              "</div>"
            ],
            "text/plain": [
              "   date_block_num  shop_id  item_category_id  date_shop_cat_avg_item_cnt\n",
              "0               0        2                 0                    0.000000\n",
              "1               0        2                 1                    0.000000\n",
              "2               0        2                 2                    0.675781\n",
              "3               0        2                 3                    4.500000\n",
              "4               0        2                 4                    0.909180\n",
              "5               0        2                 5                    0.370361\n",
              "6               0        2                 6                    0.631348\n",
              "7               0        2                 9                    0.000000\n",
              "8               0        2                11                    0.588379\n",
              "9               0        2                13                    0.600098"
            ]
          },
          "metadata": {
            "tags": []
          },
          "execution_count": 40
        }
      ]
    },
    {
      "cell_type": "code",
      "metadata": {
        "id": "PkEZV_9uyt7p",
        "colab_type": "code",
        "colab": {
          "base_uri": "https://localhost:8080/",
          "height": 35
        },
        "outputId": "228ac4e1-131e-42bc-c214-0474818bf6bd"
      },
      "source": [
        "ts = time.time()\n",
        "group = matrix.groupby(['date_block_num', 'shop_id', 'type_code']).agg({'item_cnt_month': ['mean']}) \n",
        "# (기간, 샵, 대유형) 월 평균 판매량\n",
        "group.columns = ['date_shop_type_avg_item_cnt']\n",
        "group.reset_index(inplace=True)\n",
        "\n",
        "matrix = pd.merge(matrix, group, on=['date_block_num', 'shop_id', 'type_code'], how='left')\n",
        "matrix['date_shop_type_avg_item_cnt'] = matrix['date_shop_type_avg_item_cnt'].astype(np.float16)\n",
        "matrix = lag_feature(matrix, [1], 'date_shop_type_avg_item_cnt')\n",
        "matrix.drop(['date_shop_type_avg_item_cnt'], axis=1, inplace=True)\n",
        "time.time() - ts"
      ],
      "execution_count": 41,
      "outputs": [
        {
          "output_type": "execute_result",
          "data": {
            "text/plain": [
              "14.45911431312561"
            ]
          },
          "metadata": {
            "tags": []
          },
          "execution_count": 41
        }
      ]
    },
    {
      "cell_type": "code",
      "metadata": {
        "id": "mstt9_61z6ZM",
        "colab_type": "code",
        "colab": {
          "base_uri": "https://localhost:8080/",
          "height": 35
        },
        "outputId": "920896d7-e981-4efe-ca1e-d5e9e7953153"
      },
      "source": [
        "ts = time.time()\n",
        "group = matrix.groupby(['date_block_num', 'shop_id', 'subtype_code']).agg({'item_cnt_month': ['mean']})\n",
        "# (기간, 샵, 브랜드 유형) 월 평균 판매량\n",
        "group.columns = ['date_shop_subtype_avg_item_cnt']\n",
        "group.reset_index(inplace=True)\n",
        "\n",
        "matrix = pd.merge(matrix, group, on=['date_block_num', 'shop_id', 'subtype_code'], how='left')\n",
        "matrix['date_shop_subtype_avg_item_cnt'] = matrix['date_shop_subtype_avg_item_cnt'].astype(np.float16)\n",
        "matrix = lag_feature(matrix, [1], 'date_shop_subtype_avg_item_cnt')\n",
        "matrix.drop(['date_shop_subtype_avg_item_cnt'], axis=1, inplace=True)\n",
        "time.time() - ts"
      ],
      "execution_count": 42,
      "outputs": [
        {
          "output_type": "execute_result",
          "data": {
            "text/plain": [
              "14.50527286529541"
            ]
          },
          "metadata": {
            "tags": []
          },
          "execution_count": 42
        }
      ]
    },
    {
      "cell_type": "code",
      "metadata": {
        "id": "QkS99JZ70Aau",
        "colab_type": "code",
        "colab": {
          "base_uri": "https://localhost:8080/",
          "height": 35
        },
        "outputId": "12739ea0-a8c9-4eee-86b9-d454e0d238be"
      },
      "source": [
        "ts = time.time()\n",
        "group = matrix.groupby(['date_block_num', 'city_code']).agg({'item_cnt_month': ['mean']})\n",
        "# (기간, 도시) 월 평균 판매량\n",
        "group.columns = [ 'date_city_avg_item_cnt' ]\n",
        "group.reset_index(inplace=True)\n",
        "\n",
        "matrix = pd.merge(matrix, group, on=['date_block_num', 'city_code'], how='left')\n",
        "matrix['date_city_avg_item_cnt'] = matrix['date_city_avg_item_cnt'].astype(np.float16)\n",
        "matrix = lag_feature(matrix, [1], 'date_city_avg_item_cnt')\n",
        "matrix.drop(['date_city_avg_item_cnt'], axis=1, inplace=True)\n",
        "time.time() - ts"
      ],
      "execution_count": 43,
      "outputs": [
        {
          "output_type": "execute_result",
          "data": {
            "text/plain": [
              "14.63421082496643"
            ]
          },
          "metadata": {
            "tags": []
          },
          "execution_count": 43
        }
      ]
    },
    {
      "cell_type": "code",
      "metadata": {
        "id": "cBtehSmw0Fth",
        "colab_type": "code",
        "colab": {
          "base_uri": "https://localhost:8080/",
          "height": 35
        },
        "outputId": "3dbb5eda-7994-42af-c169-35d7d7dc22c2"
      },
      "source": [
        "ts = time.time()\n",
        "group = matrix.groupby(['date_block_num', 'item_id', 'city_code']).agg({'item_cnt_month': ['mean']})\n",
        "# (기간, 상품, 도시) 월 평균 판매량\n",
        "group.columns = [ 'date_item_city_avg_item_cnt' ]\n",
        "group.reset_index(inplace=True)\n",
        "\n",
        "matrix = pd.merge(matrix, group, on=['date_block_num', 'item_id', 'city_code'], how='left')\n",
        "matrix['date_item_city_avg_item_cnt'] = matrix['date_item_city_avg_item_cnt'].astype(np.float16)\n",
        "matrix = lag_feature(matrix, [1], 'date_item_city_avg_item_cnt')\n",
        "matrix.drop(['date_item_city_avg_item_cnt'], axis=1, inplace=True)\n",
        "time.time() - ts"
      ],
      "execution_count": 44,
      "outputs": [
        {
          "output_type": "execute_result",
          "data": {
            "text/plain": [
              "23.98216962814331"
            ]
          },
          "metadata": {
            "tags": []
          },
          "execution_count": 44
        }
      ]
    },
    {
      "cell_type": "code",
      "metadata": {
        "id": "r61SFh1TJAW_",
        "colab_type": "code",
        "colab": {
          "base_uri": "https://localhost:8080/",
          "height": 35
        },
        "outputId": "22f7e675-6f82-429d-9258-b329719cc63f"
      },
      "source": [
        "ts = time.time()\n",
        "group = matrix.groupby(['date_block_num', 'type_code']).agg({'item_cnt_month': ['mean']})\n",
        "# (기간, 제품 유형 코드) 월 평균 판매량\n",
        "group.columns = [ 'date_type_avg_item_cnt' ]\n",
        "group.reset_index(inplace=True)\n",
        "\n",
        "matrix = pd.merge(matrix, group, on=['date_block_num', 'type_code'], how='left')\n",
        "matrix['date_type_avg_item_cnt'] = matrix['date_type_avg_item_cnt'].astype(np.float16)\n",
        "matrix = lag_feature(matrix, [1], 'date_type_avg_item_cnt')\n",
        "matrix.drop(['date_type_avg_item_cnt'], axis=1, inplace=True)\n",
        "time.time() - ts"
      ],
      "execution_count": 45,
      "outputs": [
        {
          "output_type": "execute_result",
          "data": {
            "text/plain": [
              "14.753066778182983"
            ]
          },
          "metadata": {
            "tags": []
          },
          "execution_count": 45
        }
      ]
    },
    {
      "cell_type": "code",
      "metadata": {
        "id": "GOE4aHsaJi6G",
        "colab_type": "code",
        "colab": {
          "base_uri": "https://localhost:8080/",
          "height": 35
        },
        "outputId": "acfe3736-a76f-4b63-800c-c6981c05b9c8"
      },
      "source": [
        "ts = time.time()\n",
        "group = matrix.groupby(['date_block_num', 'subtype_code']).agg({'item_cnt_month': ['mean']})\n",
        "# (기간, 브랜드 유형 코드) 월 평균 판매량\n",
        "group.columns = [ 'date_subtype_avg_item_cnt' ]\n",
        "group.reset_index(inplace=True)\n",
        "\n",
        "matrix = pd.merge(matrix, group, on=['date_block_num', 'subtype_code'], how='left')\n",
        "matrix['date_subtype_avg_item_cnt'] = matrix['date_subtype_avg_item_cnt'].astype(np.float16)\n",
        "matrix = lag_feature(matrix, [1], 'date_subtype_avg_item_cnt')\n",
        "matrix.drop(['date_subtype_avg_item_cnt'], axis=1, inplace=True)\n",
        "time.time() - ts"
      ],
      "execution_count": 46,
      "outputs": [
        {
          "output_type": "execute_result",
          "data": {
            "text/plain": [
              "15.161141633987427"
            ]
          },
          "metadata": {
            "tags": []
          },
          "execution_count": 46
        }
      ]
    },
    {
      "cell_type": "code",
      "metadata": {
        "id": "ScSba6UrJoKp",
        "colab_type": "code",
        "colab": {
          "base_uri": "https://localhost:8080/",
          "height": 35
        },
        "outputId": "51197b18-6df2-435d-dbbf-7f49c50f8e0e"
      },
      "source": [
        "# 추세 특성 - 6개월 트렌드\n",
        "ts = time.time()\n",
        "group = train.groupby(['item_id']).agg({'item_price': ['mean']}) # 제품 가격 평균 데이터(샵, 시간 무시)\n",
        "group.columns = ['item_avg_item_price']\n",
        "group.reset_index(inplace=True)\n",
        "\n",
        "matrix = pd.merge(matrix, group, on=['item_id'], how='left') # 평균가격 추가\n",
        "matrix['item_avg_item_price'] = matrix['item_avg_item_price'].astype(np.float16)\n",
        "\n",
        "group = train.groupby(['date_block_num','item_id']).agg({'item_price': ['mean']}) # 제품별 시간별 평균\n",
        "group.columns = ['date_item_avg_item_price']\n",
        "group.reset_index(inplace=True)\n",
        "\n",
        "matrix = pd.merge(matrix, group, on=['date_block_num','item_id'], how='left') #  제품,시간 평균 추가\n",
        "matrix['date_item_avg_item_price'] = matrix['date_item_avg_item_price'].astype(np.float16)\n",
        "\n",
        "lags = [1,2,3,4,5,6]\n",
        "matrix = lag_feature(matrix, lags, 'date_item_avg_item_price') # 제품 시간 평균의 6개월간 시간 항목 추가\n",
        "\n",
        "for i in lags:\n",
        "    matrix['delta_price_lag_'+str(i)] = \\\n",
        "        (matrix['date_item_avg_item_price_lag_'+str(i)] - matrix['item_avg_item_price']) / matrix['item_avg_item_price']\n",
        "\n",
        "# (시간별 아이템 가격 평균 - 전체기간 아이템 가격 평균) / 전체기간 아이템 가격 평균 컬럼 추가\n",
        "\n",
        "def select_trend(row):\n",
        "    for i in lags:\n",
        "        if row['delta_price_lag_'+str(i)]:\n",
        "            return row['delta_price_lag_'+str(i)]\n",
        "    return 0\n",
        "\n",
        "# apply 함수로 활용될 함수, 변화량이 있으면 변화량, 없으면 0 출력\n",
        "    \n",
        "matrix['delta_price_lag'] = matrix.apply(select_trend, axis=1)\n",
        "matrix['delta_price_lag'] = matrix['delta_price_lag'].astype(np.float16)\n",
        "matrix['delta_price_lag'].fillna(0, inplace=True)\n",
        "\n",
        "# https://stackoverflow.com/questions/31828240/first-non-null-value-per-row-from-a-list-of-pandas-columns/31828559\n",
        "# matrix['price_trend'] = matrix[['delta_price_lag_1','delta_price_lag_2','delta_price_lag_3']].bfill(axis=1).iloc[:, 0]\n",
        "# Invalid dtype for backfill_2d [float16]\n",
        "\n",
        "fetures_to_drop = ['item_avg_item_price', 'date_item_avg_item_price'] \n",
        "for i in lags:\n",
        "    fetures_to_drop += ['date_item_avg_item_price_lag_'+str(i)]\n",
        "    fetures_to_drop += ['delta_price_lag_'+str(i)]\n",
        "  \n",
        "matrix.drop(fetures_to_drop, axis=1, inplace=True)\n",
        "\n",
        "# 시간별 - 전체평균 계산이 끝난 뒤 재료 열 모두 소거\n",
        "\n",
        "time.time() - ts"
      ],
      "execution_count": 47,
      "outputs": [
        {
          "output_type": "execute_result",
          "data": {
            "text/plain": [
              "343.0566475391388"
            ]
          },
          "metadata": {
            "tags": []
          },
          "execution_count": 47
        }
      ]
    },
    {
      "cell_type": "code",
      "metadata": {
        "id": "aISA1R_PMA5x",
        "colab_type": "code",
        "colab": {
          "base_uri": "https://localhost:8080/",
          "height": 35
        },
        "outputId": "4ee18cfc-4022-400e-cac0-c6d46e50f38e"
      },
      "source": [
        "# 샵 수익 추이\n",
        "ts = time.time()\n",
        "group = train.groupby(['date_block_num','shop_id']).agg({'revenue': ['sum']}) # 월별 샵별 수익 총합\n",
        "group.columns = ['date_shop_revenue']\n",
        "group.reset_index(inplace=True)\n",
        "\n",
        "matrix = pd.merge(matrix, group, on=['date_block_num','shop_id'], how='left')\n",
        "matrix['date_shop_revenue'] = matrix['date_shop_revenue'].astype(np.float32)\n",
        "\n",
        "group = group.groupby(['shop_id']).agg({'date_shop_revenue': ['mean']}) # 전체 샵별 수익 평균\n",
        "group.columns = ['shop_avg_revenue']\n",
        "group.reset_index(inplace=True)\n",
        "\n",
        "matrix = pd.merge(matrix, group, on=['shop_id'], how='left')\n",
        "matrix['shop_avg_revenue'] = matrix['shop_avg_revenue'].astype(np.float32)\n",
        "\n",
        "matrix['delta_revenue'] = (matrix['date_shop_revenue'] - matrix['shop_avg_revenue']) / matrix['shop_avg_revenue']\n",
        "# (월별 샵 수익 - 샵 평균 수익)/샵 평균 수익 항목 생성\n",
        "matrix['delta_revenue'] = matrix['delta_revenue'].astype(np.float16)\n",
        "\n",
        "matrix = lag_feature(matrix, [1], 'delta_revenue')\n",
        "# 전월 (월별 샵 수익 - 샵 평균 수익)/샵 평균 수익 추가\n",
        "matrix.drop(['date_shop_revenue','shop_avg_revenue','delta_revenue'], axis=1, inplace=True)\n",
        "# 평균들과 당월 트렌드는 삭제(전월 트렌드만 남김)\n",
        "time.time() - ts"
      ],
      "execution_count": 48,
      "outputs": [
        {
          "output_type": "execute_result",
          "data": {
            "text/plain": [
              "17.72727632522583"
            ]
          },
          "metadata": {
            "tags": []
          },
          "execution_count": 48
        }
      ]
    },
    {
      "cell_type": "code",
      "metadata": {
        "id": "5JLfXfS8rYK5",
        "colab_type": "code",
        "colab": {}
      },
      "source": [
        "matrix['month'] = matrix['date_block_num'] % 12 # 월로 표시되도록 나눔"
      ],
      "execution_count": 0,
      "outputs": []
    },
    {
      "cell_type": "code",
      "metadata": {
        "id": "Kk1XacUi1pVe",
        "colab_type": "code",
        "colab": {}
      },
      "source": [
        "days = pd.Series([31,28,31,30,31,30,31,31,30,31,30,31]) # 윤년이 없다는 가정하에 12월의 숫자\n",
        "matrix['days'] = matrix['month'].map(days).astype(np.int8) # 일 데이터 매칭"
      ],
      "execution_count": 0,
      "outputs": []
    },
    {
      "cell_type": "code",
      "metadata": {
        "id": "baAsTtYe1ra9",
        "colab_type": "code",
        "colab": {
          "base_uri": "https://localhost:8080/",
          "height": 35
        },
        "outputId": "bc50f281-49d9-4e95-9f77-7b24040714af"
      },
      "source": [
        "ts = time.time() \n",
        "cache = {}\n",
        "matrix['item_shop_last_sale'] = -1 # -1 넣는 이유는 type 원활히 하기 위함\n",
        "matrix['item_shop_last_sale'] = matrix['item_shop_last_sale'].astype(np.int8)\n",
        "for idx, row in matrix.iterrows(): # iterrows는 idx와 한 행의 전 열 데이터가 나온다, idx는 하나의 숫자, row는 pd.series\n",
        "    key = str(row.item_id)+' '+str(row.shop_id) #key란 한 열의 item_id shop_id가 합해진 str이 된다.\n",
        "    if key not in cache: # cache 안에 key라는 key가 없으면서\n",
        "        if row.item_cnt_month!=0: # 그 행의 item_cnt_month가 0이 아니면\n",
        "            cache[key] = row.date_block_num # 위의 key를 key로 하는 cache에 date_block_num[그 달 넘버]을 넣음 \n",
        "    else: # cache 안에 key라는 key가 존재하면(item_id, shop_id의 달이 입력된 케이스라면)\n",
        "        last_date_block_num = cache[key] # 행의 last_date_block_num에 cache[key]의 값(직전 달)을 넣음 \n",
        "        matrix.at[idx, 'item_shop_last_sale'] = row.date_block_num - last_date_block_num\n",
        "        # DF의 idx 행이며, 새로 생긴 행인 'item_shop_last_sale' 컬럼에 (데이터 월과 직전 월 개월 차이)입력\n",
        "        cache[key] = row.date_block_num # 위 연산이 종료 된 후 cache[key]의 월은 마지막으로 처리한 데이터의 달을 입력\n",
        "\n",
        "# 이 작업이 종료되면 matrix는 'item_shop_last_sale' 컬럼을 가지게 되며,\n",
        "# 얘는 아이템_샵 기준 판매량의 현재 달 기록 과 과거달 기록 간 차이기간 데이터를 생성\n",
        "time.time() - ts"
      ],
      "execution_count": 51,
      "outputs": [
        {
          "output_type": "execute_result",
          "data": {
            "text/plain": [
              "1506.8153166770935"
            ]
          },
          "metadata": {
            "tags": []
          },
          "execution_count": 51
        }
      ]
    },
    {
      "cell_type": "code",
      "metadata": {
        "id": "mHskf2Aa1t34",
        "colab_type": "code",
        "colab": {
          "base_uri": "https://localhost:8080/",
          "height": 35
        },
        "outputId": "a8b71fbf-24aa-4f46-ac91-a807dba64c6d"
      },
      "source": [
        "ts = time.time()\n",
        "cache = {}\n",
        "matrix['item_last_sale'] = -1\n",
        "matrix['item_last_sale'] = matrix['item_last_sale'].astype(np.int8)\n",
        "for idx, row in matrix.iterrows():    \n",
        "    key = row.item_id # 이번에 key는 item_id\n",
        "    if key not in cache: # cache에 key가 없고\n",
        "        if row.item_cnt_month!=0: # 아이템 판매량이 0이 아니면\n",
        "            cache[key] = row.date_block_num # 그걸 넣음\n",
        "    else:\n",
        "        last_date_block_num = cache[key] # 전달 데이터 넣고\n",
        "        if row.date_block_num>last_date_block_num: # 현재 달이 전달 데이터(위에서 만들어졌나?)가 크면\n",
        "            matrix.at[idx, 'item_last_sale'] = row.date_block_num - last_date_block_num \n",
        "            # item_last_sale은 현재 달과 지난 달의 차이로 입력\n",
        "            cache[key] = row.date_block_num         \n",
        "\n",
        "# 이 작업이 마치면 matrix는 아이템 판매데이터의 현재 달과 직전 달의 차이 기간를 알 수 있음\n",
        "time.time() - ts"
      ],
      "execution_count": 52,
      "outputs": [
        {
          "output_type": "execute_result",
          "data": {
            "text/plain": [
              "1007.1179022789001"
            ]
          },
          "metadata": {
            "tags": []
          },
          "execution_count": 52
        }
      ]
    },
    {
      "cell_type": "code",
      "metadata": {
        "id": "RNEAE5kI16bO",
        "colab_type": "code",
        "colab": {
          "base_uri": "https://localhost:8080/",
          "height": 35
        },
        "outputId": "75ba9090-3721-4aac-de6d-d632ed744fae"
      },
      "source": [
        "ts = time.time()\n",
        "matrix['item_shop_first_sale'] = matrix['date_block_num'] - matrix.groupby(['item_id','shop_id'])['date_block_num'].transform('min')\n",
        "# 매트릭스 DF는 item_id, shop_id, data_block_num으로 구성되어 있기 때문에 위의 그루핑이 매트릭스 수를 변경시키진 않을 것\n",
        "# 현 판매 월과 item과 shop 기준 첫번째 판매월의 차이를 구하고 있음. 해당 계산에서 도출 되는 것은 그 컬럼의 판매기간임\n",
        "matrix['item_first_sale'] = matrix['date_block_num'] - matrix.groupby('item_id')['date_block_num'].transform('min')\n",
        "# 위와 마찬가지\n",
        "\n",
        "# 이 셀의 계산으로 도출되는 것은 item_shop 기준, item 기준 첫 월부터 데이터의 월까지 기간을 구해줌\n",
        "time.time() - ts"
      ],
      "execution_count": 53,
      "outputs": [
        {
          "output_type": "execute_result",
          "data": {
            "text/plain": [
              "2.45096755027771"
            ]
          },
          "metadata": {
            "tags": []
          },
          "execution_count": 53
        }
      ]
    },
    {
      "cell_type": "markdown",
      "metadata": {
        "id": "ihbb7L782DAv",
        "colab_type": "text"
      },
      "source": [
        "Final preparation"
      ]
    },
    {
      "cell_type": "code",
      "metadata": {
        "id": "pl7UUsUi18wQ",
        "colab_type": "code",
        "colab": {
          "base_uri": "https://localhost:8080/",
          "height": 35
        },
        "outputId": "45bece33-6488-496a-96e3-8e268c52c477"
      },
      "source": [
        "ts = time.time()\n",
        "matrix = matrix[matrix.date_block_num > 11]\n",
        "time.time() - ts"
      ],
      "execution_count": 53,
      "outputs": [
        {
          "output_type": "execute_result",
          "data": {
            "text/plain": [
              "1.8763618469238281"
            ]
          },
          "metadata": {
            "tags": []
          },
          "execution_count": 53
        }
      ]
    },
    {
      "cell_type": "code",
      "metadata": {
        "id": "xSBCmtVQ1_XS",
        "colab_type": "code",
        "colab": {
          "base_uri": "https://localhost:8080/",
          "height": 35
        },
        "outputId": "074e9f03-3b6e-4b1f-c78f-3871237768c7"
      },
      "source": [
        "ts = time.time()\n",
        "def fill_na(df):\n",
        "    for col in df.columns:\n",
        "        if ('_lag_' in col) & (df[col].isnull().any()):\n",
        "            if ('item_cnt' in col):\n",
        "                df[col].fillna(0, inplace=True)         \n",
        "    return df\n",
        "\n",
        "matrix = fill_na(matrix)\n",
        "time.time() - ts"
      ],
      "execution_count": 54,
      "outputs": [
        {
          "output_type": "execute_result",
          "data": {
            "text/plain": [
              "2.1165921688079834"
            ]
          },
          "metadata": {
            "tags": []
          },
          "execution_count": 54
        }
      ]
    },
    {
      "cell_type": "code",
      "metadata": {
        "id": "Ourtmt-82MWa",
        "colab_type": "code",
        "colab": {
          "base_uri": "https://localhost:8080/",
          "height": 325
        },
        "outputId": "3b29d7cc-3030-4290-f192-0a3d0e3581f4"
      },
      "source": [
        "matrix.columns"
      ],
      "execution_count": 55,
      "outputs": [
        {
          "output_type": "execute_result",
          "data": {
            "text/plain": [
              "Index(['date_block_num', 'shop_id', 'item_id', 'item_cnt_month', 'city_code',\n",
              "       'item_category_id', 'type_code', 'subtype_code', 'item_cnt_month_lag_1',\n",
              "       'item_cnt_month_lag_2', 'item_cnt_month_lag_3', 'item_cnt_month_lag_6',\n",
              "       'item_cnt_month_lag_12', 'date_avg_item_cnt_lag_1',\n",
              "       'date_item_avg_item_cnt_lag_1', 'date_item_avg_item_cnt_lag_2',\n",
              "       'date_item_avg_item_cnt_lag_3', 'date_item_avg_item_cnt_lag_6',\n",
              "       'date_item_avg_item_cnt_lag_12', 'date_shop_avg_item_cnt_lag_1',\n",
              "       'date_shop_avg_item_cnt_lag_2', 'date_shop_avg_item_cnt_lag_3',\n",
              "       'date_shop_avg_item_cnt_lag_6', 'date_shop_avg_item_cnt_lag_12',\n",
              "       'date_cat_avg_item_cnt_lag_1', 'date_shop_cat_avg_item_cnt_lag_1',\n",
              "       'date_shop_type_avg_item_cnt_lag_1',\n",
              "       'date_shop_subtype_avg_item_cnt_lag_1', 'date_city_avg_item_cnt_lag_1',\n",
              "       'date_item_city_avg_item_cnt_lag_1', 'date_type_avg_item_cnt_lag_1',\n",
              "       'date_subtype_avg_item_cnt_lag_1', 'delta_price_lag',\n",
              "       'delta_revenue_lag_1', 'month', 'days', 'item_shop_last_sale',\n",
              "       'item_last_sale', 'item_shop_first_sale', 'item_first_sale'],\n",
              "      dtype='object')"
            ]
          },
          "metadata": {
            "tags": []
          },
          "execution_count": 55
        }
      ]
    },
    {
      "cell_type": "code",
      "metadata": {
        "id": "gbrFlndY2Myr",
        "colab_type": "code",
        "colab": {
          "base_uri": "https://localhost:8080/",
          "height": 869
        },
        "outputId": "ca1656de-51f9-4a50-c455-d2179f876c82"
      },
      "source": [
        "matrix.info()"
      ],
      "execution_count": 56,
      "outputs": [
        {
          "output_type": "stream",
          "text": [
            "<class 'pandas.core.frame.DataFrame'>\n",
            "Int64Index: 6639294 entries, 4488710 to 11128003\n",
            "Data columns (total 40 columns):\n",
            " #   Column                                Dtype  \n",
            "---  ------                                -----  \n",
            " 0   date_block_num                        int8   \n",
            " 1   shop_id                               int8   \n",
            " 2   item_id                               int16  \n",
            " 3   item_cnt_month                        float16\n",
            " 4   city_code                             int8   \n",
            " 5   item_category_id                      int8   \n",
            " 6   type_code                             int8   \n",
            " 7   subtype_code                          int8   \n",
            " 8   item_cnt_month_lag_1                  float16\n",
            " 9   item_cnt_month_lag_2                  float16\n",
            " 10  item_cnt_month_lag_3                  float16\n",
            " 11  item_cnt_month_lag_6                  float16\n",
            " 12  item_cnt_month_lag_12                 float16\n",
            " 13  date_avg_item_cnt_lag_1               float16\n",
            " 14  date_item_avg_item_cnt_lag_1          float16\n",
            " 15  date_item_avg_item_cnt_lag_2          float16\n",
            " 16  date_item_avg_item_cnt_lag_3          float16\n",
            " 17  date_item_avg_item_cnt_lag_6          float16\n",
            " 18  date_item_avg_item_cnt_lag_12         float16\n",
            " 19  date_shop_avg_item_cnt_lag_1          float16\n",
            " 20  date_shop_avg_item_cnt_lag_2          float16\n",
            " 21  date_shop_avg_item_cnt_lag_3          float16\n",
            " 22  date_shop_avg_item_cnt_lag_6          float16\n",
            " 23  date_shop_avg_item_cnt_lag_12         float16\n",
            " 24  date_cat_avg_item_cnt_lag_1           float16\n",
            " 25  date_shop_cat_avg_item_cnt_lag_1      float16\n",
            " 26  date_shop_type_avg_item_cnt_lag_1     float16\n",
            " 27  date_shop_subtype_avg_item_cnt_lag_1  float16\n",
            " 28  date_city_avg_item_cnt_lag_1          float16\n",
            " 29  date_item_city_avg_item_cnt_lag_1     float16\n",
            " 30  date_type_avg_item_cnt_lag_1          float16\n",
            " 31  date_subtype_avg_item_cnt_lag_1       float16\n",
            " 32  delta_price_lag                       float16\n",
            " 33  delta_revenue_lag_1                   float16\n",
            " 34  month                                 int8   \n",
            " 35  days                                  int8   \n",
            " 36  item_shop_last_sale                   int8   \n",
            " 37  item_last_sale                        int8   \n",
            " 38  item_shop_first_sale                  int8   \n",
            " 39  item_first_sale                       int8   \n",
            "dtypes: float16(27), int16(1), int8(12)\n",
            "memory usage: 481.2 MB\n"
          ],
          "name": "stdout"
        }
      ]
    },
    {
      "cell_type": "code",
      "metadata": {
        "id": "qsRzWYrb2Ovb",
        "colab_type": "code",
        "colab": {}
      },
      "source": [
        "matrix.to_pickle('data.pkl')\n",
        "del matrix\n",
        "del cache\n",
        "del group\n",
        "del items\n",
        "del shops\n",
        "del cats\n",
        "del train\n",
        "# leave test for submission\n",
        "gc.collect();"
      ],
      "execution_count": 0,
      "outputs": []
    },
    {
      "cell_type": "markdown",
      "metadata": {
        "id": "dKHkjaKo2TVc",
        "colab_type": "text"
      },
      "source": [
        "Xgboost"
      ]
    },
    {
      "cell_type": "code",
      "metadata": {
        "id": "MmCDeYeu2ROH",
        "colab_type": "code",
        "colab": {}
      },
      "source": [
        "data = pd.read_pickle('data.pkl')"
      ],
      "execution_count": 0,
      "outputs": []
    },
    {
      "cell_type": "code",
      "metadata": {
        "id": "44NqEDKw2XE0",
        "colab_type": "code",
        "colab": {}
      },
      "source": [
        "data = data[[\n",
        "    'date_block_num',\n",
        "    'shop_id',\n",
        "    'item_id',\n",
        "    'item_cnt_month',\n",
        "    'city_code',\n",
        "    'item_category_id',\n",
        "    'type_code',\n",
        "    'subtype_code',\n",
        "    'item_cnt_month_lag_1',\n",
        "    'item_cnt_month_lag_2',\n",
        "    'item_cnt_month_lag_3',\n",
        "    'item_cnt_month_lag_6',\n",
        "    'item_cnt_month_lag_12',\n",
        "    'date_avg_item_cnt_lag_1',\n",
        "    'date_item_avg_item_cnt_lag_1',\n",
        "    'date_item_avg_item_cnt_lag_2',\n",
        "    'date_item_avg_item_cnt_lag_3',\n",
        "    'date_item_avg_item_cnt_lag_6',\n",
        "    'date_item_avg_item_cnt_lag_12',\n",
        "    'date_shop_avg_item_cnt_lag_1',\n",
        "    'date_shop_avg_item_cnt_lag_2',\n",
        "    'date_shop_avg_item_cnt_lag_3',\n",
        "    'date_shop_avg_item_cnt_lag_6',\n",
        "    'date_shop_avg_item_cnt_lag_12',\n",
        "    'date_cat_avg_item_cnt_lag_1',\n",
        "    'date_shop_cat_avg_item_cnt_lag_1',\n",
        "    #'date_shop_type_avg_item_cnt_lag_1',\n",
        "    #'date_shop_subtype_avg_item_cnt_lag_1',\n",
        "    'date_city_avg_item_cnt_lag_1',\n",
        "    'date_item_city_avg_item_cnt_lag_1',\n",
        "    #'date_type_avg_item_cnt_lag_1',\n",
        "    #'date_subtype_avg_item_cnt_lag_1',\n",
        "    'delta_price_lag',\n",
        "    'month',\n",
        "    'days',\n",
        "    'item_shop_last_sale',\n",
        "    'item_last_sale',\n",
        "    'item_shop_first_sale',\n",
        "    'item_first_sale',\n",
        "]]"
      ],
      "execution_count": 0,
      "outputs": []
    },
    {
      "cell_type": "code",
      "metadata": {
        "id": "q3szIUrU2ZH2",
        "colab_type": "code",
        "colab": {}
      },
      "source": [
        "X_train = data[data.date_block_num < 33].drop(['item_cnt_month'], axis=1)\n",
        "Y_train = data[data.date_block_num < 33]['item_cnt_month']\n",
        "X_valid = data[data.date_block_num == 33].drop(['item_cnt_month'], axis=1)\n",
        "Y_valid = data[data.date_block_num == 33]['item_cnt_month']\n",
        "X_test = data[data.date_block_num == 34].drop(['item_cnt_month'], axis=1)"
      ],
      "execution_count": 0,
      "outputs": []
    },
    {
      "cell_type": "code",
      "metadata": {
        "id": "tXND10hL2awE",
        "colab_type": "code",
        "colab": {}
      },
      "source": [
        "del data\n",
        "gc.collect();"
      ],
      "execution_count": 0,
      "outputs": []
    },
    {
      "cell_type": "code",
      "metadata": {
        "id": "BcAvIO_L2cw_",
        "colab_type": "code",
        "outputId": "7a39018b-e229-4255-bc41-f81b843a3db5",
        "colab": {
          "base_uri": "https://localhost:8080/",
          "height": 1000
        }
      },
      "source": [
        "ts = time.time()\n",
        "\n",
        "model = XGBRegressor(\n",
        "    max_depth=8,\n",
        "    n_estimators=1000,\n",
        "    min_child_weight=300, \n",
        "    colsample_bytree=0.8, \n",
        "    subsample=0.8, \n",
        "    eta=0.3,    \n",
        "    seed=42)\n",
        "\n",
        "model.fit(\n",
        "    X_train, \n",
        "    Y_train, \n",
        "    eval_metric=\"rmse\", \n",
        "    eval_set=[(X_train, Y_train), (X_valid, Y_valid)], \n",
        "    verbose=True, \n",
        "    early_stopping_rounds = 100)\n",
        "\n",
        "time.time() - ts"
      ],
      "execution_count": 62,
      "outputs": [
        {
          "output_type": "stream",
          "text": [
            "[02:27:07] WARNING: /workspace/src/objective/regression_obj.cu:152: reg:linear is now deprecated in favor of reg:squarederror.\n",
            "[02:27:07] WARNING: /workspace/src/learner.cc:686: Tree method is automatically selected to be 'approx' for faster speed. To use old behavior (exact greedy algorithm on single machine), set tree_method to 'exact'.\n",
            "[0]\tvalidation_0-rmse:1.12413\tvalidation_1-rmse:1.11704\n",
            "Multiple eval metrics have been passed: 'validation_1-rmse' will be used for early stopping.\n",
            "\n",
            "Will train until validation_1-rmse hasn't improved in 100 rounds.\n",
            "[1]\tvalidation_0-rmse:1.08616\tvalidation_1-rmse:1.08412\n",
            "[2]\tvalidation_0-rmse:1.05295\tvalidation_1-rmse:1.05309\n",
            "[3]\tvalidation_0-rmse:1.01018\tvalidation_1-rmse:1.02723\n",
            "[4]\tvalidation_0-rmse:0.984142\tvalidation_1-rmse:1.00866\n",
            "[5]\tvalidation_0-rmse:0.962195\tvalidation_1-rmse:0.990075\n",
            "[6]\tvalidation_0-rmse:0.944697\tvalidation_1-rmse:0.975021\n",
            "[7]\tvalidation_0-rmse:0.922515\tvalidation_1-rmse:0.96105\n",
            "[8]\tvalidation_0-rmse:0.90889\tvalidation_1-rmse:0.951286\n",
            "[9]\tvalidation_0-rmse:0.897903\tvalidation_1-rmse:0.943073\n",
            "[10]\tvalidation_0-rmse:0.887562\tvalidation_1-rmse:0.936316\n",
            "[11]\tvalidation_0-rmse:0.87892\tvalidation_1-rmse:0.93108\n",
            "[12]\tvalidation_0-rmse:0.872111\tvalidation_1-rmse:0.926431\n",
            "[13]\tvalidation_0-rmse:0.866529\tvalidation_1-rmse:0.923019\n",
            "[14]\tvalidation_0-rmse:0.861051\tvalidation_1-rmse:0.920883\n",
            "[15]\tvalidation_0-rmse:0.856565\tvalidation_1-rmse:0.918439\n",
            "[16]\tvalidation_0-rmse:0.852452\tvalidation_1-rmse:0.916479\n",
            "[17]\tvalidation_0-rmse:0.849012\tvalidation_1-rmse:0.914733\n",
            "[18]\tvalidation_0-rmse:0.845748\tvalidation_1-rmse:0.913003\n",
            "[19]\tvalidation_0-rmse:0.842958\tvalidation_1-rmse:0.911994\n",
            "[20]\tvalidation_0-rmse:0.840657\tvalidation_1-rmse:0.910941\n",
            "[21]\tvalidation_0-rmse:0.838378\tvalidation_1-rmse:0.909891\n",
            "[22]\tvalidation_0-rmse:0.83624\tvalidation_1-rmse:0.908803\n",
            "[23]\tvalidation_0-rmse:0.834489\tvalidation_1-rmse:0.90805\n",
            "[24]\tvalidation_0-rmse:0.832561\tvalidation_1-rmse:0.907478\n",
            "[25]\tvalidation_0-rmse:0.830803\tvalidation_1-rmse:0.906534\n",
            "[26]\tvalidation_0-rmse:0.829496\tvalidation_1-rmse:0.906589\n",
            "[27]\tvalidation_0-rmse:0.827879\tvalidation_1-rmse:0.906156\n",
            "[28]\tvalidation_0-rmse:0.826461\tvalidation_1-rmse:0.906623\n",
            "[29]\tvalidation_0-rmse:0.825111\tvalidation_1-rmse:0.906554\n",
            "[30]\tvalidation_0-rmse:0.824105\tvalidation_1-rmse:0.906618\n",
            "[31]\tvalidation_0-rmse:0.822865\tvalidation_1-rmse:0.905935\n",
            "[32]\tvalidation_0-rmse:0.822022\tvalidation_1-rmse:0.905703\n",
            "[33]\tvalidation_0-rmse:0.821339\tvalidation_1-rmse:0.905319\n",
            "[34]\tvalidation_0-rmse:0.820459\tvalidation_1-rmse:0.905755\n",
            "[35]\tvalidation_0-rmse:0.819785\tvalidation_1-rmse:0.905845\n",
            "[36]\tvalidation_0-rmse:0.819168\tvalidation_1-rmse:0.90586\n",
            "[37]\tvalidation_0-rmse:0.818381\tvalidation_1-rmse:0.906069\n",
            "[38]\tvalidation_0-rmse:0.817685\tvalidation_1-rmse:0.906056\n",
            "[39]\tvalidation_0-rmse:0.817115\tvalidation_1-rmse:0.906451\n",
            "[40]\tvalidation_0-rmse:0.816492\tvalidation_1-rmse:0.906534\n",
            "[41]\tvalidation_0-rmse:0.815996\tvalidation_1-rmse:0.906151\n",
            "[42]\tvalidation_0-rmse:0.815453\tvalidation_1-rmse:0.905935\n",
            "[43]\tvalidation_0-rmse:0.815109\tvalidation_1-rmse:0.906119\n",
            "[44]\tvalidation_0-rmse:0.814574\tvalidation_1-rmse:0.905759\n",
            "[45]\tvalidation_0-rmse:0.81412\tvalidation_1-rmse:0.905605\n",
            "[46]\tvalidation_0-rmse:0.813746\tvalidation_1-rmse:0.905831\n",
            "[47]\tvalidation_0-rmse:0.813293\tvalidation_1-rmse:0.905742\n",
            "[48]\tvalidation_0-rmse:0.812738\tvalidation_1-rmse:0.905749\n",
            "[49]\tvalidation_0-rmse:0.812384\tvalidation_1-rmse:0.905677\n",
            "[50]\tvalidation_0-rmse:0.81179\tvalidation_1-rmse:0.905676\n",
            "[51]\tvalidation_0-rmse:0.811262\tvalidation_1-rmse:0.905611\n",
            "[52]\tvalidation_0-rmse:0.810729\tvalidation_1-rmse:0.905746\n",
            "[53]\tvalidation_0-rmse:0.81015\tvalidation_1-rmse:0.905738\n",
            "[54]\tvalidation_0-rmse:0.809663\tvalidation_1-rmse:0.905783\n",
            "[55]\tvalidation_0-rmse:0.809402\tvalidation_1-rmse:0.905733\n",
            "[56]\tvalidation_0-rmse:0.809038\tvalidation_1-rmse:0.905742\n",
            "[57]\tvalidation_0-rmse:0.80879\tvalidation_1-rmse:0.905644\n",
            "[58]\tvalidation_0-rmse:0.808267\tvalidation_1-rmse:0.905656\n",
            "[59]\tvalidation_0-rmse:0.807853\tvalidation_1-rmse:0.905905\n",
            "[60]\tvalidation_0-rmse:0.807374\tvalidation_1-rmse:0.906\n",
            "[61]\tvalidation_0-rmse:0.806962\tvalidation_1-rmse:0.905908\n",
            "[62]\tvalidation_0-rmse:0.806583\tvalidation_1-rmse:0.906019\n",
            "[63]\tvalidation_0-rmse:0.806175\tvalidation_1-rmse:0.905986\n",
            "[64]\tvalidation_0-rmse:0.805911\tvalidation_1-rmse:0.906045\n",
            "[65]\tvalidation_0-rmse:0.805713\tvalidation_1-rmse:0.906417\n",
            "[66]\tvalidation_0-rmse:0.805427\tvalidation_1-rmse:0.906823\n",
            "[67]\tvalidation_0-rmse:0.804898\tvalidation_1-rmse:0.906587\n",
            "[68]\tvalidation_0-rmse:0.804494\tvalidation_1-rmse:0.906686\n",
            "[69]\tvalidation_0-rmse:0.803783\tvalidation_1-rmse:0.907601\n",
            "[70]\tvalidation_0-rmse:0.803556\tvalidation_1-rmse:0.907748\n",
            "[71]\tvalidation_0-rmse:0.80336\tvalidation_1-rmse:0.907573\n",
            "[72]\tvalidation_0-rmse:0.802696\tvalidation_1-rmse:0.907149\n",
            "[73]\tvalidation_0-rmse:0.802262\tvalidation_1-rmse:0.906991\n",
            "[74]\tvalidation_0-rmse:0.802012\tvalidation_1-rmse:0.90698\n",
            "[75]\tvalidation_0-rmse:0.801483\tvalidation_1-rmse:0.906726\n",
            "[76]\tvalidation_0-rmse:0.801317\tvalidation_1-rmse:0.906701\n",
            "[77]\tvalidation_0-rmse:0.801194\tvalidation_1-rmse:0.907042\n",
            "[78]\tvalidation_0-rmse:0.800857\tvalidation_1-rmse:0.906866\n",
            "[79]\tvalidation_0-rmse:0.80056\tvalidation_1-rmse:0.906638\n",
            "[80]\tvalidation_0-rmse:0.80042\tvalidation_1-rmse:0.906503\n",
            "[81]\tvalidation_0-rmse:0.800119\tvalidation_1-rmse:0.90646\n",
            "[82]\tvalidation_0-rmse:0.799553\tvalidation_1-rmse:0.906184\n",
            "[83]\tvalidation_0-rmse:0.799397\tvalidation_1-rmse:0.906114\n",
            "[84]\tvalidation_0-rmse:0.799103\tvalidation_1-rmse:0.906125\n",
            "[85]\tvalidation_0-rmse:0.798751\tvalidation_1-rmse:0.906322\n",
            "[86]\tvalidation_0-rmse:0.798427\tvalidation_1-rmse:0.906215\n",
            "[87]\tvalidation_0-rmse:0.797998\tvalidation_1-rmse:0.906088\n",
            "[88]\tvalidation_0-rmse:0.797713\tvalidation_1-rmse:0.906407\n",
            "[89]\tvalidation_0-rmse:0.797527\tvalidation_1-rmse:0.906301\n",
            "[90]\tvalidation_0-rmse:0.797317\tvalidation_1-rmse:0.906302\n",
            "[91]\tvalidation_0-rmse:0.796991\tvalidation_1-rmse:0.906373\n",
            "[92]\tvalidation_0-rmse:0.796827\tvalidation_1-rmse:0.906464\n",
            "[93]\tvalidation_0-rmse:0.796525\tvalidation_1-rmse:0.906646\n",
            "[94]\tvalidation_0-rmse:0.796199\tvalidation_1-rmse:0.906985\n",
            "[95]\tvalidation_0-rmse:0.79604\tvalidation_1-rmse:0.907161\n",
            "[96]\tvalidation_0-rmse:0.795881\tvalidation_1-rmse:0.907125\n",
            "[97]\tvalidation_0-rmse:0.795515\tvalidation_1-rmse:0.907049\n",
            "[98]\tvalidation_0-rmse:0.795217\tvalidation_1-rmse:0.907429\n",
            "[99]\tvalidation_0-rmse:0.794678\tvalidation_1-rmse:0.908849\n",
            "[100]\tvalidation_0-rmse:0.794591\tvalidation_1-rmse:0.908848\n",
            "[101]\tvalidation_0-rmse:0.794398\tvalidation_1-rmse:0.908637\n",
            "[102]\tvalidation_0-rmse:0.794312\tvalidation_1-rmse:0.908569\n",
            "[103]\tvalidation_0-rmse:0.794138\tvalidation_1-rmse:0.908602\n",
            "[104]\tvalidation_0-rmse:0.79404\tvalidation_1-rmse:0.908522\n",
            "[105]\tvalidation_0-rmse:0.793721\tvalidation_1-rmse:0.908808\n",
            "[106]\tvalidation_0-rmse:0.793591\tvalidation_1-rmse:0.908774\n",
            "[107]\tvalidation_0-rmse:0.793377\tvalidation_1-rmse:0.908729\n",
            "[108]\tvalidation_0-rmse:0.792823\tvalidation_1-rmse:0.908475\n",
            "[109]\tvalidation_0-rmse:0.792668\tvalidation_1-rmse:0.908502\n",
            "[110]\tvalidation_0-rmse:0.792554\tvalidation_1-rmse:0.908571\n",
            "[111]\tvalidation_0-rmse:0.792463\tvalidation_1-rmse:0.908474\n",
            "[112]\tvalidation_0-rmse:0.79233\tvalidation_1-rmse:0.908678\n",
            "[113]\tvalidation_0-rmse:0.792137\tvalidation_1-rmse:0.908539\n",
            "[114]\tvalidation_0-rmse:0.791558\tvalidation_1-rmse:0.906886\n",
            "[115]\tvalidation_0-rmse:0.791326\tvalidation_1-rmse:0.906786\n",
            "[116]\tvalidation_0-rmse:0.791078\tvalidation_1-rmse:0.906648\n",
            "[117]\tvalidation_0-rmse:0.790993\tvalidation_1-rmse:0.906659\n",
            "[118]\tvalidation_0-rmse:0.790744\tvalidation_1-rmse:0.906627\n",
            "[119]\tvalidation_0-rmse:0.790599\tvalidation_1-rmse:0.906543\n",
            "[120]\tvalidation_0-rmse:0.790471\tvalidation_1-rmse:0.906446\n",
            "[121]\tvalidation_0-rmse:0.789053\tvalidation_1-rmse:0.910247\n",
            "[122]\tvalidation_0-rmse:0.788916\tvalidation_1-rmse:0.910284\n",
            "[123]\tvalidation_0-rmse:0.788539\tvalidation_1-rmse:0.910034\n",
            "[124]\tvalidation_0-rmse:0.788401\tvalidation_1-rmse:0.910028\n",
            "[125]\tvalidation_0-rmse:0.788231\tvalidation_1-rmse:0.910033\n",
            "[126]\tvalidation_0-rmse:0.788146\tvalidation_1-rmse:0.910083\n",
            "[127]\tvalidation_0-rmse:0.787976\tvalidation_1-rmse:0.910184\n",
            "[128]\tvalidation_0-rmse:0.787833\tvalidation_1-rmse:0.910494\n",
            "[129]\tvalidation_0-rmse:0.787633\tvalidation_1-rmse:0.91066\n",
            "[130]\tvalidation_0-rmse:0.787581\tvalidation_1-rmse:0.910635\n",
            "[131]\tvalidation_0-rmse:0.787473\tvalidation_1-rmse:0.910663\n",
            "[132]\tvalidation_0-rmse:0.786864\tvalidation_1-rmse:0.910779\n",
            "[133]\tvalidation_0-rmse:0.786733\tvalidation_1-rmse:0.910731\n",
            "Stopping. Best iteration:\n",
            "[33]\tvalidation_0-rmse:0.821339\tvalidation_1-rmse:0.905319\n",
            "\n"
          ],
          "name": "stdout"
        },
        {
          "output_type": "execute_result",
          "data": {
            "text/plain": [
              "6505.000653266907"
            ]
          },
          "metadata": {
            "tags": []
          },
          "execution_count": 62
        }
      ]
    },
    {
      "cell_type": "code",
      "metadata": {
        "id": "u8p4bQqU2fI0",
        "colab_type": "code",
        "colab": {}
      },
      "source": [
        "Y_pred = model.predict(X_valid).clip(0, 20)\n",
        "Y_test = model.predict(X_test).clip(0, 20)\n",
        "\n",
        "submission = pd.DataFrame({\n",
        "    \"ID\": test.index, \n",
        "    \"item_cnt_month\": Y_test\n",
        "})\n",
        "submission.to_csv('xgb_submission.csv', index=False)\n",
        "\n",
        "# save predictions for an ensemble\n",
        "pickle.dump(Y_pred, open('xgb_train.pickle', 'wb'))\n",
        "pickle.dump(Y_test, open('xgb_test.pickle', 'wb'))"
      ],
      "execution_count": 0,
      "outputs": []
    },
    {
      "cell_type": "code",
      "metadata": {
        "id": "QHgh2RGU2jUu",
        "colab_type": "code",
        "colab": {
          "base_uri": "https://localhost:8080/",
          "height": 857
        },
        "outputId": "1c8fb48c-1381-41a2-a685-3a270d74697a"
      },
      "source": [
        "plot_features(model, (10,14))"
      ],
      "execution_count": 64,
      "outputs": [
        {
          "output_type": "execute_result",
          "data": {
            "text/plain": [
              "<matplotlib.axes._subplots.AxesSubplot at 0x7f3d5654a550>"
            ]
          },
          "metadata": {
            "tags": []
          },
          "execution_count": 64
        },
        {
          "output_type": "display_data",
          "data": {
            "image/png": "[encoded data removed]",
            "text/plain": [
              "<Figure size 720x1008 with 1 Axes>"
            ]
          },
          "metadata": {
            "tags": [],
            "needs_background": "light"
          }
        }
      ]
    }
  ]
}