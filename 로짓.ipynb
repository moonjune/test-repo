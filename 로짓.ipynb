{
  "nbformat": 4,
  "nbformat_minor": 0,
  "metadata": {
    "colab": {
      "name": "로짓.ipynb",
      "version": "0.3.2",
      "provenance": [],
      "include_colab_link": true
    },
    "kernelspec": {
      "name": "python3",
      "display_name": "Python 3"
    }
  },
  "cells": [
    {
      "cell_type": "markdown",
      "metadata": {
        "id": "view-in-github",
        "colab_type": "text"
      },
      "source": [
        "<a href=\"https://colab.research.google.com/github/moonjune/test-repo/blob/master/%EB%A1%9C%EC%A7%93.ipynb\" target=\"_parent\"><img src=\"https://colab.research.google.com/assets/colab-badge.svg\" alt=\"Open In Colab\"/></a>"
      ]
    },
    {
      "cell_type": "code",
      "metadata": {
        "id": "UUzh9wfNpImX",
        "colab_type": "code",
        "outputId": "8ae9cd19-4719-450c-8c80-a2552fbac51a",
        "colab": {
          "base_uri": "https://localhost:8080/",
          "height": 345
        }
      },
      "source": [
        "!pip install tensorflow==1.12"
      ],
      "execution_count": 14,
      "outputs": [
        {
          "output_type": "stream",
          "text": [
            "Requirement already satisfied: tensorflow==1.12 in /usr/local/lib/python3.6/dist-packages (1.12.0)\n",
            "Requirement already satisfied: six>=1.10.0 in /usr/local/lib/python3.6/dist-packages (from tensorflow==1.12) (1.12.0)\n",
            "Requirement already satisfied: grpcio>=1.8.6 in /usr/local/lib/python3.6/dist-packages (from tensorflow==1.12) (1.15.0)\n",
            "Requirement already satisfied: gast>=0.2.0 in /usr/local/lib/python3.6/dist-packages (from tensorflow==1.12) (0.2.2)\n",
            "Requirement already satisfied: keras-preprocessing>=1.0.5 in /usr/local/lib/python3.6/dist-packages (from tensorflow==1.12) (1.0.9)\n",
            "Requirement already satisfied: wheel>=0.26 in /usr/local/lib/python3.6/dist-packages (from tensorflow==1.12) (0.33.1)\n",
            "Requirement already satisfied: tensorboard<1.13.0,>=1.12.0 in /usr/local/lib/python3.6/dist-packages (from tensorflow==1.12) (1.12.2)\n",
            "Requirement already satisfied: numpy>=1.13.3 in /usr/local/lib/python3.6/dist-packages (from tensorflow==1.12) (1.16.3)\n",
            "Requirement already satisfied: astor>=0.6.0 in /usr/local/lib/python3.6/dist-packages (from tensorflow==1.12) (0.7.1)\n",
            "Requirement already satisfied: absl-py>=0.1.6 in /usr/local/lib/python3.6/dist-packages (from tensorflow==1.12) (0.7.1)\n",
            "Requirement already satisfied: protobuf>=3.6.1 in /usr/local/lib/python3.6/dist-packages (from tensorflow==1.12) (3.7.1)\n",
            "Requirement already satisfied: keras-applications>=1.0.6 in /usr/local/lib/python3.6/dist-packages (from tensorflow==1.12) (1.0.7)\n",
            "Requirement already satisfied: termcolor>=1.1.0 in /usr/local/lib/python3.6/dist-packages (from tensorflow==1.12) (1.1.0)\n",
            "Requirement already satisfied: werkzeug>=0.11.10 in /usr/local/lib/python3.6/dist-packages (from tensorboard<1.13.0,>=1.12.0->tensorflow==1.12) (0.15.2)\n",
            "Requirement already satisfied: markdown>=2.6.8 in /usr/local/lib/python3.6/dist-packages (from tensorboard<1.13.0,>=1.12.0->tensorflow==1.12) (3.1)\n",
            "Requirement already satisfied: setuptools in /usr/local/lib/python3.6/dist-packages (from protobuf>=3.6.1->tensorflow==1.12) (41.0.1)\n",
            "Requirement already satisfied: h5py in /usr/local/lib/python3.6/dist-packages (from keras-applications>=1.0.6->tensorflow==1.12) (2.8.0)\n"
          ],
          "name": "stdout"
        }
      ]
    },
    {
      "cell_type": "code",
      "metadata": {
        "id": "cGks0sXw1Nz6",
        "colab_type": "code",
        "outputId": "c00da163-f142-4040-9e21-74e58fc74bb6",
        "colab": {
          "base_uri": "https://localhost:8080/",
          "height": 35
        }
      },
      "source": [
        "import numpy as np\n",
        "import matplotlib.pyplot as plt\n",
        "%matplotlib inline\n",
        "import tensorflow as tf\n",
        "import tensorflow.contrib.eager as tfe\n",
        "\n",
        "tf.enable_eager_execution()\n",
        "tf.set_random_seed(777)  # for reproducibility\n",
        "tf.__version__"
      ],
      "execution_count": 15,
      "outputs": [
        {
          "output_type": "execute_result",
          "data": {
            "text/plain": [
              "'1.12.0'"
            ]
          },
          "metadata": {
            "tags": []
          },
          "execution_count": 15
        }
      ]
    },
    {
      "cell_type": "code",
      "metadata": {
        "id": "oiHpbRup1VM_",
        "colab_type": "code",
        "outputId": "7ec837a1-c63f-4291-b299-c82667f14b27",
        "colab": {
          "base_uri": "https://localhost:8080/",
          "height": 283
        }
      },
      "source": [
        "x_train = [[1., 2.],\n",
        "          [2., 3.],\n",
        "          [3., 1.],\n",
        "          [4., 3.],\n",
        "          [5., 3.],\n",
        "          [6., 2.]] # 2개 변수를 가진 2차원 행렬\n",
        "y_train = [[0.],\n",
        "          [0.],\n",
        "          [0.],\n",
        "          [1.],\n",
        "          [1.],\n",
        "          [1.]] # 결과값 1차원\n",
        "\n",
        "x_test = [[5.,2.]] # 얘는 테스트 용, 하지만 트레이닝 데이터와 차원을 맞출 필요가 있으므로 [[]] 사용\n",
        "y_test = [[1.]] \n",
        "\n",
        "x1 = [x[0] for x in x_train] # 가장 가의 []는 리스트 선언, 뒤의 for x in ~는 앞의 x를 정의해줌, 그리고 [0]이란건 첫번째 변인 의미\n",
        "x2 = [x[1] for x in x_train] #위에 있잖아\n",
        "\n",
        "colors = [int(y[0] %3) for y in y_train] #color 리스트에 왜 숫자?에 쫄 필요 없음. color는 변수명, 나랑 스타일이 다른거\n",
        "plt.scatter(x1, x2, c=colors, marker = '^') \n",
        "# 여기서 c가 컬러인데 색 배정을 구분할 변수를 넣으라는 것이고 거기에 color 리스트가 들어간 것. color 수치에 따라 색 바꾸란 거임\n",
        "# 나 같으면 y 넣었을 것, 근데 현장 사람들의 스타일 상으론 y라 쓰지 않고 color로 전환하나..\n",
        "# 앞의 x1, x2 는 x축 y축\n",
        "plt.scatter(x_test[0][0], x_test[0][1],c = 'red')\n",
        "#특별한 의미는 없음. 테스트 셋만 굳이 구별해주려 그런거,\n",
        "\n",
        "plt.xlabel(\"x1\")\n",
        "plt.ylabel(\"x2\")\n",
        "plt.show()"
      ],
      "execution_count": 16,
      "outputs": [
        {
          "output_type": "display_data",
          "data": {
            "image/png": "[encoded data removed]",
            "text/plain": [
              "<Figure size 432x288 with 1 Axes>"
            ]
          },
          "metadata": {
            "tags": []
          }
        }
      ]
    },
    {
      "cell_type": "code",
      "metadata": {
        "id": "r3sNzfdF36rI",
        "colab_type": "code",
        "colab": {}
      },
      "source": [
        "dataset = tf.data.Dataset.from_tensor_slices((x_train, y_train)).batch(len(x_train))#.repeat()\n",
        "#tf.data는 새로 추가된 함수라고 한다.tf.data.Dataset.from_tensor_slices()는 신규 데이터를 넣을 때 사용되며,\n",
        "#()안에는 리스트가 들어가면 된다."
      ],
      "execution_count": 0,
      "outputs": []
    },
    {
      "cell_type": "code",
      "metadata": {
        "id": "3cxSLxAXAPD5",
        "colab_type": "code",
        "colab": {}
      },
      "source": [
        "W = tf.Variable(tf.zeros([2,1]), name = 'weight')\n",
        "b = tf.Variable(tf.zeros([1]), name = 'biaas')"
      ],
      "execution_count": 0,
      "outputs": []
    },
    {
      "cell_type": "code",
      "metadata": {
        "id": "9vNyrtFvA8Gx",
        "colab_type": "code",
        "colab": {}
      },
      "source": [
        "#분류를 해줄 sigmoid 함수의 정의\n",
        "def logistic_regression(features):\n",
        "  hypothesis = tf.div(1., 1.+tf.exp(tf.matmul(features, W) + b))\n",
        "  return hypothesis"
      ],
      "execution_count": 0,
      "outputs": []
    },
    {
      "cell_type": "code",
      "metadata": {
        "id": "40cAitHWBW3p",
        "colab_type": "code",
        "colab": {}
      },
      "source": [
        "# 손실함수\n",
        "\n",
        "def loss_fn(hypothesis, features, labels):\n",
        "  cost = -tf.reduce_mean(labels * tf.log(logistic_regression(features)) + (1 - labels) * tf.log(1- hypothesis))\n",
        "  return cost\n",
        "\n",
        "# 가설함수, x값, y값을 받는 함수이다. \n",
        "# reduce_mean은 모든 차원을 더해서 평균 내는 것\n",
        "# y * log(activation(y)) + (1-y)*log(activation(1-y)) 를 구현한 것 \n",
        "# 앞의 마이너스는 형식 맞추는 용도니 신경 ㄴㄴ함\n",
        "\n",
        "optimizer = tf.train.GradientDescentOptimizer(learning_rate = 0.01)\n",
        "\n",
        "# 경사하강법 속성 가진 객체 선언\n",
        "# 학습률은 0.01"
      ],
      "execution_count": 0,
      "outputs": []
    },
    {
      "cell_type": "code",
      "metadata": {
        "id": "WsnfTuY-BKBR",
        "colab_type": "code",
        "colab": {}
      },
      "source": [
        "def accuracy_fn(hypothesis, labels):\n",
        "  predicted = tf.cast(hypothesis > 0.5, dtype = tf.float32)\n",
        "  accuracy = tf.reduce_mean(tf.cast(tf.equal(predicted, labels), dtype = tf.int32))\n",
        "  return accuracy\n",
        "\n",
        "# 정확도 함수 정의\n",
        "# sigmoid는 변수들을 인식해서 0과 1사이의 어떤 값을 도출한다\n",
        "# 그럼 그 값들 중 어떤 것을 1이라 볼지 정해줘야 하는데(예측이라 진값 모름) 그건 사람이 한다. 그래서 predicted가 있고 0.5라는 기준을 준거\n",
        "# 정확도는 그 정확도 맞음\n",
        "# tf.cast는 tf하고 비슷하다고 해야하려나.. 조건절 같은거. (조건, 출력형태)라 보면 됨. 다만 0과 1로만 나옴\n",
        "# 먼저 predicted 변수는 가설이 0.5를 넘으면 1, 아니면 0을 값으로 가진다. 리스트의 형태가 되나...? hypothesis가 리스트니 당연\n",
        "# accuracy는 predicted와 labels(진값 y)가 같은지 테스트 한다(같으면 1, 다르면 0). 굳이 캐스트가 또 들어갈 필요가 있나..\n",
        "# 결과 값을 int32로 조정해주기 위해서 사용되는 건가 다음에 빼고 해보지"
      ],
      "execution_count": 0,
      "outputs": []
    },
    {
      "cell_type": "code",
      "metadata": {
        "id": "3gJu43HKQU8u",
        "colab_type": "code",
        "colab": {}
      },
      "source": [
        "def grad(hypothesis, features, labels):\n",
        "  with tf.GradientTape() as Tape:\n",
        "    loss_value = loss_fn(logistic_regression(features), features, labels)\n",
        "  return Tape.gradient(loss_value, [W,b])\n",
        "\n",
        "# 미분해주기 위한 함수 정의\n",
        "# loss_fn은 위에서 정의된 예측값과 인자와 진값을 받는 함수\n",
        "# 근데 여기선 logistic_regression(features)을 가설로 받음.. 왜?\n",
        "# loss_fn은 cost를 계산하는 함수로, y*log(a(y)) +(1-y)*log(1-a(y))인데...\n",
        "# hypothesis가 logistic_regression(features)로 들어감으로써 식이 맞아지는건 맞음.. 이렇게 분리한 이유는?\n",
        "# \n",
        "  "
      ],
      "execution_count": 0,
      "outputs": []
    },
    {
      "cell_type": "code",
      "metadata": {
        "id": "B2LiVzF_oAkW",
        "colab_type": "code",
        "outputId": "d11ef746-7aa9-4d4b-9066-4aadfd1fc810",
        "colab": {
          "base_uri": "https://localhost:8080/",
          "height": 234
        }
      },
      "source": [
        "EPOCHS = 1001\n",
        "\n",
        "for step in range(EPOCHS):\n",
        "  for features, labels in tfe.Iterator(dataset): # tfe.Iterator(data)의 형태가 궁금하지만 그냥 zip 타입 리스트여도 상관없을 듯\n",
        "    grads = grad(logistic_regression(features), features, labels) # 단계별 기울기를 구하고\n",
        "    optimizer.apply_gradients(grads_and_vars=zip(grads,[W,b])) # 옵티마이저에다가는 미분될 대상과 미분하는 인자 W, b를 선언\n",
        "    if step % 100 == 0:\n",
        "      print(\"Iter: {}, Loss: {:.4f}\".format(step, loss_fn(logistic_regression(features),features,labels)))\n",
        "      \n",
        "test_acc = accuracy_fn(logistic_regression(x_test),y_test)\n",
        "print(\"Testset Accuracy: {:.4f}\".format(test_acc))\n",
        "\n",
        "# 사용되는 함수는 좀 변하는 경향이 있으니 일단 넘어가고 추후 익숙해질것"
      ],
      "execution_count": 36,
      "outputs": [
        {
          "output_type": "stream",
          "text": [
            "Iter: 0, Loss: 0.6874\n",
            "Iter: 100, Loss: 0.5776\n",
            "Iter: 200, Loss: 0.5349\n",
            "Iter: 300, Loss: 0.5054\n",
            "Iter: 400, Loss: 0.4838\n",
            "Iter: 500, Loss: 0.4671\n",
            "Iter: 600, Loss: 0.4535\n",
            "Iter: 700, Loss: 0.4420\n",
            "Iter: 800, Loss: 0.4319\n",
            "Iter: 900, Loss: 0.4228\n",
            "Iter: 1000, Loss: 0.4144\n",
            "Testset Accuracy: 1.0000\n"
          ],
          "name": "stdout"
        }
      ]
    },
    {
      "cell_type": "code",
      "metadata": {
        "id": "vX6yZGuNoBbO",
        "colab_type": "code",
        "colab": {}
      },
      "source": [
        ""
      ],
      "execution_count": 0,
      "outputs": []
    },
    {
      "cell_type": "code",
      "metadata": {
        "id": "i5v2qHlsL5xk",
        "colab_type": "code",
        "colab": {}
      },
      "source": [
        ""
      ],
      "execution_count": 0,
      "outputs": []
    }
  ]
}