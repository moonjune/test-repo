{
  "nbformat": 4,
  "nbformat_minor": 0,
  "metadata": {
    "colab": {
      "name": "knowledge_my.ipynb",
      "provenance": [],
      "authorship_tag": "ABX9TyPaHPuto7+HzSGJpua8n8Hv",
      "include_colab_link": true
    },
    "kernelspec": {
      "name": "python3",
      "display_name": "Python 3"
    }
  },
  "cells": [
    {
      "cell_type": "markdown",
      "metadata": {
        "id": "view-in-github",
        "colab_type": "text"
      },
      "source": [
        "<a href=\"https://colab.research.google.com/github/moonjune/test-repo/blob/master/knowledge_my.ipynb\" target=\"_parent\"><img src=\"https://colab.research.google.com/assets/colab-badge.svg\" alt=\"Open In Colab\"/></a>"
      ]
    },
    {
      "cell_type": "code",
      "metadata": {
        "id": "COoplTPcLD98",
        "colab_type": "code",
        "outputId": "eda175c4-352a-4b10-9bfa-cc7486c91d4f",
        "colab": {
          "base_uri": "https://localhost:8080/",
          "height": 35
        }
      },
      "source": [
        "# 큰 따옴표, 작은 따옴표\n",
        "msg = '\"You shouldn\\'t \", he said'\n",
        "msg"
      ],
      "execution_count": 0,
      "outputs": [
        {
          "output_type": "execute_result",
          "data": {
            "text/plain": [
              "'\"You shouldn\\'t \", he said'"
            ]
          },
          "metadata": {
            "tags": []
          },
          "execution_count": 8
        }
      ]
    },
    {
      "cell_type": "code",
      "metadata": {
        "id": "3gIYigRcDMHw",
        "colab_type": "code",
        "outputId": "b5eab33d-18e6-4661-e56a-dd9b23edc616",
        "colab": {
          "base_uri": "https://localhost:8080/",
          "height": 89
        }
      },
      "source": [
        "# 포메팅\n",
        "print(\"%10s\" % \"go\") # 10s는 공간 10개를 할당하고 뒤의 hi는 그 공간 중 오른쪽 정렬\n",
        "print(\"%-10sguys.\" % 'go') #-10s는 공간 10개 할당 후 왼쪽정렬을 의미, %-10s까지 묶이고 jane은 그 할당 공간 다음부터 배정\n",
        "print(\"%10.4f\"% 3.3337777) # 0.4f 중 f는 float을 의미하는 듯, 앞의 0는 할당공간, .4는 소숫점 이하 유효수자 개수(반올림 함)\n",
        "                            # 대입된 문자의 길이가 할당공간보다 크면 작동 안하는 듯\n",
        "print(\"%0.2f%%\" % 3.3337777) # %를 이용한 포메팅 시 '%'를 사용하려면 '%%'를 사용하여야 함"
      ],
      "execution_count": 0,
      "outputs": [
        {
          "output_type": "stream",
          "text": [
            "        go\n",
            "go        guys.\n",
            "    3.3338\n",
            "3.33%\n"
          ],
          "name": "stdout"
        }
      ]
    },
    {
      "cell_type": "code",
      "metadata": {
        "id": "OrsXynLrEz4j",
        "colab_type": "code",
        "outputId": "dd2c7b38-ff31-4291-f6e0-28fb325a8051",
        "colab": {
          "base_uri": "https://localhost:8080/",
          "height": 126
        }
      },
      "source": [
        "#format을 사용한 포메팅(f''포메팅은 3.6부터 된다고 함)\n",
        "# 포메팅 괄호 중괄호 안 숫자로, 포메팅 괄호 안 텍스트 선택 가능\n",
        "print(\"2002년도 {0},2006년도 {1}, 2010년도 {0}로 확정\".format('스페인','독일')) \n",
        "print(\"2002년도 {cntry} 항공 티켓 값은 {cost}로 확정\".format(cntry='스페인',cost=7000)) \n",
        "print(\"{:>10}\".format(\"goooooal\")) # % 포메팅의 공간할당과 같은데 표기 차이 존재,(:<이 한 단위, 중간 ^, 오른쪽 <)\n",
        "print(\"{0:~^10}\".format(\"go\")) # 할당된 공간 나머지를 채우는 문자 입력 가능(:와 ^사이 )(2종류는 안되네)\n",
        "print(\"{0:0.4f}\".format(3.42134234)) # 0이후부터는 %와 동일, .앞은 할당공간, .뒤는 유효숫자수(반올림)\n",
        "print(\"{{{0:0.4f}}}\".format(3.42134234)) # format 포메팅에서 중괄호 표현 시 두개를 연속해서 써주면 됨."
      ],
      "execution_count": 0,
      "outputs": [
        {
          "output_type": "stream",
          "text": [
            "2002년도 스페인,2006년도 독일, 2010년도 스페인로 확정\n",
            "2002년도 스페인 항공 티켓 값은 7000로 확정\n",
            "  goooooal\n",
            "~~~~go~~~~\n",
            "3.4213\n",
            "{3.4213}\n"
          ],
          "name": "stdout"
        }
      ]
    },
    {
      "cell_type": "code",
      "metadata": {
        "id": "KYSPcWcFQgi6",
        "colab_type": "code",
        "outputId": "1f62904b-e6e9-4331-bed5-0069522bca7d",
        "colab": {
          "base_uri": "https://localhost:8080/",
          "height": 53
        }
      },
      "source": [
        "# f포메팅\n",
        "name = 'messi'\n",
        "balon = 0\n",
        "print(f'축신의 이름은 {name}이며. 그의 발롱도르 개수는 {balon+6}개 입니다.') # f포메팅은 변수 및 연산을 바로 넣는게 가능\n",
        "print(f'go{\"goal\":o>10}') # format 포메팅과 비슷한 방식의 할당 및 정렬, 채우기도 동일"
      ],
      "execution_count": 0,
      "outputs": [
        {
          "output_type": "stream",
          "text": [
            "축신의 이름은 messi이며. 그의 발롱도르 개수는 6개 입니다.\n",
            "gooooooogoal\n"
          ],
          "name": "stdout"
        }
      ]
    },
    {
      "cell_type": "code",
      "metadata": {
        "id": "ZpRU78j_UVZG",
        "colab_type": "code",
        "outputId": "bad8d7c1-8485-4569-9129-7c1a43e61552",
        "colab": {
          "base_uri": "https://localhost:8080/",
          "height": 35
        }
      },
      "source": [
        "# 문자열 join\n",
        "\",\".join('07레알') # 조인을 모르는 건 아니지만 문자열에 대해서도 익숙해지라고"
      ],
      "execution_count": 0,
      "outputs": [
        {
          "output_type": "execute_result",
          "data": {
            "text/plain": [
              "'0,7,레,알'"
            ]
          },
          "metadata": {
            "tags": []
          },
          "execution_count": 40
        }
      ]
    },
    {
      "cell_type": "code",
      "metadata": {
        "id": "YImJgO3Uc7Y3",
        "colab_type": "code",
        "outputId": "29cf659c-cdb1-4d16-f817-778470211ef6",
        "colab": {
          "base_uri": "https://localhost:8080/",
          "height": 53
        }
      },
      "source": [
        "# 튜플\n",
        "a = 1,2,3,4 # 튜플은 ()없이 바로 콤마로 나열하면 튜플로 생성됨\n",
        "print(a)\n",
        "type(a)\n"
      ],
      "execution_count": 0,
      "outputs": [
        {
          "output_type": "stream",
          "text": [
            "(1, 2, 3, 4)\n"
          ],
          "name": "stdout"
        },
        {
          "output_type": "execute_result",
          "data": {
            "text/plain": [
              "5"
            ]
          },
          "metadata": {
            "tags": []
          },
          "execution_count": 48
        }
      ]
    },
    {
      "cell_type": "code",
      "metadata": {
        "id": "TVpD-pkYpW5a",
        "colab_type": "code",
        "outputId": "62e13e29-0c42-4a36-e3a4-8eea41e7f907",
        "colab": {
          "base_uri": "https://localhost:8080/",
          "height": 35
        }
      },
      "source": [
        "# 딕셔너리\n",
        "\n",
        "top = 't'\n",
        "sales = 's'\n",
        "a = {('t','s') : 5} # 딕쇼너리의 경우 튜플을 키로 쓸 수 있음\n",
        "a[(top,sales)]\n",
        "\n",
        "a.keys() # 키 불러오는 기능 씌우는 것으로 리스트나 튜플로 생성 가능\n",
        "a.values() # 값 불러오는 기능 씌우는 것으로 리스트나 튜플로 생성 가능\n",
        "a.items() # 값, 키 다 불러오는 기능 씌우는 것으로 리스트나 튜플로 생성 가능\n",
        "a.get('d') == None # get은 키가 사전 내 없을 경우 None 값을 가지므로 오류 대신 활용 가능"
      ],
      "execution_count": 0,
      "outputs": [
        {
          "output_type": "execute_result",
          "data": {
            "text/plain": [
              "True"
            ]
          },
          "metadata": {
            "tags": []
          },
          "execution_count": 55
        }
      ]
    },
    {
      "cell_type": "code",
      "metadata": {
        "id": "i4bZCGZvqZTs",
        "colab_type": "code",
        "outputId": "ed81a667-3ec6-4bfb-9361-f33068e1aac3",
        "colab": {
          "base_uri": "https://localhost:8080/",
          "height": 71
        }
      },
      "source": [
        "#집합\n",
        "\n",
        "set_e = set(\"Hello\") # 집합은 순서나 중복이 없음, 리스트 -> 집합 후 연산 -> 리스트가 주로 활용된다 함\n",
        "set1 = set([1,2,3,4,5])\n",
        "set2 = set([3,4,5,6,7])\n",
        "print(set1 & set2) # 교집합 구하기 set1.intersection(set2)도 가능\n",
        "print(set1 | set2) # 합집합 구하기 (역시 중복 없음) set1.union(set2)도 가능\n",
        "print(set1 - set2) # 차집합 구하기 set1.difference(set2)도 가능"
      ],
      "execution_count": 0,
      "outputs": [
        {
          "output_type": "stream",
          "text": [
            "{3, 4, 5}\n",
            "{1, 2, 3, 4, 5, 6, 7}\n",
            "{1, 2}\n"
          ],
          "name": "stdout"
        }
      ]
    },
    {
      "cell_type": "code",
      "metadata": {
        "id": "xu57lMZnS88O",
        "colab_type": "code",
        "outputId": "fe8e67a4-422d-404e-b61f-6977c29778be",
        "colab": {
          "base_uri": "https://localhost:8080/",
          "height": 108
        }
      },
      "source": [
        "# for 반복문 활용\n",
        "a = [[1,2],[3,4],[5,6]]\n",
        "for (one, two) in a: # 자주 써보자 리스트 튜플 모두 되고, ()로 감싸든 []로 감싸든 상관 없음\n",
        "  print(one+two)\n",
        "\n",
        "a = [1,2,3,4,5]\n",
        "a3 = [element_a * 3 for element_a in a] # 리스트 내보, 줄을 짧게 쓰는 방법\n",
        "print(a3)\n",
        "\n",
        "a4 = [element_a * element_b for element_a in a if element_a < 4\n",
        "                            for element_b in range(10,51,10) if element_b < 30] # 리스트 내포, if문, 리스트 중첩 가능\n",
        "print(a4)"
      ],
      "execution_count": 0,
      "outputs": [
        {
          "output_type": "stream",
          "text": [
            "3\n",
            "7\n",
            "11\n",
            "[3, 6, 9, 12, 15]\n",
            "[10, 20, 20, 40, 30, 60]\n"
          ],
          "name": "stdout"
        }
      ]
    },
    {
      "cell_type": "code",
      "metadata": {
        "id": "79i4PQpVwHWv",
        "colab_type": "code",
        "colab": {}
      },
      "source": [
        "#함수\n",
        "\n",
        "def add_many(*args): # 입력값 개수를 자유로이 입력 가능, 입력된 값들은 하나의 튜플이 됨(args는 관례적 이름으로 변경 가능)\n",
        "  result = base_num\n",
        "  for i in arges:\n",
        "    result = result + i\n",
        "  return result\n",
        "\n",
        "def add_diff(option, *args): # args 응용, 고정 인수를 넣을 수도 있는데, 이런건 앞에 둬야 함\n",
        "  result = 0\n",
        "  if option == 'add':\n",
        "    for i in args:\n",
        "      result = result + i\n",
        "    return result\n",
        "  elif option == 'diff':\n",
        "    for i in args:\n",
        "      result = result - i\n",
        "    return result\n",
        "  else:\n",
        "    print('input correct option')\n",
        "\n",
        "def print_kwargs(**kwargs): #키워드 파라미터, **로 입력 시작한다. 들어가야 할 것은 변수명=값 으로 딕셔너리 형태를 띈다.\n",
        "  print(kwargs)\n",
        "\n",
        "def escape_f(key): # 값이 빈 리턴을 활용하는 것.. 나중에 체감되려나..\n",
        "  if key != \"\":\n",
        "    return\n",
        "  elif key == \"\":\n",
        "    return \"뭐?\"\n",
        "\n",
        "abc = lambda a, b, c:(a+b)*c"
      ],
      "execution_count": 0,
      "outputs": []
    },
    {
      "cell_type": "code",
      "metadata": {
        "id": "H8u9N96nJ8uv",
        "colab_type": "code",
        "outputId": "3b8b1849-e797-4755-d193-d4d884bfc111",
        "colab": {
          "base_uri": "https://localhost:8080/",
          "height": 35
        }
      },
      "source": [
        "#print 문 활용\n",
        "for i in range(10):\n",
        "  print(i, end='/') # 반복문에 의한 줄바꿈을 안하기 위함"
      ],
      "execution_count": 0,
      "outputs": [
        {
          "output_type": "stream",
          "text": [
            "0/1/2/3/4/5/6/7/8/9/"
          ],
          "name": "stdout"
        }
      ]
    },
    {
      "cell_type": "code",
      "metadata": {
        "id": "Eb7PtE6Y1zoz",
        "colab_type": "code",
        "colab": {}
      },
      "source": [
        "# 파일 생성\n",
        "f = open(\"Dfile.txt\",\"w\")\n",
        "f.close()"
      ],
      "execution_count": 0,
      "outputs": []
    },
    {
      "cell_type": "code",
      "metadata": {
        "id": "dsRYzJgqkiP-",
        "colab_type": "code",
        "colab": {}
      },
      "source": [
        "#파일 생성\n",
        "f = open(\"Dfile.txt\",\"w\")\n",
        "for i in range(1,11):\n",
        "  data = f\"{i}번째 줄입니다.\\n\"\n",
        "  f.write(data) #파일에 내용 입력\n",
        "f.close()\n",
        "\n",
        "!cat Dfile.txt #파일 열기"
      ],
      "execution_count": 0,
      "outputs": []
    },
    {
      "cell_type": "code",
      "metadata": {
        "id": "6Mx2HMuZlzQM",
        "colab_type": "code",
        "outputId": "26052c92-2425-449d-df34-70f613a69723",
        "colab": {
          "base_uri": "https://localhost:8080/",
          "height": 198
        }
      },
      "source": [
        "f = open(\"Dfile.txt\",'r')\n",
        "line = f.readline() # readlind()을 이용하여 파일 내 텍스트를 한 줄 씩 불러옴\n",
        "while True:\n",
        "  line = f.readline()\n",
        "  if not line: break\n",
        "  print(line, end = '/')\n",
        "f.close()"
      ],
      "execution_count": 0,
      "outputs": [
        {
          "output_type": "stream",
          "text": [
            "2번째 줄입니다.\n",
            "/3번째 줄입니다.\n",
            "/4번째 줄입니다.\n",
            "/5번째 줄입니다.\n",
            "/6번째 줄입니다.\n",
            "/7번째 줄입니다.\n",
            "/8번째 줄입니다.\n",
            "/9번째 줄입니다.\n",
            "/10번째 줄입니다.\n",
            "/"
          ],
          "name": "stdout"
        }
      ]
    },
    {
      "cell_type": "code",
      "metadata": {
        "id": "opZ-dpRSmKgT",
        "colab_type": "code",
        "outputId": "a7e5b637-994a-4ba8-ddcc-9cdbf919bd10",
        "colab": {
          "base_uri": "https://localhost:8080/",
          "height": 198
        }
      },
      "source": [
        "f = open(\"Dfile.txt\",'r')\n",
        "lines = f.readlines() # readlinds()을 이용하여 파일 내 텍스트를 한번에 불러와 이터레이션으로 만듬?\n",
        "for line in lines:\n",
        "  print(line, end = '')\n",
        "f.close()"
      ],
      "execution_count": 0,
      "outputs": [
        {
          "output_type": "stream",
          "text": [
            "1번째 줄입니다.\n",
            "2번째 줄입니다.\n",
            "3번째 줄입니다.\n",
            "4번째 줄입니다.\n",
            "5번째 줄입니다.\n",
            "6번째 줄입니다.\n",
            "7번째 줄입니다.\n",
            "8번째 줄입니다.\n",
            "9번째 줄입니다.\n",
            "10번째 줄입니다.\n"
          ],
          "name": "stdout"
        }
      ]
    },
    {
      "cell_type": "code",
      "metadata": {
        "id": "setJ69oPnu_a",
        "colab_type": "code",
        "outputId": "525a10aa-c3e3-43bd-b135-f5a27dba2bc6",
        "colab": {
          "base_uri": "https://localhost:8080/",
          "height": 216
        }
      },
      "source": [
        "f = open(\"Dfile.txt\",'r')\n",
        "data = f.read() # read()를 이용하여 파일 내 전체 텍스트를 불러옴\n",
        "print(data)\n",
        "f.close()"
      ],
      "execution_count": 0,
      "outputs": [
        {
          "output_type": "stream",
          "text": [
            "1번째 줄입니다.\n",
            "2번째 줄입니다.\n",
            "3번째 줄입니다.\n",
            "4번째 줄입니다.\n",
            "5번째 줄입니다.\n",
            "6번째 줄입니다.\n",
            "7번째 줄입니다.\n",
            "8번째 줄입니다.\n",
            "9번째 줄입니다.\n",
            "10번째 줄입니다.\n",
            "\n"
          ],
          "name": "stdout"
        }
      ]
    },
    {
      "cell_type": "code",
      "metadata": {
        "id": "L7O23t8qoHye",
        "colab_type": "code",
        "colab": {}
      },
      "source": [
        "# 파일에 새 내용 추가하기\n",
        "f = open(\"Dfile.txt\", 'a')\n",
        "for i in range(11,20):\n",
        "  data = f\"{i}번째 줄입니다.\\n\"\n",
        "  f.write(data)\n",
        "f.close()"
      ],
      "execution_count": 0,
      "outputs": []
    },
    {
      "cell_type": "code",
      "metadata": {
        "id": "YQKiJPbwp9S1",
        "colab_type": "code",
        "colab": {}
      },
      "source": [
        "#파일 열 때 with가 쓰이는 경우\n",
        "with open('foo.txt', 'w') as f:\n",
        "  f.write('Life is too short, you need python') #이렇게 파일을 열 경우 작업이 끝나면 바로 파일을 닫아줌"
      ],
      "execution_count": 0,
      "outputs": []
    },
    {
      "cell_type": "code",
      "metadata": {
        "id": "j3Gb-4C-rh7y",
        "colab_type": "code",
        "outputId": "a3225ce9-c349-4193-b589-c92b42feda9f",
        "colab": {
          "base_uri": "https://localhost:8080/",
          "height": 53
        }
      },
      "source": [
        "#sys 모듈 사용 경우\n",
        "\n",
        "import sys\n",
        "\n",
        "args = sys.argv[1:]\n",
        "for i in args:\n",
        "  print(i)"
      ],
      "execution_count": 0,
      "outputs": [
        {
          "output_type": "stream",
          "text": [
            "-f\n",
            "/root/.local/share/jupyter/runtime/kernel-b1c78264-eb5a-4d90-9031-916498274514.json\n"
          ],
          "name": "stdout"
        }
      ]
    },
    {
      "cell_type": "code",
      "metadata": {
        "id": "IKr0WY0GCWuS",
        "colab_type": "code",
        "colab": {}
      },
      "source": [
        "# 클래스 연습\n",
        "\n",
        "class Fourcal:\n",
        "  def __init__(self, n1, n2): # 처음에 setdata를 거치지 않아도 됨\n",
        "    self.num1 = n1\n",
        "    self.num2 = n2\n",
        "\n",
        "  def setdata(self, n1, n2): # 객체 내 데이터 바로 수정 경로 지정하기\n",
        "    self.num1 = n1\n",
        "    self.num2 = n2\n",
        "  \n",
        "  def add(self):\n",
        "    return self.num1+self.num2\n",
        "\n",
        "  def mul(self):\n",
        "    return self.num1*self.num2\n",
        "\n",
        "  def sub(self):\n",
        "    return self.num1-self.num2\n",
        "\n",
        "  def div(self):\n",
        "    return self.num1/self.num2  "
      ],
      "execution_count": 0,
      "outputs": []
    },
    {
      "cell_type": "code",
      "metadata": {
        "id": "cYsXF0dKEDTD",
        "colab_type": "code",
        "outputId": "0018b325-afff-45ce-ae14-52f351da79c1",
        "colab": {
          "base_uri": "https://localhost:8080/",
          "height": 162
        }
      },
      "source": [
        "a = Fourcal(4,2)\n",
        "print(a.add())\n",
        "print(a.mul())\n",
        "print(a.sub())\n",
        "print(a.div())\n",
        "a.setdata(20,10)\n",
        "print(a.add())\n",
        "print(a.mul())\n",
        "print(a.sub())\n",
        "print(a.div())"
      ],
      "execution_count": 0,
      "outputs": [
        {
          "output_type": "stream",
          "text": [
            "6\n",
            "8\n",
            "2\n",
            "2.0\n",
            "30\n",
            "200\n",
            "10\n",
            "2.0\n"
          ],
          "name": "stdout"
        }
      ]
    },
    {
      "cell_type": "code",
      "metadata": {
        "id": "JeAm3cZlO3gl",
        "colab_type": "code",
        "colab": {}
      },
      "source": [
        "# 상속과 함수 추가\n",
        "class MoreFourCal(Fourcal):\n",
        "  def pow(self):\n",
        "    result = self.num1 ** self.num2\n",
        "    return result"
      ],
      "execution_count": 0,
      "outputs": []
    },
    {
      "cell_type": "code",
      "metadata": {
        "id": "iwjPmqD8R2f6",
        "colab_type": "code",
        "outputId": "546deb85-705f-4b22-e4d3-2be4aeeb9149",
        "colab": {
          "base_uri": "https://localhost:8080/",
          "height": 35
        }
      },
      "source": [
        "a=MoreFourCal(4,2)\n",
        "a.pow()"
      ],
      "execution_count": 0,
      "outputs": [
        {
          "output_type": "execute_result",
          "data": {
            "text/plain": [
              "16"
            ]
          },
          "metadata": {
            "tags": []
          },
          "execution_count": 74
        }
      ]
    },
    {
      "cell_type": "code",
      "metadata": {
        "id": "pvlBCP1VR9lL",
        "colab_type": "code",
        "colab": {}
      },
      "source": [
        "# 상속과 매써드 오버라이딩\n",
        "class MoreFourCal(Fourcal):\n",
        "  def pow(self):\n",
        "    result = self.num1 ** self.num2\n",
        "    return result\n",
        "  def div(self):\n",
        "    if self.num2 == 0:\n",
        "      return 0\n",
        "    else:\n",
        "      return self.num1 / self.num2"
      ],
      "execution_count": 0,
      "outputs": []
    },
    {
      "cell_type": "code",
      "metadata": {
        "id": "YQNyfCw5S67r",
        "colab_type": "code",
        "outputId": "96a9ad92-6cc0-4231-ad82-03265b692326",
        "colab": {
          "base_uri": "https://localhost:8080/",
          "height": 35
        }
      },
      "source": [
        "a=MoreFourCal(4,0)\n",
        "a.div()"
      ],
      "execution_count": 0,
      "outputs": [
        {
          "output_type": "execute_result",
          "data": {
            "text/plain": [
              "0"
            ]
          },
          "metadata": {
            "tags": []
          },
          "execution_count": 76
        }
      ]
    },
    {
      "cell_type": "code",
      "metadata": {
        "id": "Hp8wLJit171Q",
        "colab_type": "code",
        "colab": {}
      },
      "source": [
        "import os\n",
        "\n",
        "os.chdir(\"/content/game\")"
      ],
      "execution_count": 0,
      "outputs": []
    },
    {
      "cell_type": "code",
      "metadata": {
        "id": "hbD9bh3v2H9I",
        "colab_type": "code",
        "colab": {
          "base_uri": "https://localhost:8080/",
          "height": 35
        },
        "outputId": "cb68538d-28d5-4fa3-dee6-ef4b0be860b5"
      },
      "source": [
        "os.mkdir(\"/content/game/sound\")\n",
        "os.mkdir(\"/content/game/graphic\")\n",
        "\n",
        "with open('__init__.py','w') as f:\n",
        "  pass"
      ],
      "execution_count": 86,
      "outputs": [
        {
          "output_type": "stream",
          "text": [
            "graphic  __init__.py  __pycache__  sound\n"
          ],
          "name": "stdout"
        }
      ]
    },
    {
      "cell_type": "code",
      "metadata": {
        "id": "FudfE0JD2mkY",
        "colab_type": "code",
        "colab": {}
      },
      "source": [
        "os.mkdir(\"/content/game/sound\")\n",
        "os.chdir(\"/content/game/sound\")\n",
        "\n",
        "with open('__init__.py','w') as f:\n",
        "  pass\n",
        "\n",
        "with open('echo.py','w') as f:\n",
        "  text = \"def echo_test():\\n  print('echo')\"\n",
        "  f.write(text)\n"
      ],
      "execution_count": 0,
      "outputs": []
    },
    {
      "cell_type": "code",
      "metadata": {
        "id": "V7ODT7Ea26Xh",
        "colab_type": "code",
        "colab": {}
      },
      "source": [
        "os.mkdir(\"/content/game/graphic\")\n",
        "os.chdir(\"/content/game/graphic\")\n",
        "\n",
        "with open('__init__.py','w') as f:\n",
        "  pass\n",
        "\n",
        "with open('render.py','w') as f:\n",
        "  text = \"def render_test():\\n  print('render')\"\n",
        "  f.write(text)\n"
      ],
      "execution_count": 0,
      "outputs": []
    },
    {
      "cell_type": "code",
      "metadata": {
        "id": "2BVRWcIuED0d",
        "colab_type": "code",
        "colab": {}
      },
      "source": [
        "# os.chdir(\"/content/game/graphic\")\n",
        "# from google.colab import files\n",
        "# files.download('render.py')"
      ],
      "execution_count": 0,
      "outputs": []
    },
    {
      "cell_type": "code",
      "metadata": {
        "id": "koCSHjIpPyQl",
        "colab_type": "code",
        "colab": {}
      },
      "source": [
        "# os.chdir(\"/content/game/sound\")\n",
        "# from google.colab import files\n",
        "# files.download('echo.py')"
      ],
      "execution_count": 0,
      "outputs": []
    },
    {
      "cell_type": "code",
      "metadata": {
        "id": "ilvhkNMq3KnO",
        "colab_type": "code",
        "outputId": "11e10d94-2b00-44fc-9e1d-678c15c10692",
        "colab": {
          "base_uri": "https://localhost:8080/",
          "height": 35
        }
      },
      "source": [
        "os.chdir(\"/content/game\")\n",
        "!ls\n"
      ],
      "execution_count": 0,
      "outputs": [
        {
          "output_type": "stream",
          "text": [
            "__init__.py  __pycache__\n"
          ],
          "name": "stdout"
        }
      ]
    },
    {
      "cell_type": "code",
      "metadata": {
        "id": "Fa_yXno13MPv",
        "colab_type": "code",
        "colab": {}
      },
      "source": [
        "import sys\n",
        "sys.path.insert(1, \"/content\")"
      ],
      "execution_count": 0,
      "outputs": []
    },
    {
      "cell_type": "code",
      "metadata": {
        "id": "d4suc106CSKA",
        "colab_type": "code",
        "outputId": "e335e183-569b-42e5-a09e-54a3a7017d93",
        "colab": {
          "base_uri": "https://localhost:8080/",
          "height": 35
        }
      },
      "source": [
        "from game.sound import *\n",
        "echo.echo_test()"
      ],
      "execution_count": 87,
      "outputs": [
        {
          "output_type": "stream",
          "text": [
            "echo\n"
          ],
          "name": "stdout"
        }
      ]
    },
    {
      "cell_type": "code",
      "metadata": {
        "id": "HwgYhTlkCtQ-",
        "colab_type": "code",
        "colab": {}
      },
      "source": [
        "from game.sound.echo import echo_test\n",
        "def render_test():\n",
        "  \n",
        "  echo_test()"
      ],
      "execution_count": 0,
      "outputs": []
    },
    {
      "cell_type": "code",
      "metadata": {
        "id": "TktXnNmODp_X",
        "colab_type": "code",
        "colab": {}
      },
      "source": [
        "from game.graphic.render import *"
      ],
      "execution_count": 0,
      "outputs": []
    },
    {
      "cell_type": "code",
      "metadata": {
        "id": "eaXoBCxaKv4C",
        "colab_type": "code",
        "colab": {
          "base_uri": "https://localhost:8080/",
          "height": 35
        },
        "outputId": "f7d72582-b903-4cb6-ce03-f01fcd216803"
      },
      "source": [
        "render_test()"
      ],
      "execution_count": 96,
      "outputs": [
        {
          "output_type": "stream",
          "text": [
            "render\n"
          ],
          "name": "stdout"
        }
      ]
    },
    {
      "cell_type": "code",
      "metadata": {
        "id": "SPuYnc2TTeS-",
        "colab_type": "code",
        "colab": {}
      },
      "source": [
        "def gugu(a):\n",
        "  import numpy as np\n",
        "  base = np.array([1,2,3,4,5,6,7,8,9])\n",
        "  output = base * 2\n",
        "  return list(output)"
      ],
      "execution_count": 0,
      "outputs": []
    },
    {
      "cell_type": "code",
      "metadata": {
        "id": "9pMGHHSCSUuT",
        "colab_type": "code",
        "colab": {
          "base_uri": "https://localhost:8080/",
          "height": 35
        },
        "outputId": "a563901d-c74a-4ce7-8faa-8b9a6a828a80"
      },
      "source": [
        "a = gugu(2)\n",
        "a"
      ],
      "execution_count": 113,
      "outputs": [
        {
          "output_type": "execute_result",
          "data": {
            "text/plain": [
              "[2, 4, 6, 8, 10, 12, 14, 16, 18]"
            ]
          },
          "metadata": {
            "tags": []
          },
          "execution_count": 113
        }
      ]
    },
    {
      "cell_type": "code",
      "metadata": {
        "id": "3NO_BOZgSYDa",
        "colab_type": "code",
        "colab": {}
      },
      "source": [
        "def tfm(n):\n",
        "  a = [i for i in range(1,n) if i %3 == 0 or i % 5 ==0]\n",
        "  return sum(a)"
      ],
      "execution_count": 0,
      "outputs": []
    },
    {
      "cell_type": "code",
      "metadata": {
        "id": "uwlq8MVxUuuL",
        "colab_type": "code",
        "colab": {
          "base_uri": "https://localhost:8080/",
          "height": 35
        },
        "outputId": "5c6da95d-4da3-4ece-cfd4-351d9c790795"
      },
      "source": [
        "tfm(1000)"
      ],
      "execution_count": 132,
      "outputs": [
        {
          "output_type": "execute_result",
          "data": {
            "text/plain": [
              "233168"
            ]
          },
          "metadata": {
            "tags": []
          },
          "execution_count": 132
        }
      ]
    },
    {
      "cell_type": "code",
      "metadata": {
        "colab_type": "code",
        "outputId": "94726b3c-3418-4bc5-d264-5970274f4d4a",
        "id": "UTA5GRY_WJHP",
        "colab": {
          "base_uri": "https://localhost:8080/",
          "height": 35
        }
      },
      "source": [
        "n = 10\n",
        "a = set([i for i in range(1,n) if i %3 == 0 or i % 5 ==0])\n",
        "a"
      ],
      "execution_count": 127,
      "outputs": [
        {
          "output_type": "execute_result",
          "data": {
            "text/plain": [
              "{3, 5, 6, 9}"
            ]
          },
          "metadata": {
            "tags": []
          },
          "execution_count": 127
        }
      ]
    },
    {
      "cell_type": "code",
      "metadata": {
        "id": "OpiDlZO9VqwA",
        "colab_type": "code",
        "colab": {}
      },
      "source": [
        ""
      ],
      "execution_count": 0,
      "outputs": []
    }
  ]
}