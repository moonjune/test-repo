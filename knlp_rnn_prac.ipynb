{
  "nbformat": 4,
  "nbformat_minor": 0,
  "metadata": {
    "colab": {
      "name": "Untitled23.ipynb",
      "version": "0.3.2",
      "provenance": [],
      "include_colab_link": true
    },
    "kernelspec": {
      "name": "python3",
      "display_name": "Python 3"
    }
  },
  "cells": [
    {
      "cell_type": "markdown",
      "metadata": {
        "id": "view-in-github",
        "colab_type": "text"
      },
      "source": [
        "<a href=\"https://colab.research.google.com/github/moonjune/test-repo/blob/master/knlp_rnn_prac.ipynb\" target=\"_parent\"><img src=\"https://colab.research.google.com/assets/colab-badge.svg\" alt=\"Open In Colab\"/></a>"
      ]
    },
    {
      "cell_type": "code",
      "metadata": {
        "id": "lL9Sqe7nxlW8",
        "colab_type": "code",
        "colab": {}
      },
      "source": [
        "#참고:  lambfish https://github.com/bluelight773/Kaggle_IMDB_Bags_of_Popcorn/blob/master/imdb.py.\n",
        "from google.colab import files\n",
        "files.upload()"
      ],
      "execution_count": 0,
      "outputs": []
    },
    {
      "cell_type": "code",
      "metadata": {
        "id": "H16AV5-zxpx7",
        "colab_type": "code",
        "outputId": "2631ac1e-794a-406d-ff87-59536ebbc13c",
        "colab": {
          "base_uri": "https://localhost:8080/",
          "height": 36
        }
      },
      "source": [
        "import os\n",
        "os.chdir('/content')\n",
        "!ls -1ha kaggle.json"
      ],
      "execution_count": 3,
      "outputs": [
        {
          "output_type": "stream",
          "text": [
            "kaggle.json\n"
          ],
          "name": "stdout"
        }
      ]
    },
    {
      "cell_type": "code",
      "metadata": {
        "id": "oALLgLhTxtNE",
        "colab_type": "code",
        "colab": {}
      },
      "source": [
        "!mkdir -p ~/.kaggle\n",
        "!cp kaggle.json ~/.kaggle/\n",
        "# Permission Warning 이 일어나지 않도록 \n",
        "!chmod 600 ~/.kaggle/kaggle.json"
      ],
      "execution_count": 0,
      "outputs": []
    },
    {
      "cell_type": "code",
      "metadata": {
        "id": "UoI3mawtxtpJ",
        "colab_type": "code",
        "outputId": "471cbb62-0eb0-46db-fd9d-2f637ab37091",
        "colab": {
          "base_uri": "https://localhost:8080/",
          "height": 240
        }
      },
      "source": [
        "!mkdir -p /content/kaggle_bag_of_word\n",
        "os.chdir('/content/kaggle_bag_of_word')\n",
        "!kaggle competitions download -c word2vec-nlp-tutorial"
      ],
      "execution_count": 5,
      "outputs": [
        {
          "output_type": "stream",
          "text": [
            "Downloading sampleSubmission.csv to /content/kaggle_bag_of_word\n",
            "\r  0% 0.00/276k [00:00<?, ?B/s]\n",
            "100% 276k/276k [00:00<00:00, 36.6MB/s]\n",
            "Downloading unlabeledTrainData.tsv.zip to /content/kaggle_bag_of_word\n",
            " 96% 25.0M/26.0M [00:00<00:00, 30.6MB/s]\n",
            "100% 26.0M/26.0M [00:00<00:00, 74.6MB/s]\n",
            "Downloading testData.tsv.zip to /content/kaggle_bag_of_word\n",
            " 40% 5.00M/12.6M [00:00<00:00, 27.4MB/s]\n",
            "100% 12.6M/12.6M [00:00<00:00, 49.9MB/s]\n",
            "Downloading labeledTrainData.tsv.zip to /content/kaggle_bag_of_word\n",
            " 85% 11.0M/13.0M [00:00<00:00, 39.7MB/s]\n",
            "100% 13.0M/13.0M [00:00<00:00, 51.3MB/s]\n"
          ],
          "name": "stdout"
        }
      ]
    },
    {
      "cell_type": "code",
      "metadata": {
        "id": "Ryk8RL2ZxvDL",
        "colab_type": "code",
        "colab": {}
      },
      "source": [
        "import zipfile\n",
        "\n",
        "DATA_IN_PATH = '/content/kaggle_bag_of_word/'\n",
        "\n",
        "file_list = ['labeledTrainData.tsv.zip','unlabeledTrainData.tsv.zip', 'testData.tsv.zip']\n",
        "\n",
        "for file in file_list:\n",
        "  zipRef = zipfile.ZipFile(DATA_IN_PATH + file, 'r')\n",
        "  zipRef.extractall(DATA_IN_PATH)\n",
        "  zipRef.close()\n",
        "             "
      ],
      "execution_count": 0,
      "outputs": []
    },
    {
      "cell_type": "code",
      "metadata": {
        "id": "w8FjFQ4gyCCh",
        "colab_type": "code",
        "outputId": "051247f4-3610-4aff-9004-a673e2c68418",
        "colab": {
          "base_uri": "https://localhost:8080/",
          "height": 56
        }
      },
      "source": [
        "import numpy as np # linear algebra\n",
        "import pandas as pd # data processing, CSV file I/O (e.g. pd.read_csv)\n",
        "from bs4 import BeautifulSoup\n",
        "import pickle\n",
        "import os, re\n",
        "print(os.listdir(\"/content/kaggle_bag_of_word/\"))\n",
        "from nltk.corpus import stopwords\n",
        "\n",
        "# Any results you write to the current directory are saved as output."
      ],
      "execution_count": 7,
      "outputs": [
        {
          "output_type": "stream",
          "text": [
            "['sampleSubmission.csv', 'unlabeledTrainData.tsv.zip', 'unlabeledTrainData.tsv', 'labeledTrainData.tsv', 'testData.tsv', 'testData.tsv.zip', 'labeledTrainData.tsv.zip']\n"
          ],
          "name": "stdout"
        }
      ]
    },
    {
      "cell_type": "code",
      "metadata": {
        "id": "Km_o2iKbzcmP",
        "colab_type": "code",
        "colab": {}
      },
      "source": [
        "train = pd.read_csv(\"/content/kaggle_bag_of_word/labeledTrainData.tsv\", header = 0, delimiter = '\\t') # 훈련용 데이터(id, review, sentiment, (25000,3))\n",
        "test = pd.read_csv(\"/content/kaggle_bag_of_word/testData.tsv\", header = 0, delimiter = '\\t') # 테스트용 데이터(id, review, sentiment, (25000,3))"
      ],
      "execution_count": 0,
      "outputs": []
    },
    {
      "cell_type": "code",
      "metadata": {
        "id": "hiEp2prEDfOd",
        "colab_type": "code",
        "outputId": "386c2aec-7fb9-414b-9d82-c985bc6bc062",
        "colab": {
          "base_uri": "https://localhost:8080/",
          "height": 221
        }
      },
      "source": [
        "test['review'][0:10]"
      ],
      "execution_count": 9,
      "outputs": [
        {
          "output_type": "execute_result",
          "data": {
            "text/plain": [
              "0    Naturally in a film who's main themes are of m...\n",
              "1    This movie is a disaster within a disaster fil...\n",
              "2    All in all, this is a movie for kids. We saw i...\n",
              "3    Afraid of the Dark left me with the impression...\n",
              "4    A very accurate depiction of small time mob li...\n",
              "5    ...as valuable as King Tut's tomb! (OK, maybe ...\n",
              "6    This has to be one of the biggest misfires eve...\n",
              "7    This is one of those movies I watched, and won...\n",
              "8    The worst movie i've seen in years (and i've s...\n",
              "9    Five medical students (Kevin Bacon, David Labr...\n",
              "Name: review, dtype: object"
            ]
          },
          "metadata": {
            "tags": []
          },
          "execution_count": 9
        }
      ]
    },
    {
      "cell_type": "code",
      "metadata": {
        "id": "399XBgJe2Q3A",
        "colab_type": "code",
        "colab": {}
      },
      "source": [
        "test[\"sentiment\"] = test[\"id\"].map(lambda x: 1 if int(x.strip('\"').split(\"_\")[1]) >= 5 else 0) #??? 뒷자리가 5 이상이면 1, 아니면 0으로 하라는데 뭔가 맞네???\n",
        "y_test = test[\"sentiment\"] # 얘는 판다스 Series"
      ],
      "execution_count": 0,
      "outputs": []
    },
    {
      "cell_type": "code",
      "metadata": {
        "id": "zMOmS0w2MZ86",
        "colab_type": "code",
        "outputId": "5d8e5f90-fde1-4dbd-864c-c448344894e0",
        "colab": {
          "base_uri": "https://localhost:8080/",
          "height": 36
        }
      },
      "source": [
        "print(type(y_test), y_test.dtype, y_test.shape)"
      ],
      "execution_count": 11,
      "outputs": [
        {
          "output_type": "stream",
          "text": [
            "<class 'pandas.core.series.Series'> int64 (25000,)\n"
          ],
          "name": "stdout"
        }
      ]
    },
    {
      "cell_type": "code",
      "metadata": {
        "id": "TucP3_oo2TuI",
        "colab_type": "code",
        "colab": {}
      },
      "source": [
        "def html_to_text(review):\n",
        "    \"\"\"Return extracted text string from provided HTML string.\"\"\"\n",
        "    review_text = BeautifulSoup(review, \"lxml\").get_text()     # html 텍스트들 정제함. review는 문자열임, loop 되는 애들이 아님\n",
        "    if len(review_text) == 0:\n",
        "        review_text = review\n",
        "    review_text = re.sub(r\"\\<.*\\>\", \"\", review_text) # 기타 특수문자를 없애버림\n",
        "    try:\n",
        "        review_text = review_text.encode('ascii', 'ignore').decode('ascii')#ignore \\xc3 etc. \n",
        "    except UnicodeDecodeError:\n",
        "        review_text = review_text.decode(\"ascii\", \"ignore\")\n",
        "    return review_text # 리뷰 텍스트는 특수문자 없는 문장으로 나옴(유니코드 문제에 대해 대응)\n",
        "\n",
        "\n",
        "def letters_only(text):\n",
        "    \"\"\"Return input string with only letters (no punctuation, no numbers).\"\"\"\n",
        "    # It is probably worth experimenting with milder prepreocessing (eg just removing punctuation)\n",
        "    return re.sub(\"[^a-zA-Z]\", \" \", text) # 숫자 기호 다 없애 줌 알파벳이 아닌건 몽땅 삭제\n",
        "\n",
        "def rnn_tokenizer_review_preprocess(review):\n",
        "    \"\"\"Preprocessing used before fitting/transforming RNN tokenizer - Html->text, remove punctuation/#s, lowercase.\"\"\"\n",
        "    return letters_only(html_to_text(review)).lower() \n",
        "  # rnn 뭐시뭐시 하지만 그냥 기호 떼기임. 위에서 HTML기호를 없애기 데려오고 거기서 알파벳만 남기기 데려오고, 그걸 소문자화하는 함수..."
      ],
      "execution_count": 0,
      "outputs": []
    },
    {
      "cell_type": "code",
      "metadata": {
        "id": "bGtFivoN2YmT",
        "colab_type": "code",
        "colab": {}
      },
      "source": [
        "def get_train_val_data(reviews_to_features_fn=None, df = train):\n",
        "    \"\"\"Extracts features (using reviews_to_features_fn), splits into train/test data, and returns\n",
        "    x_train, y_train, x_test, y_test.  If no feature extraction function is provided, x_train/x_test will\n",
        "    simply consist of a Series of all the reviews.\n",
        "    특징을 추출함, 훈련과 검증 데이터로 나눕니다(x_train, y_train, x_test, y_test).아무런 특징추출함수가 주어지지 않으면,\n",
        "    x_train과 x_test는 전체 리뷰의 시리즈로 간단히 구성됩니다.\n",
        "    \"\"\"\n",
        "    \n",
        "#     df = pd.read_csv('labeledTrainData.tsv', header=0, quotechar='\"', sep='\\t')\n",
        "    SEED = 1000\n",
        "    # Shuffle data frame rows\n",
        "    np.random.seed(SEED)\n",
        "    df = df.iloc[np.random.permutation(len(df))] # df는 df중 np.random.permutation(len(df))의 조건에 맞는 함수.. \n",
        "                                                 # len(df)는 훈련셋의 케이스 수, np.random.permutation은 인자로 주어진 수 이하의 정수로 랜덤 순열 생성\n",
        "                                                 # np.random.permutation(len(df)) 훈련 케이스 수 이하의 정수로 랜덤 수열을 만들고 그거에 따라 df로 섞어버림\n",
        "\n",
        "    if reviews_to_features_fn: # review_to_features_fn이 None이 아니면\n",
        "        feature_rows = df[\"review\"].map(reviews_to_features_fn) # feature_rows로 df['review']를 넣어진 함수에 적용하여 변환\n",
        "        if type(feature_rows[0]) == np.ndarray: # 변환된 함수의 한 케이스가 텐서든 수열이면\n",
        "            num_instances = len(feature_rows) # 케이스 수\n",
        "            num_features = len(feature_rows[0]) # 케이스를 구성하는 열의 수\n",
        "            x = np.concatenate(feature_rows.values).reshape((num_instances, num_features))\n",
        "            # feature_rows는 딕셔너리를 대상으로 하는 듯 함. 딕셔너리 value들을 늘어 붙인 후 형태 조정\n",
        "        else:\n",
        "            x = feature_rows # 변환된 함수의 한 케이스가 수열이 아니면 걍 그대로\n",
        "    else:\n",
        "        x = df[\"review\"] # 적용 함수 없으면 걍 그대로\n",
        "   # 최종적으로 나오는 x는 (Num_case, 1)의 형태를 가짐\n",
        "\n",
        "    y = df[\"sentiment\"]\n",
        "\n",
        "    # Split 80/20\n",
        "    test_start_index = int(df.shape[0] * .8)\n",
        "    x_train = x[0:test_start_index]\n",
        "    y_train = y[0:test_start_index]\n",
        "    x_val = x[test_start_index:]\n",
        "    y_val = y[test_start_index:]\n",
        "\n",
        "    return x_train, y_train, x_val, y_val"
      ],
      "execution_count": 0,
      "outputs": []
    },
    {
      "cell_type": "code",
      "metadata": {
        "id": "jCWFt6T9YIyJ",
        "colab_type": "code",
        "colab": {
          "base_uri": "https://localhost:8080/",
          "height": 175
        },
        "outputId": "47a619d8-e9ac-443a-f6d5-5ea6d4f93d65"
      },
      "source": [
        "rnn_tokenizer_review_preprocess"
      ],
      "execution_count": 37,
      "outputs": [
        {
          "output_type": "error",
          "ename": "TypeError",
          "evalue": "ignored",
          "traceback": [
            "\u001b[0;31m---------------------------------------------------------------------------\u001b[0m",
            "\u001b[0;31mTypeError\u001b[0m                                 Traceback (most recent call last)",
            "\u001b[0;32m<ipython-input-37-a212bb51afec>\u001b[0m in \u001b[0;36m<module>\u001b[0;34m()\u001b[0m\n\u001b[0;32m----> 1\u001b[0;31m \u001b[0mrnn_tokenizer_review_preprocess\u001b[0m\u001b[0;34m[\u001b[0m\u001b[0;34m:\u001b[0m\u001b[0;34m]\u001b[0m\u001b[0;34m\u001b[0m\u001b[0;34m\u001b[0m\u001b[0m\n\u001b[0m",
            "\u001b[0;31mTypeError\u001b[0m: 'function' object is not subscriptable"
          ]
        }
      ]
    },
    {
      "cell_type": "code",
      "metadata": {
        "id": "Nu1PNI7Q2fKm",
        "colab_type": "code",
        "colab": {}
      },
      "source": [
        "x_train, y_train, x_val, y_val = get_train_val_data(rnn_tokenizer_review_preprocess) \n",
        "# 위에서 정의된 그거를 훈련 데이터만 가져옴...??? ㄴㄴ 이건 reviews_to_features_fn=None에 해당하는 것으로 \n",
        "# train은 이미 들어간거\n",
        "x_test = test[\"review\"].map(rnn_tokenizer_review_preprocess)\n",
        "y_test = test[\"sentiment\"] "
      ],
      "execution_count": 0,
      "outputs": []
    },
    {
      "cell_type": "code",
      "metadata": {
        "id": "BKu6NYojZe2p",
        "colab_type": "code",
        "colab": {
          "base_uri": "https://localhost:8080/",
          "height": 147
        },
        "outputId": "791c8251-5679-43ec-dcae-0fb17c4bd212"
      },
      "source": [
        "x_test"
      ],
      "execution_count": 39,
      "outputs": [
        {
          "output_type": "execute_result",
          "data": {
            "text/plain": [
              "array([[   0,    0,    0, ...,    2, 3969,  902],\n",
              "       [   0,    0,    0, ...,   51, 3183, 1481],\n",
              "       [   0,    0,    0, ...,  417,   12,  454],\n",
              "       ...,\n",
              "       [   0,    0,    0, ...,  279,   62,  568],\n",
              "       [   0,    0,    0, ...,  278,   21,  114],\n",
              "       [   0,    0,    0, ...,    5,   11,   29]], dtype=int32)"
            ]
          },
          "metadata": {
            "tags": []
          },
          "execution_count": 39
        }
      ]
    },
    {
      "cell_type": "code",
      "metadata": {
        "id": "eOSoyZe_6xGg",
        "colab_type": "code",
        "outputId": "0f6a6c2b-9e0f-48a0-b5d5-b99b190ae037",
        "colab": {
          "base_uri": "https://localhost:8080/",
          "height": 36
        }
      },
      "source": [
        "from keras.preprocessing.text import Tokenizer\n",
        "from keras.preprocessing.sequence import pad_sequences"
      ],
      "execution_count": 15,
      "outputs": [
        {
          "output_type": "stream",
          "text": [
            "Using TensorFlow backend.\n"
          ],
          "name": "stderr"
        }
      ]
    },
    {
      "cell_type": "code",
      "metadata": {
        "id": "M3XIbMGy60nA",
        "colab_type": "code",
        "colab": {}
      },
      "source": [
        "np.random.seed(1000)\n",
        "num_most_freq_words_to_include = 5000\n",
        "MAX_REVIEW_LENGTH_FOR_KERAS_RNN = 500\n",
        "embedding_vector_length = 32"
      ],
      "execution_count": 0,
      "outputs": []
    },
    {
      "cell_type": "code",
      "metadata": {
        "id": "SIDLKKE362O8",
        "colab_type": "code",
        "colab": {}
      },
      "source": [
        "# train_review_list = [s.encode('ascii') for s in x_train.tolist()]\n",
        "# val_review_list = [s.encode('ascii') for s in x_val.tolist()]\n",
        "# all_review_list = train_review_list + val_review_list\n",
        "train_review_list = x_train.tolist()\n",
        "val_review_list = x_val.tolist()\n",
        "test_review_list = x_test.tolist()\n",
        "all_review_list = x_train.tolist() + x_val.tolist()"
      ],
      "execution_count": 0,
      "outputs": []
    },
    {
      "cell_type": "code",
      "metadata": {
        "id": "RovppYxM64tl",
        "colab_type": "code",
        "colab": {}
      },
      "source": [
        "tokenizer = Tokenizer(num_words=num_most_freq_words_to_include)\n",
        "tokenizer.fit_on_texts(all_review_list)"
      ],
      "execution_count": 0,
      "outputs": []
    },
    {
      "cell_type": "code",
      "metadata": {
        "id": "X8HBmleg66iO",
        "colab_type": "code",
        "colab": {}
      },
      "source": [
        "train_reviews_tokenized = tokenizer.texts_to_sequences(train_review_list)\n",
        "x_train = pad_sequences(train_reviews_tokenized, maxlen=MAX_REVIEW_LENGTH_FOR_KERAS_RNN)\n",
        "val_review_tokenized = tokenizer.texts_to_sequences(val_review_list)\n",
        "x_val = pad_sequences(val_review_tokenized, maxlen=MAX_REVIEW_LENGTH_FOR_KERAS_RNN)\n",
        "test_review_tokenized = tokenizer.texts_to_sequences(test_review_list)\n",
        "x_test = pad_sequences(test_review_tokenized, maxlen=MAX_REVIEW_LENGTH_FOR_KERAS_RNN)"
      ],
      "execution_count": 0,
      "outputs": []
    },
    {
      "cell_type": "code",
      "metadata": {
        "id": "fdypzPnA69K4",
        "colab_type": "code",
        "colab": {}
      },
      "source": [
        "from keras.layers import Input, Embedding, Dropout, Conv1D, MaxPool1D, GRU, LSTM, Dense\n",
        "from keras.models import Model"
      ],
      "execution_count": 0,
      "outputs": []
    },
    {
      "cell_type": "code",
      "metadata": {
        "id": "zHhVhXi269jj",
        "colab_type": "code",
        "colab": {}
      },
      "source": [
        "def rnn_model(use_cnn = True, use_lstm = False):\n",
        "    input_sequences = Input(shape = (MAX_REVIEW_LENGTH_FOR_KERAS_RNN,))\n",
        "    initial_dropout = 0.2\n",
        "    embedding_layer = Embedding(input_dim = num_most_freq_words_to_include, \n",
        "                                output_dim = embedding_vector_length,\n",
        "                                input_length = MAX_REVIEW_LENGTH_FOR_KERAS_RNN)\n",
        "    X = embedding_layer(input_sequences)\n",
        "    X = Dropout(0.2)(X)\n",
        "    if use_cnn:\n",
        "        X = Conv1D(filters=32, kernel_size=3, padding='same', activation='relu')(X)\n",
        "        X = MaxPool1D(pool_size=2)(X)\n",
        "        \n",
        "    # Add GRU layers\n",
        "    dropout_W = 0.0\n",
        "    dropout_U = 0.0\n",
        "    \n",
        "    if use_lstm:\n",
        "        X = LSTM(100, dropout = dropout_W, recurrent_dropout = dropout_U)(X)\n",
        "    else:\n",
        "        X = GRU(100, dropout=dropout_W, recurrent_dropout=dropout_U)(X)\n",
        "    X = Dropout(0.2)(X)\n",
        "    outputs= Dense(1, activation='sigmoid')(X)\n",
        "    model = Model(inputs = input_sequences, outputs = outputs)\n",
        "    model.compile(optimizer = 'adam', loss = 'binary_crossentropy', metrics = ['accuracy'])\n",
        "    \n",
        "    return model"
      ],
      "execution_count": 0,
      "outputs": []
    },
    {
      "cell_type": "code",
      "metadata": {
        "id": "LdLRUlxp7ASs",
        "colab_type": "code",
        "outputId": "5b2ff1c7-fb6f-4af3-892d-d14ceb10ebcd",
        "colab": {
          "base_uri": "https://localhost:8080/",
          "height": 427
        }
      },
      "source": [
        "gru_model = rnn_model(use_lstm=False)"
      ],
      "execution_count": 22,
      "outputs": [
        {
          "output_type": "stream",
          "text": [
            "WARNING: Logging before flag parsing goes to stderr.\n",
            "W0624 23:53:16.584217 140235845011328 deprecation_wrapper.py:119] From /usr/local/lib/python3.6/dist-packages/keras/backend/tensorflow_backend.py:74: The name tf.get_default_graph is deprecated. Please use tf.compat.v1.get_default_graph instead.\n",
            "\n",
            "W0624 23:53:16.633238 140235845011328 deprecation_wrapper.py:119] From /usr/local/lib/python3.6/dist-packages/keras/backend/tensorflow_backend.py:517: The name tf.placeholder is deprecated. Please use tf.compat.v1.placeholder instead.\n",
            "\n",
            "W0624 23:53:16.641973 140235845011328 deprecation_wrapper.py:119] From /usr/local/lib/python3.6/dist-packages/keras/backend/tensorflow_backend.py:4138: The name tf.random_uniform is deprecated. Please use tf.random.uniform instead.\n",
            "\n",
            "W0624 23:53:16.662815 140235845011328 deprecation_wrapper.py:119] From /usr/local/lib/python3.6/dist-packages/keras/backend/tensorflow_backend.py:133: The name tf.placeholder_with_default is deprecated. Please use tf.compat.v1.placeholder_with_default instead.\n",
            "\n",
            "W0624 23:53:16.675749 140235845011328 deprecation.py:506] From /usr/local/lib/python3.6/dist-packages/keras/backend/tensorflow_backend.py:3445: calling dropout (from tensorflow.python.ops.nn_ops) with keep_prob is deprecated and will be removed in a future version.\n",
            "Instructions for updating:\n",
            "Please use `rate` instead of `keep_prob`. Rate should be set to `rate = 1 - keep_prob`.\n",
            "W0624 23:53:16.756237 140235845011328 deprecation_wrapper.py:119] From /usr/local/lib/python3.6/dist-packages/keras/backend/tensorflow_backend.py:3976: The name tf.nn.max_pool is deprecated. Please use tf.nn.max_pool2d instead.\n",
            "\n",
            "W0624 23:53:17.274728 140235845011328 deprecation_wrapper.py:119] From /usr/local/lib/python3.6/dist-packages/keras/optimizers.py:790: The name tf.train.Optimizer is deprecated. Please use tf.compat.v1.train.Optimizer instead.\n",
            "\n",
            "W0624 23:53:17.305688 140235845011328 deprecation_wrapper.py:119] From /usr/local/lib/python3.6/dist-packages/keras/backend/tensorflow_backend.py:3376: The name tf.log is deprecated. Please use tf.math.log instead.\n",
            "\n",
            "W0624 23:53:17.314048 140235845011328 deprecation.py:323] From /usr/local/lib/python3.6/dist-packages/tensorflow/python/ops/nn_impl.py:180: add_dispatch_support.<locals>.wrapper (from tensorflow.python.ops.array_ops) is deprecated and will be removed in a future version.\n",
            "Instructions for updating:\n",
            "Use tf.where in 2.0, which has the same broadcast rule as np.where\n"
          ],
          "name": "stderr"
        }
      ]
    },
    {
      "cell_type": "code",
      "metadata": {
        "id": "EZPzTPWr7CS0",
        "colab_type": "code",
        "outputId": "f8f3f530-3ab6-4d9c-e341-a8d3906a489d",
        "colab": {
          "base_uri": "https://localhost:8080/",
          "height": 444
        }
      },
      "source": [
        "gru_model.summary()"
      ],
      "execution_count": 23,
      "outputs": [
        {
          "output_type": "stream",
          "text": [
            "_________________________________________________________________\n",
            "Layer (type)                 Output Shape              Param #   \n",
            "=================================================================\n",
            "input_1 (InputLayer)         (None, 500)               0         \n",
            "_________________________________________________________________\n",
            "embedding_1 (Embedding)      (None, 500, 32)           160000    \n",
            "_________________________________________________________________\n",
            "dropout_1 (Dropout)          (None, 500, 32)           0         \n",
            "_________________________________________________________________\n",
            "conv1d_1 (Conv1D)            (None, 500, 32)           3104      \n",
            "_________________________________________________________________\n",
            "max_pooling1d_1 (MaxPooling1 (None, 250, 32)           0         \n",
            "_________________________________________________________________\n",
            "gru_1 (GRU)                  (None, 100)               39900     \n",
            "_________________________________________________________________\n",
            "dropout_2 (Dropout)          (None, 100)               0         \n",
            "_________________________________________________________________\n",
            "dense_1 (Dense)              (None, 1)                 101       \n",
            "=================================================================\n",
            "Total params: 203,105\n",
            "Trainable params: 203,105\n",
            "Non-trainable params: 0\n",
            "_________________________________________________________________\n"
          ],
          "name": "stdout"
        }
      ]
    },
    {
      "cell_type": "code",
      "metadata": {
        "id": "BKHCRDSL7DjP",
        "colab_type": "code",
        "outputId": "b5ac98d4-dc96-4860-80bc-72a90009ceea",
        "colab": {
          "base_uri": "https://localhost:8080/",
          "height": 166
        }
      },
      "source": [
        "gru_model.fit(x_train, y_train, batch_size=64, epochs=3, validation_data=[x_val, y_val])"
      ],
      "execution_count": 24,
      "outputs": [
        {
          "output_type": "stream",
          "text": [
            "Train on 20000 samples, validate on 5000 samples\n",
            "Epoch 1/3\n",
            "20000/20000 [==============================] - 107s 5ms/step - loss: 0.5150 - acc: 0.7217 - val_loss: 0.3552 - val_acc: 0.8490\n",
            "Epoch 2/3\n",
            "20000/20000 [==============================] - 106s 5ms/step - loss: 0.2771 - acc: 0.8896 - val_loss: 0.3057 - val_acc: 0.8794\n",
            "Epoch 3/3\n",
            "20000/20000 [==============================] - 106s 5ms/step - loss: 0.2188 - acc: 0.9153 - val_loss: 0.3244 - val_acc: 0.8736\n"
          ],
          "name": "stdout"
        },
        {
          "output_type": "execute_result",
          "data": {
            "text/plain": [
              "<keras.callbacks.History at 0x7f8aec175390>"
            ]
          },
          "metadata": {
            "tags": []
          },
          "execution_count": 24
        }
      ]
    },
    {
      "cell_type": "code",
      "metadata": {
        "id": "zwT-XaZq7FOy",
        "colab_type": "code",
        "colab": {}
      },
      "source": [
        "y_test_pred_gru = gru_model.predict(x_test)"
      ],
      "execution_count": 0,
      "outputs": []
    },
    {
      "cell_type": "code",
      "metadata": {
        "id": "6DmmE38G7GZG",
        "colab_type": "code",
        "outputId": "1882013d-a776-4512-def7-0015826a6814",
        "colab": {
          "base_uri": "https://localhost:8080/",
          "height": 444
        }
      },
      "source": [
        "lstm_model = rnn_model(use_lstm=True)\n",
        "lstm_model.summary()"
      ],
      "execution_count": 26,
      "outputs": [
        {
          "output_type": "stream",
          "text": [
            "_________________________________________________________________\n",
            "Layer (type)                 Output Shape              Param #   \n",
            "=================================================================\n",
            "input_2 (InputLayer)         (None, 500)               0         \n",
            "_________________________________________________________________\n",
            "embedding_2 (Embedding)      (None, 500, 32)           160000    \n",
            "_________________________________________________________________\n",
            "dropout_3 (Dropout)          (None, 500, 32)           0         \n",
            "_________________________________________________________________\n",
            "conv1d_2 (Conv1D)            (None, 500, 32)           3104      \n",
            "_________________________________________________________________\n",
            "max_pooling1d_2 (MaxPooling1 (None, 250, 32)           0         \n",
            "_________________________________________________________________\n",
            "lstm_1 (LSTM)                (None, 100)               53200     \n",
            "_________________________________________________________________\n",
            "dropout_4 (Dropout)          (None, 100)               0         \n",
            "_________________________________________________________________\n",
            "dense_2 (Dense)              (None, 1)                 101       \n",
            "=================================================================\n",
            "Total params: 216,405\n",
            "Trainable params: 216,405\n",
            "Non-trainable params: 0\n",
            "_________________________________________________________________\n"
          ],
          "name": "stdout"
        }
      ]
    },
    {
      "cell_type": "code",
      "metadata": {
        "id": "EGp3IMaf7IFw",
        "colab_type": "code",
        "outputId": "0626883c-5278-41ff-9d56-9aa7d7682624",
        "colab": {
          "base_uri": "https://localhost:8080/",
          "height": 166
        }
      },
      "source": [
        "lstm_model.fit(x_train, y_train, batch_size = 64, epochs = 3, validation_data=[x_val, y_val])"
      ],
      "execution_count": 27,
      "outputs": [
        {
          "output_type": "stream",
          "text": [
            "Train on 20000 samples, validate on 5000 samples\n",
            "Epoch 1/3\n",
            "20000/20000 [==============================] - 128s 6ms/step - loss: 0.4738 - acc: 0.7609 - val_loss: 0.3323 - val_acc: 0.8628\n",
            "Epoch 2/3\n",
            "20000/20000 [==============================] - 130s 6ms/step - loss: 0.2670 - acc: 0.8935 - val_loss: 0.3026 - val_acc: 0.8788\n",
            "Epoch 3/3\n",
            "20000/20000 [==============================] - 129s 6ms/step - loss: 0.2210 - acc: 0.9163 - val_loss: 0.2922 - val_acc: 0.8912\n"
          ],
          "name": "stdout"
        },
        {
          "output_type": "execute_result",
          "data": {
            "text/plain": [
              "<keras.callbacks.History at 0x7f8ae35dd160>"
            ]
          },
          "metadata": {
            "tags": []
          },
          "execution_count": 27
        }
      ]
    },
    {
      "cell_type": "code",
      "metadata": {
        "id": "Z6Nty_Do7J6S",
        "colab_type": "code",
        "colab": {}
      },
      "source": [
        "y_test_pred_lstm = lstm_model.predict(x_test)"
      ],
      "execution_count": 0,
      "outputs": []
    },
    {
      "cell_type": "code",
      "metadata": {
        "id": "FpSf2MBq7Lac",
        "colab_type": "code",
        "colab": {}
      },
      "source": [
        "from sklearn.metrics import accuracy_score, roc_auc_score, roc_curve\n",
        "import matplotlib.pyplot as plt\n",
        "%matplotlib inline"
      ],
      "execution_count": 0,
      "outputs": []
    },
    {
      "cell_type": "code",
      "metadata": {
        "id": "PktvrhVu7Nm5",
        "colab_type": "code",
        "outputId": "bac44c11-42d3-4952-e775-4bffdd7fb8a6",
        "colab": {
          "base_uri": "https://localhost:8080/",
          "height": 54
        }
      },
      "source": [
        "print(\"The AUC socre for GRU model is : %.4f.\" %roc_auc_score(y_test, y_test_pred_gru))\n",
        "print(\"The AUC socre for LSTM model is : %.4f.\" %roc_auc_score(y_test, y_test_pred_lstm))"
      ],
      "execution_count": 30,
      "outputs": [
        {
          "output_type": "stream",
          "text": [
            "The AUC socre for GRU model is : 0.9483.\n",
            "The AUC socre for LSTM model is : 0.9473.\n"
          ],
          "name": "stdout"
        }
      ]
    },
    {
      "cell_type": "code",
      "metadata": {
        "id": "LnayPMpz7PY9",
        "colab_type": "code",
        "outputId": "7f1cecc6-a59b-4ae9-ee56-92be1ff6a8c9",
        "colab": {
          "base_uri": "https://localhost:8080/",
          "height": 295
        }
      },
      "source": [
        "y_pred_list = [y_test_pred_gru, y_test_pred_lstm]\n",
        "label_list = [\"GRU\", \"LSTM\"]\n",
        "pred_label = zip(y_pred_list, label_list)\n",
        "for y_pred, lbl in pred_label:\n",
        "    fpr, tpr, _ = roc_curve(y_test, y_pred)\n",
        "    plt.plot(fpr, tpr, label = lbl)\n",
        "\n",
        "plt.xlabel(\"True Postive Rate\")\n",
        "plt.ylabel(\"False Positive Rate\")\n",
        "plt.title(\"ROC Curve for RNN Models\")\n",
        "plt.legend()\n",
        "plt.show()"
      ],
      "execution_count": 34,
      "outputs": [
        {
          "output_type": "display_data",
          "data": {
            "image/png": "[encoded data removed]",
            "text/plain": [
              "<Figure size 432x288 with 1 Axes>"
            ]
          },
          "metadata": {
            "tags": []
          }
        }
      ]
    },
    {
      "cell_type": "code",
      "metadata": {
        "id": "a0lsZgdM7Qz4",
        "colab_type": "code",
        "colab": {}
      },
      "source": [
        ""
      ],
      "execution_count": 0,
      "outputs": []
    }
  ]
}