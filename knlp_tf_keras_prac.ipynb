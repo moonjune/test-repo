{
  "nbformat": 4,
  "nbformat_minor": 0,
  "metadata": {
    "colab": {
      "name": "knlp_tf.keras_prac.ipynb",
      "version": "0.3.2",
      "provenance": [],
      "include_colab_link": true
    },
    "kernelspec": {
      "name": "python3",
      "display_name": "Python 3"
    }
  },
  "cells": [
    {
      "cell_type": "markdown",
      "metadata": {
        "id": "view-in-github",
        "colab_type": "text"
      },
      "source": [
        "<a href=\"https://colab.research.google.com/github/moonjune/test-repo/blob/master/knlp_tf_keras_prac.ipynb\" target=\"_parent\"><img src=\"https://colab.research.google.com/assets/colab-badge.svg\" alt=\"Open In Colab\"/></a>"
      ]
    },
    {
      "cell_type": "code",
      "metadata": {
        "id": "OIpyhO8-kkZi",
        "colab_type": "code",
        "outputId": "98eb083e-8553-4a53-ba14-704a80f631a6",
        "colab": {
          "base_uri": "https://localhost:8080/",
          "height": 162
        }
      },
      "source": [
        "!git clone https://github.com/NLP-kr/tensorflow-ml-nlp.git"
      ],
      "execution_count": 0,
      "outputs": [
        {
          "output_type": "stream",
          "text": [
            "Cloning into 'tensorflow-ml-nlp'...\n",
            "remote: Enumerating objects: 64, done.\u001b[K\n",
            "remote: Counting objects: 100% (64/64), done.\u001b[K\n",
            "remote: Compressing objects: 100% (49/49), done.\u001b[K\n",
            "remote: Total 842 (delta 30), reused 27 (delta 15), pack-reused 778\u001b[K\n",
            "Receiving objects: 100% (842/842), 160.14 MiB | 25.32 MiB/s, done.\n",
            "Resolving deltas: 100% (497/497), done.\n",
            "Checking out files: 100% (100/100), done.\n"
          ],
          "name": "stdout"
        }
      ]
    },
    {
      "cell_type": "code",
      "metadata": {
        "id": "4twJw1vdkp9V",
        "colab_type": "code",
        "outputId": "255fc5fa-d177-4a7e-a358-aac69c3a27d7",
        "colab": {
          "base_uri": "https://localhost:8080/",
          "height": 1234
        }
      },
      "source": [
        "import os\n",
        "os.chdir('/content/tensorflow-ml-nlp')\n",
        "!pip install -r requirements.txt"
      ],
      "execution_count": 0,
      "outputs": [
        {
          "output_type": "stream",
          "text": [
            "Requirement already satisfied: tensorflow>=1.10 in /usr/local/lib/python3.6/dist-packages (from -r requirements.txt (line 1)) (1.13.1)\n",
            "Requirement already satisfied: sklearn in /usr/local/lib/python3.6/dist-packages (from -r requirements.txt (line 2)) (0.0)\n",
            "Requirement already satisfied: pandas in /usr/local/lib/python3.6/dist-packages (from -r requirements.txt (line 3)) (0.24.2)\n",
            "Requirement already satisfied: matplotlib in /usr/local/lib/python3.6/dist-packages (from -r requirements.txt (line 4)) (3.0.3)\n",
            "Requirement already satisfied: bs4 in /usr/local/lib/python3.6/dist-packages (from -r requirements.txt (line 5)) (0.0.1)\n",
            "Requirement already satisfied: html5lib in /usr/local/lib/python3.6/dist-packages (from -r requirements.txt (line 6)) (1.0.1)\n",
            "Requirement already satisfied: wordcloud in /usr/local/lib/python3.6/dist-packages (from -r requirements.txt (line 7)) (1.5.0)\n",
            "Requirement already satisfied: seaborn in /usr/local/lib/python3.6/dist-packages (from -r requirements.txt (line 8)) (0.9.0)\n",
            "Requirement already satisfied: nltk in /usr/local/lib/python3.6/dist-packages (from -r requirements.txt (line 9)) (3.2.5)\n",
            "Requirement already satisfied: gensim in /usr/local/lib/python3.6/dist-packages (from -r requirements.txt (line 10)) (3.6.0)\n",
            "Collecting konlpy (from -r requirements.txt (line 11))\n",
            "\u001b[?25l  Downloading https://files.pythonhosted.org/packages/e5/3d/4e983cd98d87b50b2ab0387d73fa946f745aa8164e8888a714d5129f9765/konlpy-0.5.1-py2.py3-none-any.whl (19.4MB)\n",
            "\u001b[K     |████████████████████████████████| 19.4MB 4.9MB/s \n",
            "\u001b[?25hRequirement already satisfied: xgboost in /usr/local/lib/python3.6/dist-packages (from -r requirements.txt (line 12)) (0.90)\n",
            "Requirement already satisfied: tqdm in /usr/local/lib/python3.6/dist-packages (from -r requirements.txt (line 13)) (4.28.1)\n",
            "Requirement already satisfied: keras-preprocessing>=1.0.5 in /usr/local/lib/python3.6/dist-packages (from tensorflow>=1.10->-r requirements.txt (line 1)) (1.0.9)\n",
            "Requirement already satisfied: protobuf>=3.6.1 in /usr/local/lib/python3.6/dist-packages (from tensorflow>=1.10->-r requirements.txt (line 1)) (3.7.1)\n",
            "Requirement already satisfied: tensorboard<1.14.0,>=1.13.0 in /usr/local/lib/python3.6/dist-packages (from tensorflow>=1.10->-r requirements.txt (line 1)) (1.13.1)\n",
            "Requirement already satisfied: termcolor>=1.1.0 in /usr/local/lib/python3.6/dist-packages (from tensorflow>=1.10->-r requirements.txt (line 1)) (1.1.0)\n",
            "Requirement already satisfied: absl-py>=0.1.6 in /usr/local/lib/python3.6/dist-packages (from tensorflow>=1.10->-r requirements.txt (line 1)) (0.7.1)\n",
            "Requirement already satisfied: numpy>=1.13.3 in /usr/local/lib/python3.6/dist-packages (from tensorflow>=1.10->-r requirements.txt (line 1)) (1.16.3)\n",
            "Requirement already satisfied: wheel>=0.26 in /usr/local/lib/python3.6/dist-packages (from tensorflow>=1.10->-r requirements.txt (line 1)) (0.33.4)\n",
            "Requirement already satisfied: gast>=0.2.0 in /usr/local/lib/python3.6/dist-packages (from tensorflow>=1.10->-r requirements.txt (line 1)) (0.2.2)\n",
            "Requirement already satisfied: grpcio>=1.8.6 in /usr/local/lib/python3.6/dist-packages (from tensorflow>=1.10->-r requirements.txt (line 1)) (1.15.0)\n",
            "Requirement already satisfied: tensorflow-estimator<1.14.0rc0,>=1.13.0 in /usr/local/lib/python3.6/dist-packages (from tensorflow>=1.10->-r requirements.txt (line 1)) (1.13.0)\n",
            "Requirement already satisfied: astor>=0.6.0 in /usr/local/lib/python3.6/dist-packages (from tensorflow>=1.10->-r requirements.txt (line 1)) (0.8.0)\n",
            "Requirement already satisfied: six>=1.10.0 in /usr/local/lib/python3.6/dist-packages (from tensorflow>=1.10->-r requirements.txt (line 1)) (1.12.0)\n",
            "Requirement already satisfied: keras-applications>=1.0.6 in /usr/local/lib/python3.6/dist-packages (from tensorflow>=1.10->-r requirements.txt (line 1)) (1.0.7)\n",
            "Requirement already satisfied: scikit-learn in /usr/local/lib/python3.6/dist-packages (from sklearn->-r requirements.txt (line 2)) (0.21.1)\n",
            "Requirement already satisfied: pytz>=2011k in /usr/local/lib/python3.6/dist-packages (from pandas->-r requirements.txt (line 3)) (2018.9)\n",
            "Requirement already satisfied: python-dateutil>=2.5.0 in /usr/local/lib/python3.6/dist-packages (from pandas->-r requirements.txt (line 3)) (2.5.3)\n",
            "Requirement already satisfied: kiwisolver>=1.0.1 in /usr/local/lib/python3.6/dist-packages (from matplotlib->-r requirements.txt (line 4)) (1.1.0)\n",
            "Requirement already satisfied: cycler>=0.10 in /usr/local/lib/python3.6/dist-packages (from matplotlib->-r requirements.txt (line 4)) (0.10.0)\n",
            "Requirement already satisfied: pyparsing!=2.0.4,!=2.1.2,!=2.1.6,>=2.0.1 in /usr/local/lib/python3.6/dist-packages (from matplotlib->-r requirements.txt (line 4)) (2.4.0)\n",
            "Requirement already satisfied: beautifulsoup4 in /usr/local/lib/python3.6/dist-packages (from bs4->-r requirements.txt (line 5)) (4.6.3)\n",
            "Requirement already satisfied: webencodings in /usr/local/lib/python3.6/dist-packages (from html5lib->-r requirements.txt (line 6)) (0.5.1)\n",
            "Requirement already satisfied: pillow in /usr/local/lib/python3.6/dist-packages (from wordcloud->-r requirements.txt (line 7)) (4.3.0)\n",
            "Requirement already satisfied: scipy>=0.14.0 in /usr/local/lib/python3.6/dist-packages (from seaborn->-r requirements.txt (line 8)) (1.3.0)\n",
            "Requirement already satisfied: smart-open>=1.2.1 in /usr/local/lib/python3.6/dist-packages (from gensim->-r requirements.txt (line 10)) (1.8.3)\n",
            "Collecting JPype1>=0.5.7 (from konlpy->-r requirements.txt (line 11))\n",
            "\u001b[?25l  Downloading https://files.pythonhosted.org/packages/c4/4b/60a3e63d51714d4d7ef1b1efdf84315d118a0a80a5b085bb52a7e2428cdc/JPype1-0.6.3.tar.gz (168kB)\n",
            "\u001b[K     |████████████████████████████████| 174kB 43.6MB/s \n",
            "\u001b[?25hRequirement already satisfied: setuptools in /usr/local/lib/python3.6/dist-packages (from protobuf>=3.6.1->tensorflow>=1.10->-r requirements.txt (line 1)) (41.0.1)\n",
            "Requirement already satisfied: werkzeug>=0.11.15 in /usr/local/lib/python3.6/dist-packages (from tensorboard<1.14.0,>=1.13.0->tensorflow>=1.10->-r requirements.txt (line 1)) (0.15.4)\n",
            "Requirement already satisfied: markdown>=2.6.8 in /usr/local/lib/python3.6/dist-packages (from tensorboard<1.14.0,>=1.13.0->tensorflow>=1.10->-r requirements.txt (line 1)) (3.1.1)\n",
            "Requirement already satisfied: mock>=2.0.0 in /usr/local/lib/python3.6/dist-packages (from tensorflow-estimator<1.14.0rc0,>=1.13.0->tensorflow>=1.10->-r requirements.txt (line 1)) (3.0.5)\n",
            "Requirement already satisfied: h5py in /usr/local/lib/python3.6/dist-packages (from keras-applications>=1.0.6->tensorflow>=1.10->-r requirements.txt (line 1)) (2.8.0)\n",
            "Requirement already satisfied: joblib>=0.11 in /usr/local/lib/python3.6/dist-packages (from scikit-learn->sklearn->-r requirements.txt (line 2)) (0.12.5)\n",
            "Requirement already satisfied: olefile in /usr/local/lib/python3.6/dist-packages (from pillow->wordcloud->-r requirements.txt (line 7)) (0.46)\n",
            "Requirement already satisfied: boto>=2.32 in /usr/local/lib/python3.6/dist-packages (from smart-open>=1.2.1->gensim->-r requirements.txt (line 10)) (2.49.0)\n",
            "Requirement already satisfied: boto3 in /usr/local/lib/python3.6/dist-packages (from smart-open>=1.2.1->gensim->-r requirements.txt (line 10)) (1.9.153)\n",
            "Requirement already satisfied: requests in /usr/local/lib/python3.6/dist-packages (from smart-open>=1.2.1->gensim->-r requirements.txt (line 10)) (2.21.0)\n",
            "Requirement already satisfied: botocore<1.13.0,>=1.12.153 in /usr/local/lib/python3.6/dist-packages (from boto3->smart-open>=1.2.1->gensim->-r requirements.txt (line 10)) (1.12.153)\n",
            "Requirement already satisfied: jmespath<1.0.0,>=0.7.1 in /usr/local/lib/python3.6/dist-packages (from boto3->smart-open>=1.2.1->gensim->-r requirements.txt (line 10)) (0.9.4)\n",
            "Requirement already satisfied: s3transfer<0.3.0,>=0.2.0 in /usr/local/lib/python3.6/dist-packages (from boto3->smart-open>=1.2.1->gensim->-r requirements.txt (line 10)) (0.2.0)\n",
            "Requirement already satisfied: idna<2.9,>=2.5 in /usr/local/lib/python3.6/dist-packages (from requests->smart-open>=1.2.1->gensim->-r requirements.txt (line 10)) (2.8)\n",
            "Requirement already satisfied: certifi>=2017.4.17 in /usr/local/lib/python3.6/dist-packages (from requests->smart-open>=1.2.1->gensim->-r requirements.txt (line 10)) (2019.3.9)\n",
            "Requirement already satisfied: urllib3<1.25,>=1.21.1 in /usr/local/lib/python3.6/dist-packages (from requests->smart-open>=1.2.1->gensim->-r requirements.txt (line 10)) (1.24.3)\n",
            "Requirement already satisfied: chardet<3.1.0,>=3.0.2 in /usr/local/lib/python3.6/dist-packages (from requests->smart-open>=1.2.1->gensim->-r requirements.txt (line 10)) (3.0.4)\n",
            "Requirement already satisfied: docutils>=0.10 in /usr/local/lib/python3.6/dist-packages (from botocore<1.13.0,>=1.12.153->boto3->smart-open>=1.2.1->gensim->-r requirements.txt (line 10)) (0.14)\n",
            "Building wheels for collected packages: JPype1\n",
            "  Building wheel for JPype1 (setup.py) ... \u001b[?25l\u001b[?25hdone\n",
            "  Stored in directory: /root/.cache/pip/wheels/0e/2b/e8/c0b818ac4b3d35104d35e48cdc7afe27fc06ea277feed2831a\n",
            "Successfully built JPype1\n",
            "Installing collected packages: JPype1, konlpy\n",
            "Successfully installed JPype1-0.6.3 konlpy-0.5.1\n"
          ],
          "name": "stdout"
        }
      ]
    },
    {
      "cell_type": "code",
      "metadata": {
        "id": "w8fh8RX3vPpy",
        "colab_type": "code",
        "colab": {}
      },
      "source": [
        "import tensorflow as tf"
      ],
      "execution_count": 0,
      "outputs": []
    },
    {
      "cell_type": "code",
      "metadata": {
        "id": "epnvvsoykxQa",
        "colab_type": "code",
        "outputId": "68fc434a-3592-4a95-a4c4-b626fb6fda2b",
        "colab": {
          "base_uri": "https://localhost:8080/",
          "height": 55
        }
      },
      "source": [
        "# tf.keras.layers.Dense \n",
        "# 소위 fully connected layer로 보면 될 듯\n",
        "\n",
        "\"\"\"\n",
        "#객체 생성하고 객체를 활용해 출력값 받기\n",
        "dense = tf.keras.laters.Dense( ... )\n",
        "output = dense(input)\n",
        "\n",
        "# 객체 생성과 출력값을 동시에 받기\n",
        "output = tf.keras.layers.Dense( ... )(input) # ()(), 괄호가 중간에 뭐 없이 연달아 들어갈 수 있음\n",
        "\"\"\"\n",
        "\n",
        "\"\"\"\n",
        "__init(\n",
        "units : 출력값의 \"크기\", \n",
        "activation = None : 활성화 함수\n",
        "use_bias = True : 편향 사용 여부\n",
        "kernel_initializer = 'glorot_uniform' : 가중치 초기화\n",
        "bias_initializer = 'zeros' : 편향 초기화\n",
        "kenerl_regularizer = None : 가중치를 정규화 하는 방법\n",
        "bias_regularizer = None : 편향치를 정규화 하는 방법\n",
        "activity_regularizer = None : 출력 값의 정규화 하는 방법\n",
        "kernel_constraint = None : optimizer가 업데이트 시킨 후에 가중치에 적용되는 부가적인 제약 함수\n",
        "bias_constraint = None : optimizer가 업데이트 시킨 후에 가중치에 적용되는 부가적인 제약 함수\n",
        ")\n",
        "\n",
        "# norm constraint, value constraint 알 필요\n",
        "\"\"\""
      ],
      "execution_count": 0,
      "outputs": [
        {
          "output_type": "execute_result",
          "data": {
            "text/plain": [
              "'\\n__init(\\nunits : 출력값의 \"크기\", \\nactivation = None : 활성화 함수\\nuse_bias = True : 편향 사용 여부\\nkernel_initializer = \\'glorot_uniform\\' : 가중치 초기화\\nbias_initializer = \\'zeros\\' : 편향 초기화\\nkenerl_regularizer = None : 가중치를 정규화 하는 방법\\nbias_regularizer = None : 편향치를 정규화 하는 방법\\nactivity_regularizer = None : 출력 값의 정규화 하는 방법\\nkernel_constraint = None : optimizer가 업데이트 시킨 후에 가중치에 적용되는 부가적인 제약 함수\\nbias_constraint = None : optimizer가 업데이트 시킨 후에 가중치에 적용되는 부가적인 제약 함수\\n)\\n\\n# norm constraint, value constraint 알 필요\\n'"
            ]
          },
          "metadata": {
            "tags": []
          },
          "execution_count": 5
        }
      ]
    },
    {
      "cell_type": "code",
      "metadata": {
        "id": "Ly0KxoXyuwoU",
        "colab_type": "code",
        "colab": {}
      },
      "source": [
        "# dense layer 예제\n",
        "\n",
        "INPUT_SIZE = (20, 1)\n",
        "\n",
        "input = tf.placeholder(tf.float32, shape = INPUT_SIZE)\n",
        "hidden = tf.keras.layers.Dense(units = 10, activation = tf.nn.sigmoid)(input)\n",
        "output = tf.keras.layers.Dense(units = 2, activation = tf.nn.sigmoid)(input)"
      ],
      "execution_count": 0,
      "outputs": []
    },
    {
      "cell_type": "code",
      "metadata": {
        "id": "ToLEZFeCvKyP",
        "colab_type": "code",
        "outputId": "032b6b1c-4705-4f06-ca29-b3688efe065d",
        "colab": {
          "base_uri": "https://localhost:8080/",
          "height": 55
        }
      },
      "source": [
        "# tf.keras.layers.Dropout\n",
        "\"\"\"\n",
        "tf.keras.layers.Dropout(...)\n",
        "\n",
        "__init__(\n",
        "rate : 드롭아웃 확률 값, 0~1사이\n",
        "noise_shape=None : 노이즈 매트릭스의 shape를 입력하여 특정 값만 드롭아웃을 적용할 수 있다고 한다. 좀 더 이해 필요\n",
        "seed = None :seed 값이 같으면 동일한 드롭아웃 실행\n",
        ")\n",
        "\"\"\""
      ],
      "execution_count": 0,
      "outputs": [
        {
          "output_type": "execute_result",
          "data": {
            "text/plain": [
              "'\\ntf.keras.layers.Dropout(...)\\n\\n__init__(\\nrate : 드롭아웃 확률 값, 0~1사이\\nnoise_shape=None : 노이즈 매트릭스의 shape를 입력하여 특정 값만 드롭아웃을 있다고 한다. 좀 더 이해 필요\\nseed = None :seed 값이 같으면 동일한 드롭아웃 실행\\n)\\n'"
            ]
          },
          "metadata": {
            "tags": []
          },
          "execution_count": 8
        }
      ]
    },
    {
      "cell_type": "code",
      "metadata": {
        "id": "94y5WKISxmzU",
        "colab_type": "code",
        "colab": {}
      },
      "source": [
        "#실제 적용\n",
        "INPUT_SIZE = (20,1)\n",
        "\n",
        "input = tf.placeholder(tf.float32, shape = INPUT_SIZE)\n",
        "dropout = tf.keras.layers.Dropout(rate = 0.2)(input) # 이 경우 입력층이 영향을 받고 입력 값 일부들을 0으로 바꾸는 듯..\n",
        "hidden = tf.keras.layers.Dense(units = 10, activation = tf.nn.sigmoid)(dropout)\n",
        "output = tf.keras.layers.Dense(units = 2, activation = tf.nn.sigmoid)(hidden)"
      ],
      "execution_count": 0,
      "outputs": []
    },
    {
      "cell_type": "code",
      "metadata": {
        "id": "mK176xiq0FZr",
        "colab_type": "code",
        "outputId": "06bff22c-dd97-40f6-ef77-0c9578126a60",
        "colab": {
          "base_uri": "https://localhost:8080/",
          "height": 55
        }
      },
      "source": [
        "#tf.keras.layers.Conv1D\n",
        "\"\"\"\n",
        "Conv는 1D, 2D, 3D 주로 3종류.\n",
        "INPUT의 형태에 따라 적용\n",
        "Convolution은 필터를 통해 각 부분의 특징들을 따오고, 찾아낸 부분의 특징을 전체에서 찾아주는 것\n",
        "자연어에서는 Conv1D를 주로 사용하며 음.. 단어간의 격차를 자원 전체에서 찾기 위함일까.. 추후 더 볼 것\n",
        "\n",
        "\n",
        "__init__(\n",
        "filers : 필터의 개수(병렬적인 것), 출력의 차원수를 나타냄(출력의 차원은 행으로 구분되지 스칼라가 아님)\n",
        "kernel_size : 필터의 크기, 정수나 리스트, 튜플로 쓰임. 1차원 벡터이니 정수겠지\n",
        "strides = 1 :움직이는 보폭\n",
        "padding = 'valid' : SAME : 입력과 출력이 똑같게 패딩 씌움, valid : 입력과 출력이 다르도록?\n",
        "data_format = 'channels_last' : 데이터 표현법. channel last : (batch, length, channel), channel first: (batch, channel, length)\n",
        "                                batch는 항상 앞이고 Conv1D이므로 length만 존재하여 이것과 channel의 자리 바꿈만 있는 듯\n",
        "dilation_rate = 1 : 합성곱 사용 시 적용할 dilation 값이 있다고 함. 얘가 1이 아니면 stride는 무조건 1\n",
        "                    dilation은 커널요소 사이의 간격이라고 함, \n",
        "                    커널 사이즈가 2이고 입력 사이즈가 5라면 ■■□□□,□■■□□,□□■■□,□□□■■로 4개 값 생성\n",
        "                    dilation이 2면 ■□■□□,□■□■□,□□■□■ 이렇게 3개 생기나 봄..\n",
        "                    이 기능은 필터가 한번에 보는 영역을 넓히면서, 연산효율이\\ 괜찮고 차원손실이 적다고 함\n",
        "                    (출처: https://zzsza.github.io/data/2018/02/23/introduction-convolution/)\n",
        "activation = None : 활성화 함수.. 여기에 왜 있지? pooling은 따로 있지 않나?\n",
        "use_bias = True : 편향치 사용 여부\n",
        "kernel_initializer = 'glorot_uniform' : 가중치 초기화 함수\n",
        "bias_initializer = 'zeros' : 편향 초기화 함수\n",
        "kernel_regulatizer = None : 가중치 정규화 방법\n",
        "bias_regularizer = None : 편향 정규화 방법\n",
        "activity_regularizer = None : 출력 값 정규화 방법\n",
        "kernel_constraint = None : optimizer 업데이트 이후 가중치에 적용되는 부가적 함수\n",
        "bias_constraint = None :\n",
        ")\n",
        "\"\"\""
      ],
      "execution_count": 0,
      "outputs": [
        {
          "output_type": "execute_result",
          "data": {
            "text/plain": [
              "\"\\nConv는 1D, 2D, 3D 주로 3종류.\\nINPUT의 형태에 따라 적용\\nConvolution은 각 부분의 특징들을 따오고 이것이 Fully connected layer를 거치며 부분의 특징을 전체에서 찾아주는 것\\n자연어에서는 Conv1D를 주로 사용하며 음.. 단어간의 격차를 자원 전체에서 찾기 위함일까.. 추후 더 볼 것\\n\\n\\n__init__(\\nfilers : 필터의 개수(병렬적인 것), 출력의 차원수를 나타냄(출력의 차원은 행으로 구분되지 스칼라가 아님)\\nkernel_size : 필터의 크기, 정수나 리스트, 튜플로 쓰임. 1차원 벡터이니 정수겠지\\nstrides = 1 :움직이는 보폭\\npadding = 'valid' : SAME : 입력과 출력이 똑같게 패딩 씌움, valid : 입력과 출력이 다르도록?\\ndata_format = 'channels_last' : 데이터 표현법. channel last : (batch, length, channel), channel first: (batch, channel, length)\\ndilation_rate = 1 :\\nactivation = None :\\nuse_bias = True :\\nkernel_initializer = 'glorot_uniform' : \\nbias_initializer = 'zeros' :\\nkernel_regulatizer = None :\\nbias_regularizer = None :\\nactivity_regularizer = None :\\nkernel_constraint = None :\\nbias_constraint = None :\\n)\\n\""
            ]
          },
          "metadata": {
            "tags": []
          },
          "execution_count": 11
        }
      ]
    },
    {
      "cell_type": "code",
      "metadata": {
        "id": "yIxHB3K80Dak",
        "colab_type": "code",
        "colab": {}
      },
      "source": [
        "#Conv1D 적용\n",
        "\n",
        "INPUT_SIZE = (1,28,28)\n",
        "is_training = True\n",
        "\n",
        "input = tf.placeholder(tf.float32, shape = INPUT_SIZE)\n",
        "dropout = tf.keras.layers.Dropout(rate = 0.2)(input)\n",
        "conv = tf.keras.layers.Conv1D(filters= 10,\n",
        "                              kernel_size = 3,\n",
        "                              padding = 'same',\n",
        "                              activation = tf.nn.relu)(dropout)\n",
        "\n",
        "# 합성곱 신경망을 나온 애들은 input과 같은 크기인 (1,28,28)이 될거고...? (1,28,10)이 되어야지(padding same 적용)?"
      ],
      "execution_count": 0,
      "outputs": []
    },
    {
      "cell_type": "code",
      "metadata": {
        "id": "7RF6hKJyyBdv",
        "colab_type": "code",
        "outputId": "b3a66af9-5ed8-4475-f49f-170a6111dcce",
        "colab": {
          "base_uri": "https://localhost:8080/",
          "height": 55
        }
      },
      "source": [
        "\"\"\"\n",
        "tf.keras.layers.MaxPool1D\n",
        "보통 합성곱과 함께 쓰임. 주요 특징을 잡는 방법으로 maxpooling, averagepooling 사용\n",
        "커널 사이즈 내에서 가장 큰 값을 찾는 객체\n",
        "\n",
        "__init__(\n",
        "pool_size = 2 : 풀링 적용 필터, 일렬이고 2개니까 2개를 본다는 뜻이겠지\n",
        "strides = None : 풀링은 이전 필터와 다음 필터가 보통 겹치지 않게 진행된다. 그게 0이고 정수가 들어가면 그만큼 간격을 두나 봄\n",
        "padding = 'valid' : 패딩 방법.. 보통 pooling을 하면 줄어드는 게 맞음 input size/pool_size로 그걸 패딩으로 해소가능\n",
        "data_format = None : channel first/last로 앞과 동일\n",
        ")\n",
        "\"\"\""
      ],
      "execution_count": 0,
      "outputs": [
        {
          "output_type": "execute_result",
          "data": {
            "text/plain": [
              "'\\ntf.keras.layers.MaxPool1D\\n보통 합성곱과 함께 쓰임. 주요 특징을 잡는 방법으로 maxpooling, averagepooling 사용\\n커널 사이즈 내에서 가장 큰 값을 찾는 객체\\n'"
            ]
          },
          "metadata": {
            "tags": []
          },
          "execution_count": 16
        }
      ]
    },
    {
      "cell_type": "code",
      "metadata": {
        "id": "1Bf_OFEs8W1W",
        "colab_type": "code",
        "colab": {}
      },
      "source": [
        "#maxpooling 실제 사용\n",
        "\n",
        "INPUT_SIZE = (1,28,28)\n",
        "\n",
        "input = tf.placeholder(tf.float32, shape = INPUT_SIZE)\n",
        "dropout = tf.keras.layers.Dropout(rate = 0.2)(input)\n",
        "conv = tf.keras.layers.Conv1D(filters = 10,\n",
        "                              kernel_size = 3,\n",
        "                              padding = 'same',\n",
        "                              activation = tf.nn.relu)(dropout)\n",
        "max_pool = tf.keras.layers.MaxPool1D(pool_size = 3, padding = 'same')(conv) #애시당초 행렬이었고 여기서도 행렬이 됨\n",
        "flatten = tf.keras.layers.Flatten()(max_pool) # 행렬을 벡터로 만들어주는 것, 벡터면 2차원..\n",
        "hidden = tf.keras.layers.Dense(units = 50, activation = tf.nn.relu)(flatten) \n",
        "output = tf.keras.layers.Dense(units = 10, actication = tf.nn.relu)(hidden)"
      ],
      "execution_count": 0,
      "outputs": []
    }
  ]
}