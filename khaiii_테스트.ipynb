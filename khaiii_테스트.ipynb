{
  "nbformat": 4,
  "nbformat_minor": 0,
  "metadata": {
    "colab": {
      "name": "Untitled",
      "provenance": [],
      "include_colab_link": true
    },
    "kernelspec": {
      "name": "python3",
      "display_name": "Python 3"
    }
  },
  "cells": [
    {
      "cell_type": "markdown",
      "metadata": {
        "id": "view-in-github",
        "colab_type": "text"
      },
      "source": [
        "<a href=\"https://colab.research.google.com/github/moonjune/test-repo/blob/master/khaiii_%ED%85%8C%EC%8A%A4%ED%8A%B8.ipynb\" target=\"_parent\"><img src=\"https://colab.research.google.com/assets/colab-badge.svg\" alt=\"Open In Colab\"/></a>"
      ]
    },
    {
      "cell_type": "code",
      "metadata": {
        "id": "2QVLEIHHNSxf",
        "colab_type": "code",
        "colab": {}
      },
      "source": [
        "!git clone https://github.com/kakao/khaiii.git"
      ],
      "execution_count": 0,
      "outputs": []
    },
    {
      "cell_type": "code",
      "metadata": {
        "id": "zgnYdc_aNpXI",
        "colab_type": "code",
        "colab": {}
      },
      "source": [
        "!cd khaiii\n",
        "!mkdir build\n",
        "!cd build"
      ],
      "execution_count": 0,
      "outputs": []
    },
    {
      "cell_type": "code",
      "metadata": {
        "id": "QORAvUvrNspI",
        "colab_type": "code",
        "colab": {}
      },
      "source": [
        "import os \n",
        "os.chdir('/content/khaiii/')"
      ],
      "execution_count": 0,
      "outputs": []
    },
    {
      "cell_type": "code",
      "metadata": {
        "id": "N0M40J7fNv2x",
        "colab_type": "code",
        "colab": {}
      },
      "source": [
        "!mkdir build"
      ],
      "execution_count": 0,
      "outputs": []
    },
    {
      "cell_type": "code",
      "metadata": {
        "id": "xSTAowCIOgYV",
        "colab_type": "code",
        "colab": {}
      },
      "source": [
        "os.chdir('/content/khaiii/build/')"
      ],
      "execution_count": 0,
      "outputs": []
    },
    {
      "cell_type": "code",
      "metadata": {
        "id": "C12T0rDuOvpH",
        "colab_type": "code",
        "colab": {}
      },
      "source": [
        "!cmake .."
      ],
      "execution_count": 0,
      "outputs": []
    },
    {
      "cell_type": "code",
      "metadata": {
        "id": "ah_dcqafRc9N",
        "colab_type": "code",
        "colab": {}
      },
      "source": [
        "!make all"
      ],
      "execution_count": 0,
      "outputs": []
    },
    {
      "cell_type": "code",
      "metadata": {
        "id": "QS0pfXwwTA3I",
        "colab_type": "code",
        "colab": {}
      },
      "source": [
        "!make resource"
      ],
      "execution_count": 0,
      "outputs": []
    },
    {
      "cell_type": "code",
      "metadata": {
        "id": "aOCmEZy1TI5A",
        "colab_type": "code",
        "colab": {}
      },
      "source": [
        "os.chdir('/content/khaiii/build/')\n",
        "!./bin/khaiii --rsc-dir=./share/khaiii"
      ],
      "execution_count": 0,
      "outputs": []
    },
    {
      "cell_type": "code",
      "metadata": {
        "id": "P9cTq5EeVYyL",
        "colab_type": "code",
        "colab": {}
      },
      "source": [
        "!ctest"
      ],
      "execution_count": 0,
      "outputs": []
    },
    {
      "cell_type": "code",
      "metadata": {
        "id": "ko3SD3gBVe9J",
        "colab_type": "code",
        "colab": {}
      },
      "source": [
        "!make package_python"
      ],
      "execution_count": 0,
      "outputs": []
    },
    {
      "cell_type": "code",
      "metadata": {
        "id": "WQvovF-bVwj7",
        "colab_type": "code",
        "colab": {}
      },
      "source": [
        "os.chdir(\"/content/khaiii/build/package_python/\")\n",
        "!pip install ."
      ],
      "execution_count": 0,
      "outputs": []
    },
    {
      "cell_type": "code",
      "metadata": {
        "id": "79rnNWHwW8dq",
        "colab_type": "code",
        "colab": {}
      },
      "source": [
        "os.chdir(\"/content/\")\n",
        "!mkdir simmilar_work\n",
        "os.chdir(\"/content/simmilar_work/\")"
      ],
      "execution_count": 0,
      "outputs": []
    },
    {
      "cell_type": "code",
      "metadata": {
        "id": "T8qlpqzmXp8v",
        "colab_type": "code",
        "colab": {}
      },
      "source": [
        "os.chdir(\"/content/simmilar_work/\")\n",
        "import numpy as np\n",
        "import pandas as pd"
      ],
      "execution_count": 0,
      "outputs": []
    },
    {
      "cell_type": "code",
      "metadata": {
        "id": "fE9IuR344m2a",
        "colab_type": "code",
        "colab": {}
      },
      "source": [
        "!ls"
      ],
      "execution_count": 0,
      "outputs": []
    },
    {
      "cell_type": "code",
      "metadata": {
        "id": "4fjqutZGXfLR",
        "colab_type": "code",
        "colab": {}
      },
      "source": [
        "# 파일 임포팅 파트\n",
        "from google.colab import files\n",
        "uploaded = files.upload()"
      ],
      "execution_count": 0,
      "outputs": []
    },
    {
      "cell_type": "code",
      "metadata": {
        "id": "vrQa-FspXlAA",
        "colab_type": "code",
        "colab": {}
      },
      "source": [
        "# 파일 DF로 읽기\n",
        "\n",
        "RStext = pd.read_excel(\"191101_테스트셋.xlsx\", encoding = \"UTF-8\")\n",
        "del RStext[\"Unnamed: 0\"]\n",
        "RStext.columns"
      ],
      "execution_count": 0,
      "outputs": []
    },
    {
      "cell_type": "code",
      "metadata": {
        "id": "5T_1DHP_9huL",
        "colab_type": "code",
        "colab": {}
      },
      "source": [
        "# 텍스트 정리\n",
        "RStext['과제명-국문_정리'] = RStext['과제명-국문'].str.replace(\"\\t|\\n|\\r\",\"\")\n",
        "RStext['요약문_연구목표_정리'] = RStext['요약문_연구목표'].str.replace(\"\\t|\\n|\\r\",\"\")\n",
        "RStext['요약문_연구내용_정리'] = RStext['요약문_연구내용'].str.replace(\"\\t|\\n|\\r\",\"\")\n",
        "RStext['요약문_기대효과_정리'] = RStext['요약문_기대효과'].str.replace(\"\\t|\\n|\\r\",\"\")\n",
        "RStext['요약문_한글키워드_정리'] = RStext['요약문_한글키워드'].str.replace(\"\\t|\\n|\\r\",\"\").str.replace(\",\",\", \").str.replace(\"  \",\" \")\n",
        "RStext['요약문_영문키워드_정리'] = RStext['요약문_영문키워드'].str.replace(\"\\t|\\n|\\r\",\"\").str.replace(\",\",\", \").str.replace(\"  \",\" \")"
      ],
      "execution_count": 0,
      "outputs": []
    },
    {
      "cell_type": "code",
      "metadata": {
        "id": "G3bdpxJfYEDe",
        "colab_type": "code",
        "colab": {}
      },
      "source": [
        "# 통합텍스트 셀 생성\n",
        "RStext[\"전체 텍스트\"] = RStext['과제명-국문_정리'] + \" \" + RStext['요약문_연구목표_정리'] + \" \" + RStext['요약문_연구내용_정리'] + \" \" + RStext['요약문_기대효과_정리'] + \" \" + RStext['요약문_한글키워드_정리'] + \" \" + RStext['요약문_영문키워드_정리']\n",
        "RStext[\"전체 텍스트_기본\"] = RStext[\"전체 텍스트\"].str.findall('[a-z|A-Z|가-힣|&|.-.]+')\n",
        "for i in range(len(RStext[\"전체 텍스트_기본\"])):\n",
        "  RStext[\"전체 텍스트_기본\"][i] = \" \".join(RStext[\"전체 텍스트_기본\"][i])"
      ],
      "execution_count": 0,
      "outputs": []
    },
    {
      "cell_type": "code",
      "metadata": {
        "id": "JvKgyDtZXVg5",
        "colab_type": "code",
        "colab": {}
      },
      "source": [
        "import numpy as np\n",
        "import pandas as pd\n",
        "import re\n",
        "from random import sample\n",
        "from khaiii import KhaiiiApi\n",
        "import time\n",
        "api = KhaiiiApi()"
      ],
      "execution_count": 0,
      "outputs": []
    },
    {
      "cell_type": "code",
      "metadata": {
        "id": "byauPmp_bA8Z",
        "colab_type": "code",
        "colab": {}
      },
      "source": [
        "Npercnt_list = [90, 80, 70, 60, 50, 40]\n",
        "ch_keyword = \"더미\"\n",
        "\n",
        "subj_for_test = pd.DataFrame()\n",
        "subj_for_test[\"전체 텍스트\"] = RStext[\"전체 텍스트\"].str.split(\" \")\n",
        "subj_for_test[\"제목 길이\"] = 0\n",
        "subj_for_test[\"목표 길이\"] = 0\n",
        "subj_for_test[\"내용 길이\"] = 0\n",
        "subj_for_test[\"효과 길이\"] = 0\n",
        "subj_for_test[\"한키 길이\"] = 0\n",
        "subj_for_test[\"영키 길이\"] = 0\n",
        "subj_for_test[\"제목 추출\"] = ''\n",
        "subj_for_test[\"목표 추출\"] = ''\n",
        "subj_for_test[\"내용 추출\"] = ''\n",
        "subj_for_test[\"효과 추출\"] = ''\n",
        "subj_for_test[\"한키 추출\"] = ''\n",
        "subj_for_test[\"영키 추출\"] = ''\n",
        "subj_for_test[\"과제 번호\"] = RStext[\"과제고유번호\"]\n",
        "subj_for_test[\"기대 유사\"] = 0"
      ],
      "execution_count": 0,
      "outputs": []
    },
    {
      "cell_type": "code",
      "metadata": {
        "id": "Y3nOytCWjQke",
        "colab_type": "code",
        "colab": {}
      },
      "source": [
        "print(subj_for_test[\"전체 텍스트\"][0])"
      ],
      "execution_count": 0,
      "outputs": []
    },
    {
      "cell_type": "code",
      "metadata": {
        "id": "bme5WErLdfUU",
        "colab_type": "code",
        "colab": {}
      },
      "source": [
        "subj_for_test_total = pd.DataFrame()"
      ],
      "execution_count": 0,
      "outputs": []
    },
    {
      "cell_type": "code",
      "metadata": {
        "id": "kS6YPr4QZkRb",
        "colab_type": "code",
        "colab": {}
      },
      "source": [
        "for echo in Npercnt_list:\n",
        "  Npercnt = echo\n",
        "  for Tround in range(20):  \n",
        "    for i in range(len(subj_for_test)):\n",
        "      # 텍스트와 길이 정의, 본문은 전체 텍스트를 띄어쓰기 형태로 붙였음. \n",
        "      sub_text0 = str(\" \" + \" \".join(subj_for_test[\"전체 텍스트\"][i])+\" \") \n",
        "      sub_text = str(\" \" + \" \".join(subj_for_test[\"전체 텍스트\"][i])+\" \") \n",
        "      subj_for_test[\"제목 길이\"][i] = len(RStext[\"과제명-국문_정리\"][i])+1\n",
        "      subj_for_test[\"목표 길이\"][i] = int(subj_for_test[\"제목 길이\"][i]) + len(RStext[\"요약문_연구목표_정리\"][i])+1\n",
        "      subj_for_test[\"내용 길이\"][i] = int(subj_for_test[\"목표 길이\"][i]) + len(RStext[\"요약문_연구내용_정리\"][i])+1\n",
        "      subj_for_test[\"효과 길이\"][i] = int(subj_for_test[\"내용 길이\"][i]) + len(RStext[\"요약문_기대효과_정리\"][i])+1\n",
        "      subj_for_test[\"한키 길이\"][i] = int(subj_for_test[\"효과 길이\"][i]) + len(RStext[\"요약문_한글키워드_정리\"][i])+1\n",
        "      subj_for_test[\"영키 길이\"][i] = int(subj_for_test[\"한키 길이\"][i]) + len(RStext[\"요약문_영문키워드_정리\"][i])+1\n",
        "      # 형태소 분석, 아직 문서 하나\n",
        "      test = []\n",
        "      for word in api.analyze(RStext[\"전체 텍스트\"][i]):\n",
        "        test.append(str(word))\n",
        "        test_str = re.sub('[A-Za-z가-힣]*\\t|,',\" \",\" \".join(test))\n",
        "        test_str = re.compile('[A-Za-z가-힣]*/NNG|[A-Za-z가-힣]*/SL|[A-Za-z가-힣]*/NNP').findall(test_str)\n",
        "        test_str = re.sub('/NNG|/SL|/NNP',\"\",\" \".join(test_str))\n",
        "        test_str = re.compile('[A-Za-z가-힣][A-Za-z가-힣]+').findall(test_str)\n",
        "        test_set = list(set(test_str))\n",
        "        test_str = str(\" \"+\" \".join(test_str)+\" \")\n",
        "      subj_count = pd.DataFrame(np.zeros([len(test_set),2]),columns = [\"키워드\",\"빈도\"])\n",
        "      subj_count[\"위치\"] = \"\"\n",
        "      subj_count[\"위치변화\"] = \"\"\n",
        "      subj_count[\"변경수\"] = 0\n",
        "      subj_count[\"변경대상\"] = \"\"\n",
        "      subj_count[\"대체단어\"] = ch_keyword\n",
        "      subj_count[\"더미글자\"] = \"뷁\"\n",
        "      for k in range(len(test_set)):\n",
        "        subj_count[\"키워드\"][k] = test_set[k]\n",
        "        subj_count[\"빈도\"][k] = len(re.compile(str(\" \"+test_set[k]+\" \")).findall(test_str))\n",
        "        subj_count[\"위치\"][k] = [m.start() for m in re.finditer(subj_count[\"키워드\"][k],sub_text)]\n",
        "        subj_count[\"위치변화\"][k] = sample(subj_count[\"위치\"][k],len(subj_count[\"위치\"][k]))\n",
        "      subj_count = subj_count.sort_values(by = [\"빈도\"],ascending=False).reset_index(drop=True)\n",
        "      subj_count[\"대체단어길이\"] = subj_count[\"키워드\"].str.len()-2\n",
        "      subj_count[\"대체용어\"] = subj_count[\"대체단어\"] + (subj_count[\"더미글자\"] * subj_count[\"대체단어길이\"])\n",
        "      Keycount = int(round(sum(subj_count[\"빈도\"])/100*(100-Npercnt),0))\n",
        "      for j in range(len(subj_count)):\n",
        "        subj_count[\"변경수\"][j] = int(np.random.randint(0, high = int(subj_count[\"빈도\"][j])+1,size = 1))*int(sample([0,1,1,1],1)[0])\n",
        "        if Keycount < 0:\n",
        "          subj_count[\"변경수\"][j] = subj_count[\"변경수\"][j] - (0 - Keycount)\n",
        "          subj_count[\"변경대상\"][j] = list(subj_count[\"위치변화\"][j][0:subj_count[\"변경수\"][j]])\n",
        "          break\n",
        "        subj_count[\"변경대상\"][j] = list(subj_count[\"위치변화\"][j][0:subj_count[\"변경수\"][j]])\n",
        "      for l in range(len(subj_count)):\n",
        "        if len(subj_count[\"변경대상\"][l]) == 0:\n",
        "          continue\n",
        "        else:\n",
        "          for ll in range(len(subj_count[\"변경대상\"][l])):\n",
        "            sub_text = \"\".join((sub_text[:subj_count[\"변경대상\"][l][ll]],subj_count[\"대체용어\"][l],sub_text[subj_count[\"변경대상\"][l][ll]+len(subj_count[\"키워드\"][l]):]))\n",
        "      subj_for_test[\"제목 추출\"][i] = sub_text[1:subj_for_test[\"제목 길이\"][i]]\n",
        "      subj_for_test[\"목표 추출\"][i] = sub_text[subj_for_test[\"제목 길이\"][i]+1:subj_for_test[\"목표 길이\"][i]]\n",
        "      subj_for_test[\"내용 추출\"][i] = sub_text[subj_for_test[\"목표 길이\"][i]+1:subj_for_test[\"내용 길이\"][i]]\n",
        "      subj_for_test[\"효과 추출\"][i] = sub_text[subj_for_test[\"내용 길이\"][i]+1:subj_for_test[\"효과 길이\"][i]]\n",
        "      subj_for_test[\"한키 추출\"][i] = sub_text[subj_for_test[\"효과 길이\"][i]+1:subj_for_test[\"한키 길이\"][i]]\n",
        "      subj_for_test[\"영키 추출\"][i] = sub_text[subj_for_test[\"한키 길이\"][i]+1:subj_for_test[\"영키 길이\"][i]]\n",
        "    subj_for_test[\"기대 유사\"] = Npercnt\n",
        "    subj_for_test_total = pd.concat([subj_for_test_total,subj_for_test])\n",
        "\n",
        "subj_for_test_total[\"제목 추출\"] = subj_for_test_total[\"제목 추출\"].str.replace(\"뷁\",\"\")\n",
        "subj_for_test_total[\"목표 추출\"] = subj_for_test_total[\"목표 추출\"].str.replace(\"뷁\",\"\")\n",
        "subj_for_test_total[\"내용 추출\"] = subj_for_test_total[\"내용 추출\"].str.replace(\"뷁\",\"\")\n",
        "subj_for_test_total[\"효과 추출\"] = subj_for_test_total[\"효과 추출\"].str.replace(\"뷁\",\"\")\n",
        "subj_for_test_total[\"한키 추출\"] = subj_for_test_total[\"한키 추출\"].str.replace(\"뷁\",\"\")\n",
        "subj_for_test_total[\"영키 추출\"] = subj_for_test_total[\"영키 추출\"].str.replace(\"뷁\",\"\")\n",
        "\n"
      ],
      "execution_count": 0,
      "outputs": []
    },
    {
      "cell_type": "code",
      "metadata": {
        "id": "hN2FZnokyLYy",
        "colab_type": "code",
        "colab": {}
      },
      "source": [
        "len(subj_for_test_total)"
      ],
      "execution_count": 0,
      "outputs": []
    },
    {
      "cell_type": "code",
      "metadata": {
        "id": "bImWx5XMynBV",
        "colab_type": "code",
        "colab": {}
      },
      "source": [
        "subj_for_test_total.to_excel(\"subj_for_test_total.xlsx\")"
      ],
      "execution_count": 0,
      "outputs": []
    },
    {
      "cell_type": "code",
      "metadata": {
        "id": "Khp00Gt03Myv",
        "colab_type": "code",
        "colab": {}
      },
      "source": [
        "files.download(\"subj_for_test_total.xlsx\")"
      ],
      "execution_count": 0,
      "outputs": []
    },
    {
      "cell_type": "code",
      "metadata": {
        "id": "b1PrItB9xhb9",
        "colab_type": "code",
        "colab": {}
      },
      "source": [
        "test = []\n",
        "start = time.time()\n",
        "for word in api.analyze(RStext[\"전체 텍스트\"][i]):\n",
        "  test.append(str(word))\n",
        "  np.random.randint(0,1000000,1000)\n",
        "print(\"time :\", time.time() - start)"
      ],
      "execution_count": 0,
      "outputs": []
    },
    {
      "cell_type": "code",
      "metadata": {
        "id": "s1AQh36X71BP",
        "colab_type": "code",
        "colab": {}
      },
      "source": [
        "print(subj_for_test[\"전체 텍스트\"][i])\n",
        "print(sub_text0)\n",
        "print(\"과제1: \", RStext['과제명-국문_정리'][i])\n",
        "print(\"과제2: \", subj_for_test[\"제목 추출\"][i])\n",
        "print(\"목표1: \", RStext['요약문_연구목표_정리'][i])\n",
        "print(\"목표2: \", subj_for_test[\"목표 추출\"][i])\n",
        "print(\"내용1: \", RStext['요약문_연구내용_정리'][i])\n",
        "print(\"내용2: \", subj_for_test[\"내용 추출\"][i])\n",
        "print(\"효과1: \", RStext['요약문_기대효과_정리'][i])\n",
        "print(\"효과2: \", subj_for_test[\"효과 추출\"][i])\n",
        "print(\"한키1: \", RStext['요약문_한글키워드_정리'][i])\n",
        "print(\"한키2: \", subj_for_test[\"한키 추출\"][i])\n",
        "print(\"영키1: \", RStext['요약문_영문키워드_정리'][i])\n",
        "print(\"영키2: \", subj_for_test[\"영키 추출\"][i])"
      ],
      "execution_count": 0,
      "outputs": []
    },
    {
      "cell_type": "code",
      "metadata": {
        "id": "pmo8Wo_zoqQ4",
        "colab_type": "code",
        "colab": {}
      },
      "source": [
        "subj_for_test.head(100)"
      ],
      "execution_count": 0,
      "outputs": []
    },
    {
      "cell_type": "code",
      "metadata": {
        "id": "QyE31oymwiZB",
        "colab_type": "code",
        "colab": {}
      },
      "source": [
        "sub_text\n",
        "[m.start() for m in re.finditer(subj_count[\"키워드\"][k],sub_text)]"
      ],
      "execution_count": 0,
      "outputs": []
    },
    {
      "cell_type": "code",
      "metadata": {
        "id": "w6Hx-v3LSk_l",
        "colab_type": "code",
        "colab": {}
      },
      "source": [
        "subj_count.head()"
      ],
      "execution_count": 0,
      "outputs": []
    },
    {
      "cell_type": "code",
      "metadata": {
        "id": "2YwjisZFZkLh",
        "colab_type": "code",
        "colab": {}
      },
      "source": [
        "# # \n",
        "# test_str = re.sub('[A-Za-z가-힣]*\\t',\" \",\" \".join(test))\n",
        "# test_str = re.compile('[A-Za-z가-힣]*/NNG|[A-Za-z가-힣]*/SL|[A-Za-z가-힣]*/NNP').findall(test_str)\n",
        "# test_str = re.sub('/NNG|/SL|/NNP',\"\",\" \".join(test_str))\n",
        "# test_str = re.compile('[A-Za-z가-힣][A-Za-z가-힣]+').findall(test_str)\n",
        "# test_set = list(set(test_str))\n",
        "# test_str = str(\" \"+\" \".join(test_str)+\" \")\n",
        "# print(test_str)\n",
        "# print(test_set)"
      ],
      "execution_count": 0,
      "outputs": []
    },
    {
      "cell_type": "code",
      "metadata": {
        "id": "f7b7LAJXZrjm",
        "colab_type": "code",
        "colab": {}
      },
      "source": [
        "# subj_count = pd.DataFrame(np.zeros([len(test_set),2]),columns = [\"키워드\",\"빈도\"])\n",
        "# subj_count[\"위치\"] = \"\"\n",
        "# subj_count[\"위치변화\"] = \"\"\n",
        "# subj_count[\"변경수\"] = 0\n",
        "# subj_count[\"변경대상\"] = \"\"\n",
        "# for i in range(len(test_set)):\n",
        "#   subj_count[\"키워드\"][i] = test_set[i]\n",
        "#   subj_count[\"빈도\"][i] = len(re.compile(str(\" \"+test_set[i]+\" \")).findall(test_str))\n",
        "#   subj_count[\"위치\"][i] = list(np.where(np.array(test_str.split(\" \")) == test_set[i])[0])\n",
        "#   subj_count[\"위치변화\"][i] = sample(subj_count[\"위치\"][i],len(subj_count[\"위치\"][i]))\n",
        "# subj_count = subj_count.sort_values(by = [\"빈도\"],ascending=False).reset_index(drop=True)\n",
        "# Npercnt = 10\n",
        "# Keycount = int(round(sum(subj_count[\"빈도\"])/100*Npercnt,0))\n",
        "# for j in range(len(subj_count)):\n",
        "#   subj_count[\"변경수\"][j] = int(np.random.randint(0, high = int(subj_count[\"빈도\"][j])+1,size = 1))*int(sample([0,1,1,1],1)[0])\n",
        "#   Keycount -= subj_count[\"변경수\"][j]\n",
        "#   if Keycount < 0:\n",
        "#     subj_count[\"변경수\"][j] = subj_count[\"변경수\"][j] - (0 - Keycount)\n",
        "#     subj_count[\"변경대상\"][j] = list(subj_count[\"위치변화\"][j][0:subj_count[\"변경수\"][j]])\n",
        "#     break\n",
        "#   subj_count[\"변경대상\"][j] = list(subj_count[\"위치변화\"][j][0:subj_count[\"변경수\"][j]])\n"
      ],
      "execution_count": 0,
      "outputs": []
    },
    {
      "cell_type": "code",
      "metadata": {
        "id": "Jf5F9iHHM-Ds",
        "colab_type": "code",
        "colab": {}
      },
      "source": [
        ""
      ],
      "execution_count": 0,
      "outputs": []
    }
  ]
}