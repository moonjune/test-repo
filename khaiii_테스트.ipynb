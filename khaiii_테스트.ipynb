{
  "nbformat": 4,
  "nbformat_minor": 0,
  "metadata": {
    "colab": {
      "name": "Untitled",
      "provenance": [],
      "include_colab_link": true
    },
    "kernelspec": {
      "name": "python3",
      "display_name": "Python 3"
    }
  },
  "cells": [
    {
      "cell_type": "markdown",
      "metadata": {
        "id": "view-in-github",
        "colab_type": "text"
      },
      "source": [
        "<a href=\"https://colab.research.google.com/github/moonjune/test-repo/blob/master/khaiii_%ED%85%8C%EC%8A%A4%ED%8A%B8.ipynb\" target=\"_parent\"><img src=\"https://colab.research.google.com/assets/colab-badge.svg\" alt=\"Open In Colab\"/></a>"
      ]
    },
    {
      "cell_type": "code",
      "metadata": {
        "id": "2QVLEIHHNSxf",
        "colab_type": "code",
        "outputId": "993ec1f7-449d-4790-a0cd-8e69eb93d395",
        "colab": {
          "base_uri": "https://localhost:8080/",
          "height": 104
        }
      },
      "source": [
        "!git clone https://github.com/kakao/khaiii.git"
      ],
      "execution_count": 33,
      "outputs": [
        {
          "output_type": "stream",
          "text": [
            "Cloning into 'khaiii'...\n",
            "remote: Enumerating objects: 877, done.\u001b[K\n",
            "remote: Total 877 (delta 0), reused 0 (delta 0), pack-reused 877\u001b[K\n",
            "Receiving objects: 100% (877/877), 30.21 MiB | 32.36 MiB/s, done.\n",
            "Resolving deltas: 100% (358/358), done.\n"
          ],
          "name": "stdout"
        }
      ]
    },
    {
      "cell_type": "code",
      "metadata": {
        "id": "zgnYdc_aNpXI",
        "colab_type": "code",
        "colab": {}
      },
      "source": [
        "!cd khaiii\n",
        "!mkdir build\n",
        "!cd build"
      ],
      "execution_count": 0,
      "outputs": []
    },
    {
      "cell_type": "code",
      "metadata": {
        "id": "QORAvUvrNspI",
        "colab_type": "code",
        "colab": {}
      },
      "source": [
        "import os \n",
        "os.chdir('/content/khaiii/')"
      ],
      "execution_count": 0,
      "outputs": []
    },
    {
      "cell_type": "code",
      "metadata": {
        "id": "N0M40J7fNv2x",
        "colab_type": "code",
        "outputId": "07d8583f-7b1c-49fc-d258-6d4e03cfd40a",
        "colab": {
          "base_uri": "https://localhost:8080/",
          "height": 34
        }
      },
      "source": [
        "!mkdir build"
      ],
      "execution_count": 36,
      "outputs": [
        {
          "output_type": "stream",
          "text": [
            "mkdir: cannot create directory ‘build’: File exists\n"
          ],
          "name": "stdout"
        }
      ]
    },
    {
      "cell_type": "code",
      "metadata": {
        "id": "xSTAowCIOgYV",
        "colab_type": "code",
        "colab": {}
      },
      "source": [
        "os.chdir('/content/khaiii/build/')"
      ],
      "execution_count": 0,
      "outputs": []
    },
    {
      "cell_type": "code",
      "metadata": {
        "id": "C12T0rDuOvpH",
        "colab_type": "code",
        "outputId": "37d03cea-54bc-4680-b1cb-39efde8af922",
        "colab": {
          "base_uri": "https://localhost:8080/",
          "height": 296
        }
      },
      "source": [
        "!cmake .."
      ],
      "execution_count": 38,
      "outputs": [
        {
          "output_type": "stream",
          "text": [
            "-- [khaiii] fused multiply add option enabled\n",
            "-- [hunter] Calculating Toolchain-SHA1\n",
            "-- [hunter] Calculating Config-SHA1\n",
            "-- [hunter] HUNTER_ROOT: /root/.hunter\n",
            "-- [hunter] [ Hunter-ID: 70287b1 | Toolchain-ID: f1a5aaa | Config-ID: dffbc08 ]\n",
            "-- [hunter] BOOST_ROOT: /root/.hunter/_Base/70287b1/f1a5aaa/dffbc08/Install (ver.: 1.68.0-p1)\n",
            "-- Boost version: 1.68.0\n",
            "-- [hunter] CXXOPTS_ROOT: /root/.hunter/_Base/70287b1/f1a5aaa/dffbc08/Install (ver.: 2.1.1-pre)\n",
            "-- [hunter] EIGEN_ROOT: /root/.hunter/_Base/70287b1/f1a5aaa/dffbc08/Install (ver.: 3.3.5)\n",
            "-- [hunter] FMT_ROOT: /root/.hunter/_Base/70287b1/f1a5aaa/dffbc08/Install (ver.: 4.1.0)\n",
            "-- [hunter] GTEST_ROOT: /root/.hunter/_Base/70287b1/f1a5aaa/dffbc08/Install (ver.: 1.8.0-hunter-p11)\n",
            "-- [hunter] NLOHMANN_JSON_ROOT: /root/.hunter/_Base/70287b1/f1a5aaa/dffbc08/Install (ver.: 3.3.0)\n",
            "-- [hunter] SPDLOG_ROOT: /root/.hunter/_Base/70287b1/f1a5aaa/dffbc08/Install (ver.: 0.16.3-p1)\n",
            "-- Configuring done\n",
            "-- Generating done\n",
            "-- Build files have been written to: /content/khaiii/build\n"
          ],
          "name": "stdout"
        }
      ]
    },
    {
      "cell_type": "code",
      "metadata": {
        "id": "ah_dcqafRc9N",
        "colab_type": "code",
        "outputId": "5225acf3-be8e-4267-d732-e19785c0c81a",
        "colab": {
          "base_uri": "https://localhost:8080/",
          "height": 86
        }
      },
      "source": [
        "!make all"
      ],
      "execution_count": 39,
      "outputs": [
        {
          "output_type": "stream",
          "text": [
            "[ 65%] Built target obj_khaiii\n",
            "[ 69%] Built target khaiii\n",
            "[ 76%] Built target bin_khaiii\n",
            "[100%] Built target test_khaiii\n"
          ],
          "name": "stdout"
        }
      ]
    },
    {
      "cell_type": "code",
      "metadata": {
        "id": "QS0pfXwwTA3I",
        "colab_type": "code",
        "outputId": "ab3cd090-6115-4309-8398-93df3fa02f26",
        "colab": {
          "base_uri": "https://localhost:8080/",
          "height": 34
        }
      },
      "source": [
        "!make resource"
      ],
      "execution_count": 40,
      "outputs": [
        {
          "output_type": "stream",
          "text": [
            "Built target resource\n"
          ],
          "name": "stdout"
        }
      ]
    },
    {
      "cell_type": "code",
      "metadata": {
        "id": "aOCmEZy1TI5A",
        "colab_type": "code",
        "outputId": "e5582cd7-dca7-46e3-cce7-aab9093af909",
        "colab": {
          "base_uri": "https://localhost:8080/",
          "height": 121
        }
      },
      "source": [
        "os.chdir('/content/khaiii/build/')\n",
        "!./bin/khaiii --rsc-dir=./share/khaiii"
      ],
      "execution_count": 41,
      "outputs": [
        {
          "output_type": "stream",
          "text": [
            "\u001b[00m[2019-11-22 06:34:12.424] [Resource] [info] NN model loaded\n",
            "\u001b[00m\u001b[00m[2019-11-22 06:34:12.424] [Preanal] [info] preanal dictionary opened\n",
            "\u001b[00m\u001b[00m[2019-11-22 06:34:12.424] [ErrPatch] [info] errpatch dictionary opened\n",
            "\u001b[00m\u001b[00m[2019-11-22 06:34:12.424] [Restore] [info] restore dictionary opened\n",
            "\u001b[00m\u001b[00m[2019-11-22 06:34:12.424] [Resource] [info] PoS tagger opened\n",
            "\u001b[00m^C\n"
          ],
          "name": "stdout"
        }
      ]
    },
    {
      "cell_type": "code",
      "metadata": {
        "id": "P9cTq5EeVYyL",
        "colab_type": "code",
        "outputId": "95a4ca18-5fe8-4d39-ded0-886e0ad90105",
        "colab": {
          "base_uri": "https://localhost:8080/",
          "height": 139
        }
      },
      "source": [
        "!ctest"
      ],
      "execution_count": 42,
      "outputs": [
        {
          "output_type": "stream",
          "text": [
            "Test project /content/khaiii/build\n",
            "    Start 1: test_khaiii\n",
            "1/1 Test #1: test_khaiii ......................   Passed    0.02 sec\n",
            "\n",
            "100% tests passed, 0 tests failed out of 1\n",
            "\n",
            "Total Test time (real) =   0.02 sec\n"
          ],
          "name": "stdout"
        }
      ]
    },
    {
      "cell_type": "code",
      "metadata": {
        "id": "ko3SD3gBVe9J",
        "colab_type": "code",
        "outputId": "ee216e87-8b1a-486f-c78f-70b751b9988a",
        "colab": {
          "base_uri": "https://localhost:8080/",
          "height": 139
        }
      },
      "source": [
        "!make package_python"
      ],
      "execution_count": 43,
      "outputs": [
        {
          "output_type": "stream",
          "text": [
            "\u001b[36mRun CPack packaging tool for source...\u001b[0m\n",
            "CPack: Create package using ZIP\n",
            "CPack: Install projects\n",
            "CPack: - Install directory: /content/khaiii\n",
            "CPack: Create package\n",
            "CPack: - package: /content/khaiii/build/khaiii-0.4.zip generated.\n",
            "Built target package_python\n"
          ],
          "name": "stdout"
        }
      ]
    },
    {
      "cell_type": "code",
      "metadata": {
        "id": "WQvovF-bVwj7",
        "colab_type": "code",
        "outputId": "bd968f8e-f6d0-45e8-f0bc-6108bab9f529",
        "colab": {
          "base_uri": "https://localhost:8080/",
          "height": 298
        }
      },
      "source": [
        "os.chdir(\"/content/khaiii/build/package_python/\")\n",
        "!pip install ."
      ],
      "execution_count": 44,
      "outputs": [
        {
          "output_type": "stream",
          "text": [
            "Processing /content/khaiii/build/package_python\n",
            "Building wheels for collected packages: khaiii\n",
            "  Building wheel for khaiii (setup.py) ... \u001b[?25l\u001b[?25hdone\n",
            "  Created wheel for khaiii: filename=khaiii-0.4-cp36-none-any.whl size=22890622 sha256=9cdc1cd3072cda41041c4a437be2f944f7a1141945e2aba10755844b50024172\n",
            "  Stored in directory: /tmp/pip-ephem-wheel-cache-s70etyoc/wheels/b0/03/83/fb129110ddf28d31298b0731cd182d7d0f094935ae9bf8d4bc\n",
            "Successfully built khaiii\n",
            "Installing collected packages: khaiii\n",
            "  Found existing installation: khaiii 0.4\n",
            "    Uninstalling khaiii-0.4:\n",
            "      Successfully uninstalled khaiii-0.4\n",
            "Successfully installed khaiii-0.4\n"
          ],
          "name": "stdout"
        },
        {
          "output_type": "display_data",
          "data": {
            "application/vnd.colab-display-data+json": {
              "pip_warning": {
                "packages": [
                  "khaiii"
                ]
              }
            }
          },
          "metadata": {
            "tags": []
          }
        }
      ]
    },
    {
      "cell_type": "code",
      "metadata": {
        "id": "79rnNWHwW8dq",
        "colab_type": "code",
        "colab": {
          "base_uri": "https://localhost:8080/",
          "height": 34
        },
        "outputId": "1524144b-b429-47bf-980b-bc005a268cfc"
      },
      "source": [
        "os.chdir(\"/content/\")\n",
        "!mkdir simmilar_work\n",
        "os.chdir(\"/content/simmilar_work/\")"
      ],
      "execution_count": 45,
      "outputs": [
        {
          "output_type": "stream",
          "text": [
            "mkdir: cannot create directory ‘simmilar_work’: File exists\n"
          ],
          "name": "stdout"
        }
      ]
    },
    {
      "cell_type": "code",
      "metadata": {
        "id": "T8qlpqzmXp8v",
        "colab_type": "code",
        "colab": {}
      },
      "source": [
        "os.chdir(\"/content/simmilar_work/\")\n",
        "import numpy as np\n",
        "import pandas as pd"
      ],
      "execution_count": 0,
      "outputs": []
    },
    {
      "cell_type": "code",
      "metadata": {
        "id": "fE9IuR344m2a",
        "colab_type": "code",
        "colab": {
          "base_uri": "https://localhost:8080/",
          "height": 34
        },
        "outputId": "3abb6434-5ae1-496a-f8ae-e624ce4ff584"
      },
      "source": [
        "!ls"
      ],
      "execution_count": 47,
      "outputs": [
        {
          "output_type": "stream",
          "text": [
            "191101_테스트셋.xlsx  build  khaiii\n"
          ],
          "name": "stdout"
        }
      ]
    },
    {
      "cell_type": "code",
      "metadata": {
        "id": "4fjqutZGXfLR",
        "colab_type": "code",
        "outputId": "57c8f371-c82a-4eda-a421-8cb906475144",
        "colab": {
          "resources": {
            "http://localhost:8080/nbextensions/google.colab/files.js": {
              "data": "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",
              "ok": true,
              "headers": [
                [
                  "content-type",
                  "application/javascript"
                ]
              ],
              "status": 200,
              "status_text": ""
            }
          },
          "base_uri": "https://localhost:8080/",
          "height": 77
        }
      },
      "source": [
        "# 파일 임포팅 파트\n",
        "from google.colab import files\n",
        "uploaded = files.upload()"
      ],
      "execution_count": 49,
      "outputs": [
        {
          "output_type": "display_data",
          "data": {
            "text/html": [
              "\n",
              "     <input type=\"file\" id=\"files-2cba3cee-c31e-4ead-b437-2ddeec6d5969\" name=\"files[]\" multiple disabled />\n",
              "     <output id=\"result-2cba3cee-c31e-4ead-b437-2ddeec6d5969\">\n",
              "      Upload widget is only available when the cell has been executed in the\n",
              "      current browser session. Please rerun this cell to enable.\n",
              "      </output>\n",
              "      <script src=\"/nbextensions/google.colab/files.js\"></script> "
            ],
            "text/plain": [
              "<IPython.core.display.HTML object>"
            ]
          },
          "metadata": {
            "tags": []
          }
        },
        {
          "output_type": "stream",
          "text": [
            "Saving 191101_테스트셋.xlsx to 191101_테스트셋 (1).xlsx\n"
          ],
          "name": "stdout"
        }
      ]
    },
    {
      "cell_type": "code",
      "metadata": {
        "id": "vrQa-FspXlAA",
        "colab_type": "code",
        "outputId": "674f5491-c2a5-46f1-a57a-6d81d643aba6",
        "colab": {
          "base_uri": "https://localhost:8080/",
          "height": 121
        }
      },
      "source": [
        "# 파일 DF로 읽기\n",
        "\n",
        "RStext = pd.read_excel(\"191101_테스트셋.xlsx\", encoding = \"UTF-8\")\n",
        "del RStext[\"Unnamed: 0\"]\n",
        "RStext.columns"
      ],
      "execution_count": 50,
      "outputs": [
        {
          "output_type": "execute_result",
          "data": {
            "text/plain": [
              "Index(['과제수행년도', '부처명', '부처명(다부처포함)', '사업명', '과제고유번호', '보안과제여부', '신규계속구분',\n",
              "       '과제명-국문', '과학기술표준분류1-대', '과학기술표준분류가중치1', '총연구비_합계(원)', '요약문_연구목표',\n",
              "       '요약문_연구내용', '요약문_기대효과', '요약문_한글키워드', '요약문_영문키워드', '과제관리기관', '과제명-국문_길이',\n",
              "       '요약문_연구목표_길이', '요약문_연구내용_길이', '요약문_기대효과_길이', '요약문_한글키워드_길이',\n",
              "       '요약문_영문키워드_길이'],\n",
              "      dtype='object')"
            ]
          },
          "metadata": {
            "tags": []
          },
          "execution_count": 50
        }
      ]
    },
    {
      "cell_type": "code",
      "metadata": {
        "id": "G3bdpxJfYEDe",
        "colab_type": "code",
        "outputId": "214cfd39-7c4c-4482-95d4-47afaeb55ee1",
        "colab": {
          "base_uri": "https://localhost:8080/",
          "height": 104
        }
      },
      "source": [
        "# 통합텍스트 셀 생성\n",
        "RStext[\"전체 텍스트\"] = RStext['과제명-국문'] + \" \" + RStext['요약문_연구목표'] + \" \" + RStext['요약문_연구내용'] + \" \" + RStext['요약문_기대효과'] + \" \" + RStext['요약문_한글키워드'].str.replace(\",\",\" \") + \" \" + RStext['요약문_영문키워드'].str.replace(\",\",\" \")\n",
        "RStext[\"전체 텍스트_기본\"] = RStext[\"전체 텍스트\"].str.findall('[a-z|A-Z|가-힣|&|.-.]+')\n",
        "for i in range(len(RStext[\"전체 텍스트_기본\"])):\n",
        "  RStext[\"전체 텍스트_기본\"][i] = \" \".join(RStext[\"전체 텍스트_기본\"][i])"
      ],
      "execution_count": 51,
      "outputs": [
        {
          "output_type": "stream",
          "text": [
            "/usr/local/lib/python3.6/dist-packages/ipykernel_launcher.py:4: SettingWithCopyWarning: \n",
            "A value is trying to be set on a copy of a slice from a DataFrame\n",
            "\n",
            "See the caveats in the documentation: http://pandas.pydata.org/pandas-docs/stable/user_guide/indexing.html#returning-a-view-versus-a-copy\n",
            "  after removing the cwd from sys.path.\n"
          ],
          "name": "stderr"
        }
      ]
    },
    {
      "cell_type": "code",
      "metadata": {
        "id": "JvKgyDtZXVg5",
        "colab_type": "code",
        "colab": {}
      },
      "source": [
        "import numpy as np\n",
        "import pandas as pd\n",
        "import re\n",
        "from random import sample\n",
        "from khaiii import KhaiiiApi\n",
        "import time\n",
        "api = KhaiiiApi()"
      ],
      "execution_count": 0,
      "outputs": []
    },
    {
      "cell_type": "code",
      "metadata": {
        "id": "byauPmp_bA8Z",
        "colab_type": "code",
        "colab": {}
      },
      "source": [
        "Npercnt = 90\n",
        "ch_keyword = \"연구\"\n",
        "\n",
        "subj_for_test = pd.DataFrame()\n",
        "subj_for_test[\"전체 텍스트\"] = RStext[\"전체 텍스트\"].str.split(\" \")\n",
        "subj_for_test[\"제목 길이\"] = 0\n",
        "subj_for_test[\"목표 길이\"] = 0\n",
        "subj_for_test[\"내용 길이\"] = 0\n",
        "subj_for_test[\"효과 길이\"] = 0\n",
        "subj_for_test[\"한키 길이\"] = 0\n",
        "subj_for_test[\"영키 길이\"] = 0\n",
        "subj_for_test[\"제목 추출\"] = ''\n",
        "subj_for_test[\"목표 추출\"] = ''\n",
        "subj_for_test[\"내용 추출\"] = ''\n",
        "subj_for_test[\"효과 추출\"] = ''\n",
        "subj_for_test[\"한키 추출\"] = ''\n",
        "subj_for_test[\"영키 추출\"] = ''"
      ],
      "execution_count": 0,
      "outputs": []
    },
    {
      "cell_type": "code",
      "metadata": {
        "id": "Y3nOytCWjQke",
        "colab_type": "code",
        "colab": {}
      },
      "source": [
        "print(subj_for_test[\"전체 텍스트\"][0])"
      ],
      "execution_count": 0,
      "outputs": []
    },
    {
      "cell_type": "code",
      "metadata": {
        "id": "fTbgWXeq5pda",
        "colab_type": "code",
        "colab": {
          "base_uri": "https://localhost:8080/",
          "height": 124
        },
        "outputId": "44a4ab04-64b8-4605-bbc5-e55769487e2d"
      },
      "source": [
        "print(RStext[\"요약문_연구목표\"][i])\n",
        "print()\n",
        "print(sub_text0[subj_for_test[\"제목 길이\"][i]:subj_for_test[\"목표 길이\"][i]])\n",
        "print(len(RStext[\"과제명-국문\"][i]), len(RStext[\"요약문_연구목표\"][i]), subj_for_test[\"목표 길이\"][i])\n",
        "print(len(sub_text0[subj_for_test[\"제목 길이\"][i]:subj_for_test[\"목표 길이\"][i]]))"
      ],
      "execution_count": 72,
      "outputs": [
        {
          "output_type": "stream",
          "text": [
            "○ 본 제안기술은 SPR 시스템 기술, 광학 집적 기술, 소프트웨어 기술, 바이오컨쥬게이셔 기술을 바탕으로 하여, 바이러스 현장 진단용 초소형화 펜타입 SPR 시스템을 세계최초로 개발하는 것을 주요 골자로 함.\r\n",
            "○ 본 제안기술은 Kretchmann configuration 기반의 SPR 센싱 방법을 주요 적용 기술로서 활용하지만, 추가적으로 최근 연구가 활발히 진행되고 있는 나노 플라즈모닉 센싱 기반으로 개발 범위를 확장하여 학술적으로도 깊이 있는 신규의 센싱 기법을 개발하고자 함.\n",
            "발 ○ 본 제안기술은 SPR 시스템 기술, 광학 집적 기술, 소프트웨어 기술, 바이오컨쥬게이셔 기술을 바탕으로 하여, 바이러스 현장 진단용 초소형화 펜타입 SPR 시스템을 세계최초로 개발하는 것을 주요 골자로 함.○ 본 제안기술은 Kretchmann configuration 기반의 SPR 센싱 방법을 주요 적용 기술로서 활용하지만, 추가적으로 최근 연구가 활발히 진행되고 있는 나노 플라즈모닉 센싱 기반으로 개발 범위를 확장하여 학술적으로도 깊이 있는 신규의 센싱 기법을 개발하고자 함.\n",
            "38 273 311\n",
            "273\n"
          ],
          "name": "stdout"
        }
      ]
    },
    {
      "cell_type": "code",
      "metadata": {
        "id": "kS6YPr4QZkRb",
        "colab_type": "code",
        "outputId": "177781ac-287e-4591-b79e-db36fd7112b7",
        "colab": {
          "base_uri": "https://localhost:8080/",
          "height": 1000
        }
      },
      "source": [
        "for i in range(1):\n",
        "  # 텍스트와 길이 정의, 본문은 전체 텍스트를 띄어쓰기 형태로 붙였음. \n",
        "  sub_text0 = re.sub(\"\\t|\\n|\\r\",\"\",str(\" \" + \" \".join(subj_for_test[\"전체 텍스트\"][i])+\" \")) #얘가 문제였음. 처음에 합치기 전에 이 작업을 각 필드별로 위에서 해야 했음.\n",
        "  sub_text = re.sub(\"\\t|\\n|\\r\",\"\",str(\" \" + \" \".join(subj_for_test[\"전체 텍스트\"][i])+\" \"))  # 집에가서 처리하자\n",
        "  subj_for_test[\"제목 길이\"][i] = len(RStext[\"과제명-국문\"][i])\n",
        "  subj_for_test[\"목표 길이\"][i] = int(subj_for_test[\"제목 길이\"][i]) + len(RStext[\"요약문_연구목표\"][i])\n",
        "  subj_for_test[\"내용 길이\"][i] = int(subj_for_test[\"목표 길이\"][i]) + len(RStext[\"요약문_연구내용\"][i])\n",
        "  subj_for_test[\"효과 길이\"][i] = int(subj_for_test[\"내용 길이\"][i]) + len(RStext[\"요약문_기대효과\"][i])\n",
        "  subj_for_test[\"한키 길이\"][i] = int(subj_for_test[\"효과 길이\"][i]) + len(RStext[\"요약문_한글키워드\"][i])\n",
        "  subj_for_test[\"영키 길이\"][i] = int(subj_for_test[\"한키 길이\"][i]) + len(RStext[\"요약문_영문키워드\"][i])\n",
        "  # 형태소 분석, 아직 문서 하나\n",
        "  test = []\n",
        "  for word in api.analyze(RStext[\"전체 텍스트\"][i]):\n",
        "    test.append(str(word))\n",
        "    test_str = re.sub('[A-Za-z가-힣]*\\t|,',\" \",\" \".join(test))\n",
        "    test_str = re.compile('[A-Za-z가-힣]*/NNG|[A-Za-z가-힣]*/SL|[A-Za-z가-힣]*/NNP').findall(test_str)\n",
        "    test_str = re.sub('/NNG|/SL|/NNP',\"\",\" \".join(test_str))\n",
        "    test_str = re.compile('[A-Za-z가-힣][A-Za-z가-힣]+').findall(test_str)\n",
        "    test_set = list(set(test_str))\n",
        "    test_str = str(\" \"+\" \".join(test_str)+\" \")\n",
        "  subj_count = pd.DataFrame(np.zeros([len(test_set),2]),columns = [\"키워드\",\"빈도\"])\n",
        "  subj_count[\"위치\"] = \"\"\n",
        "  subj_count[\"위치변화\"] = \"\"\n",
        "  subj_count[\"변경수\"] = 0\n",
        "  subj_count[\"변경대상\"] = \"\"\n",
        "  subj_count[\"대체단어\"] = ch_keyword\n",
        "  subj_count[\"더미글자\"] = \"뷁\"\n",
        "  for k in range(len(test_set)):\n",
        "    subj_count[\"키워드\"][k] = test_set[k]\n",
        "    subj_count[\"빈도\"][k] = len(re.compile(str(\" \"+test_set[k]+\" \")).findall(test_str))\n",
        "    subj_count[\"위치\"][k] = [m.start() for m in re.finditer(subj_count[\"키워드\"][k],sub_text)]\n",
        "    subj_count[\"위치변화\"][k] = sample(subj_count[\"위치\"][k],len(subj_count[\"위치\"][k]))\n",
        "  subj_count = subj_count.sort_values(by = [\"빈도\"],ascending=False).reset_index(drop=True)\n",
        "  subj_count[\"대체단어길이\"] = subj_count[\"키워드\"].str.len()-2\n",
        "  subj_count[\"대체용어\"] = subj_count[\"대체단어\"] + (subj_count[\"더미글자\"] * subj_count[\"대체단어길이\"])\n",
        "  Keycount = int(round(sum(subj_count[\"빈도\"])/100*(100-Npercnt),0))\n",
        "  for j in range(len(subj_count)):\n",
        "    subj_count[\"변경수\"][j] = int(np.random.randint(0, high = int(subj_count[\"빈도\"][j])+1,size = 1))*int(sample([0,1,1,1],1)[0])\n",
        "    if Keycount < 0:\n",
        "      subj_count[\"변경수\"][j] = subj_count[\"변경수\"][j] - (0 - Keycount)\n",
        "      subj_count[\"변경대상\"][j] = list(subj_count[\"위치변화\"][j][0:subj_count[\"변경수\"][j]])\n",
        "      break\n",
        "    subj_count[\"변경대상\"][j] = list(subj_count[\"위치변화\"][j][0:subj_count[\"변경수\"][j]])\n",
        "  for l in range(len(subj_count)):\n",
        "    if len(subj_count[\"변경대상\"][l]) == 0:\n",
        "      continue\n",
        "    else:\n",
        "      for ll in range(len(subj_count[\"변경대상\"][l])):\n",
        "        sub_text = \"\".join((sub_text[:subj_count[\"변경대상\"][l][ll]],subj_count[\"대체용어\"][l],sub_text[subj_count[\"변경대상\"][l][ll]+len(subj_count[\"키워드\"][l]):]))\n",
        "  sub_text = sub_text.replace(\"뷁\",'')\n",
        "  subj_for_test[\"제목 추출\"][i] = sub_text[0:subj_for_test[\"제목 길이\"][i]]\n",
        "  subj_for_test[\"목표 추출\"][i] = sub_text[subj_for_test[\"제목 길이\"][i]:subj_for_test[\"목표 길이\"][i]]\n",
        "  subj_for_test[\"내용 추출\"][i] = sub_text[subj_for_test[\"목표 길이\"][i]:subj_for_test[\"내용 길이\"][i]]\n",
        "  subj_for_test[\"효과 추출\"][i] = sub_text[subj_for_test[\"내용 길이\"][i]:subj_for_test[\"효과 길이\"][i]]\n",
        "  subj_for_test[\"한키 추출\"][i] = sub_text[subj_for_test[\"효과 길이\"][i]:subj_for_test[\"한키 길이\"][i]]\n",
        "  subj_for_test[\"영키 추출\"][i] = sub_text[subj_for_test[\"한키 길이\"][i]:subj_for_test[\"영키 길이\"][i]]\n",
        "\n"
      ],
      "execution_count": 63,
      "outputs": [
        {
          "output_type": "stream",
          "text": [
            "/usr/local/lib/python3.6/dist-packages/ipykernel_launcher.py:5: SettingWithCopyWarning: \n",
            "A value is trying to be set on a copy of a slice from a DataFrame\n",
            "\n",
            "See the caveats in the documentation: http://pandas.pydata.org/pandas-docs/stable/user_guide/indexing.html#returning-a-view-versus-a-copy\n",
            "  \"\"\"\n",
            "/usr/local/lib/python3.6/dist-packages/ipykernel_launcher.py:6: SettingWithCopyWarning: \n",
            "A value is trying to be set on a copy of a slice from a DataFrame\n",
            "\n",
            "See the caveats in the documentation: http://pandas.pydata.org/pandas-docs/stable/user_guide/indexing.html#returning-a-view-versus-a-copy\n",
            "  \n",
            "/usr/local/lib/python3.6/dist-packages/ipykernel_launcher.py:7: SettingWithCopyWarning: \n",
            "A value is trying to be set on a copy of a slice from a DataFrame\n",
            "\n",
            "See the caveats in the documentation: http://pandas.pydata.org/pandas-docs/stable/user_guide/indexing.html#returning-a-view-versus-a-copy\n",
            "  import sys\n",
            "/usr/local/lib/python3.6/dist-packages/ipykernel_launcher.py:8: SettingWithCopyWarning: \n",
            "A value is trying to be set on a copy of a slice from a DataFrame\n",
            "\n",
            "See the caveats in the documentation: http://pandas.pydata.org/pandas-docs/stable/user_guide/indexing.html#returning-a-view-versus-a-copy\n",
            "  \n",
            "/usr/local/lib/python3.6/dist-packages/ipykernel_launcher.py:9: SettingWithCopyWarning: \n",
            "A value is trying to be set on a copy of a slice from a DataFrame\n",
            "\n",
            "See the caveats in the documentation: http://pandas.pydata.org/pandas-docs/stable/user_guide/indexing.html#returning-a-view-versus-a-copy\n",
            "  if __name__ == '__main__':\n",
            "/usr/local/lib/python3.6/dist-packages/ipykernel_launcher.py:10: SettingWithCopyWarning: \n",
            "A value is trying to be set on a copy of a slice from a DataFrame\n",
            "\n",
            "See the caveats in the documentation: http://pandas.pydata.org/pandas-docs/stable/user_guide/indexing.html#returning-a-view-versus-a-copy\n",
            "  # Remove the CWD from sys.path while we load stuff.\n",
            "/usr/local/lib/python3.6/dist-packages/ipykernel_launcher.py:29: SettingWithCopyWarning: \n",
            "A value is trying to be set on a copy of a slice from a DataFrame\n",
            "\n",
            "See the caveats in the documentation: http://pandas.pydata.org/pandas-docs/stable/user_guide/indexing.html#returning-a-view-versus-a-copy\n",
            "/usr/local/lib/python3.6/dist-packages/pandas/core/indexing.py:205: SettingWithCopyWarning: \n",
            "A value is trying to be set on a copy of a slice from a DataFrame\n",
            "\n",
            "See the caveats in the documentation: http://pandas.pydata.org/pandas-docs/stable/user_guide/indexing.html#returning-a-view-versus-a-copy\n",
            "  self._setitem_with_indexer(indexer, value)\n",
            "/usr/local/lib/python3.6/dist-packages/ipykernel_launcher.py:30: SettingWithCopyWarning: \n",
            "A value is trying to be set on a copy of a slice from a DataFrame\n",
            "\n",
            "See the caveats in the documentation: http://pandas.pydata.org/pandas-docs/stable/user_guide/indexing.html#returning-a-view-versus-a-copy\n",
            "/usr/local/lib/python3.6/dist-packages/ipykernel_launcher.py:31: SettingWithCopyWarning: \n",
            "A value is trying to be set on a copy of a slice from a DataFrame\n",
            "\n",
            "See the caveats in the documentation: http://pandas.pydata.org/pandas-docs/stable/user_guide/indexing.html#returning-a-view-versus-a-copy\n",
            "/usr/local/lib/python3.6/dist-packages/ipykernel_launcher.py:32: SettingWithCopyWarning: \n",
            "A value is trying to be set on a copy of a slice from a DataFrame\n",
            "\n",
            "See the caveats in the documentation: http://pandas.pydata.org/pandas-docs/stable/user_guide/indexing.html#returning-a-view-versus-a-copy\n",
            "/usr/local/lib/python3.6/dist-packages/ipykernel_launcher.py:38: SettingWithCopyWarning: \n",
            "A value is trying to be set on a copy of a slice from a DataFrame\n",
            "\n",
            "See the caveats in the documentation: http://pandas.pydata.org/pandas-docs/stable/user_guide/indexing.html#returning-a-view-versus-a-copy\n",
            "/usr/local/lib/python3.6/dist-packages/ipykernel_launcher.py:43: SettingWithCopyWarning: \n",
            "A value is trying to be set on a copy of a slice from a DataFrame\n",
            "\n",
            "See the caveats in the documentation: http://pandas.pydata.org/pandas-docs/stable/user_guide/indexing.html#returning-a-view-versus-a-copy\n",
            "/usr/local/lib/python3.6/dist-packages/ipykernel_launcher.py:51: SettingWithCopyWarning: \n",
            "A value is trying to be set on a copy of a slice from a DataFrame\n",
            "\n",
            "See the caveats in the documentation: http://pandas.pydata.org/pandas-docs/stable/user_guide/indexing.html#returning-a-view-versus-a-copy\n",
            "/usr/local/lib/python3.6/dist-packages/ipykernel_launcher.py:52: SettingWithCopyWarning: \n",
            "A value is trying to be set on a copy of a slice from a DataFrame\n",
            "\n",
            "See the caveats in the documentation: http://pandas.pydata.org/pandas-docs/stable/user_guide/indexing.html#returning-a-view-versus-a-copy\n",
            "/usr/local/lib/python3.6/dist-packages/ipykernel_launcher.py:53: SettingWithCopyWarning: \n",
            "A value is trying to be set on a copy of a slice from a DataFrame\n",
            "\n",
            "See the caveats in the documentation: http://pandas.pydata.org/pandas-docs/stable/user_guide/indexing.html#returning-a-view-versus-a-copy\n",
            "/usr/local/lib/python3.6/dist-packages/ipykernel_launcher.py:54: SettingWithCopyWarning: \n",
            "A value is trying to be set on a copy of a slice from a DataFrame\n",
            "\n",
            "See the caveats in the documentation: http://pandas.pydata.org/pandas-docs/stable/user_guide/indexing.html#returning-a-view-versus-a-copy\n",
            "/usr/local/lib/python3.6/dist-packages/ipykernel_launcher.py:55: SettingWithCopyWarning: \n",
            "A value is trying to be set on a copy of a slice from a DataFrame\n",
            "\n",
            "See the caveats in the documentation: http://pandas.pydata.org/pandas-docs/stable/user_guide/indexing.html#returning-a-view-versus-a-copy\n",
            "/usr/local/lib/python3.6/dist-packages/ipykernel_launcher.py:56: SettingWithCopyWarning: \n",
            "A value is trying to be set on a copy of a slice from a DataFrame\n",
            "\n",
            "See the caveats in the documentation: http://pandas.pydata.org/pandas-docs/stable/user_guide/indexing.html#returning-a-view-versus-a-copy\n"
          ],
          "name": "stderr"
        }
      ]
    },
    {
      "cell_type": "code",
      "metadata": {
        "id": "b1PrItB9xhb9",
        "colab_type": "code",
        "colab": {
          "base_uri": "https://localhost:8080/",
          "height": 34
        },
        "outputId": "ec9299b7-943b-40fe-8399-424ba7534d43"
      },
      "source": [
        "test = []\n",
        "start = time.time()\n",
        "for word in api.analyze(RStext[\"전체 텍스트\"][i]):\n",
        "  test.append(str(word))\n",
        "  np.random.randint(0,1000000,1000)\n",
        "print(\"time :\", time.time() - start)"
      ],
      "execution_count": 55,
      "outputs": [
        {
          "output_type": "stream",
          "text": [
            "time : 0.05455160140991211\n"
          ],
          "name": "stdout"
        }
      ]
    },
    {
      "cell_type": "code",
      "metadata": {
        "id": "s1AQh36X71BP",
        "colab_type": "code",
        "colab": {
          "base_uri": "https://localhost:8080/",
          "height": 176
        },
        "outputId": "9b189733-9277-4789-b489-84d1cbfb32eb"
      },
      "source": [
        "print(subj_for_test[\"전체 텍스트\"][i])\n",
        "print(sub_text0)\n",
        "print(subj_for_test[\"제목 추출\"][i])\n",
        "print(subj_for_test[\"목표 추출\"][i])\n",
        "print(subj_for_test[\"내용 추출\"][i])\n",
        "print(subj_for_test[\"효과 추출\"][i])\n",
        "print(subj_for_test[\"한키 추출\"][i])\n",
        "print(subj_for_test[\"영키 추출\"][i])"
      ],
      "execution_count": 64,
      "outputs": [
        {
          "output_type": "stream",
          "text": [
            "['바이러스', '현장', '검출용', '초소형화', '펜타입', '표면', '플라즈몬', '공명', '시스템', '개발', '○', '본', '제안기술은', 'SPR', '시스템', '기술,', '광학', '집적', '기술,', '소프트웨어', '기술,', '바이오컨쥬게이셔', '기술을', '바탕으로', '하여,', '바이러스', '현장', '진단용', '초소형화', '펜타입', 'SPR', '시스템을', '세계최초로', '개발하는', '것을', '주요', '골자로', '함.\\r\\n○', '본', '제안기술은', 'Kretchmann', 'configuration', '기반의', 'SPR', '센싱', '방법을', '주요', '적용', '기술로서', '활용하지만,', '추가적으로', '최근', '연구가', '활발히', '진행되고', '있는', '나노', '플라즈모닉', '센싱', '기반으로', '개발', '범위를', '확장하여', '학술적으로도', '깊이', '있는', '신규의', '센싱', '기법을', '개발하고자', '함.', '○', '초소형화', '펜타입', 'SPR', '시스템', '설계/제작', '기술', '연구\\r\\n-', 'Kretchmann', 'configuration', '기반', '광학', '미세', '집적', '기술', '연구\\r\\n-', '나노플라즈모닉', '기반', '광학', '미세', '집적', '기술', '연구\\r\\n-', '일회용', '칩', '탈부착', '기술', '및', '액체유입', '차단', '기술', '연구\\r\\n-', '센서', '분해능:', '1', 'x', '10-7', 'RIU', '(refractive', 'index', 'unit)\\r\\n-', 'SPR', '광학모듈', '크기:', '15', 'x', '15', 'x', '50', 'mm', '(W', 'x', 'D', 'x', 'H)\\r\\n-', '무선,', '저전력', '시스템', '집적', '기술', '개발\\r\\n○', '일회용', '칩', '설계/제작', '기술', '및', '바이러스', '측정', '기술', '연구\\r\\n-', '프리즘', '일체형', '칩', '설계', '및', '최적화', '(Kretchmann', 'configuration)\\r\\n-', '나노물질', '(금속입자', '및', '금속선)', '패터닝', '기술', '연구', '(나노플라즈모닉)\\r\\n-', '면역반응', '기반', '바이러스', '측정', '방법', '최적화\\r\\n-', 'Aptamer,', 'peptide', '등', '초고민감도,', '고선택성을', '갖는', '경제성', '최적', '리셉터', '발굴\\r\\n-', '시료농축기술이', '적용된', '시료전처리', '카트리지', '개발\\r\\n○', '스마트폰', '연동', '소프트웨어', '기술', '연구\\r\\n-', 'Matlab', '기반', 'SPR', 'curve', 'fitting', '알고리즘', '단순화', '기술', '연구\\r\\n-', '스마트폰', '통신', '기술', '연구\\r\\n-', '바이러스', '정량', '진단', '어플리케이션', '시작품', '개발\\r\\n○', '임상', '유효성', '검증', '및', '실용화', '기술', '연구', '\\r\\n-', '대표', '급성감염', '바이러스', '1종에', '대한', '임상', '유효성', '검증\\r\\n-', '민감도', '(sensitivity):', '분자진단의', '90%\\r\\n-', '선택성', '(selectivity):', '90%', '이상', '(최종', '상용화', '단계', '100%', '달성)', '○', '과학기술적', '활용가치와', '기대효과\\r\\n-', '본', '연구에서', '제안하는', '새로운', '개념의', '「펜타입', '무선', '초소형화', 'SPR', '바이오센서」는', '바이러스', '진단', '현장에', '활용', '가능한', '플랫폼', '개발을', '목적으로', '한다.', '이는', '기존의', 'SPR', '센싱', '시스템의', '연구실에서만의', '적용', '한계점을', '해결할', '수', '있을', '것으로', '기대된다.', '\\r\\n-', '본', '제안', '연구에서', '개발될', '센싱', '시스템', '원천기술은', '혈액진단,', '환경모니터링,', '식품모니터링', '등', '다양한', '현장', '진단', '플랫폼', '기술로', '활용될', '것으로', '전망된다.\\r\\n-', '최종', '목표', '달성', '시,', '바이러스', '현장', '신속', '진단이', '가능함으로써', '인류', '보건', '및', '국가방위에', '기여할', '것으로', '전망된다.\\r\\n\\r\\n○', '경제사회적', '활용가치와', '기대효과\\r\\n-', '본', '제안연구에서', '확보된', '원천특허', '및', '노하우는', '기술이전을', '통한', '글로벌', '경쟁형', '바이러스', '검출', '신의료기술', '개발이', '가능할', '것으로', '기대된다.\\r\\n-', 'SPR', '바이오센서', '최초의', '의료', '장치화를', '통한', '적용', '질환', '확대', '및', '시장', '선점', '효과가', '기대된다.\\r\\n-', '아프리카', '및', '동남아시아', '지역으로의', '수출을', '통한', '국가', '경제', '활성화를', '전망할', '수', '있다.\\r\\n-', '바이러스성', '질환의', '신속진단을', '통한', '국가', '의료비', '절감효과', '또한', '기대할', '수', '있다.', '표면', '플라즈몬', '공명\\r\\n', '스마트폰', '이용', '진단기기', '바이러스', '진단', '나노플라즈모닉', '센서', '일회용', '칩', '분석', '알고리즘', 'surfaceplasmonresonance', 'Smartphonebaseddiagnosisdevice', 'Virusdetection', 'Nanoplasmonicsensor', 'disposablechip', 'analysisalgorithm']\n",
            " 바이러스 현장 검출용 초소형화 펜타입 표면 플라즈몬 공명 시스템 개발 ○ 본 제안기술은 SPR 시스템 기술, 광학 집적 기술, 소프트웨어 기술, 바이오컨쥬게이셔 기술을 바탕으로 하여, 바이러스 현장 진단용 초소형화 펜타입 SPR 시스템을 세계최초로 개발하는 것을 주요 골자로 함.○ 본 제안기술은 Kretchmann configuration 기반의 SPR 센싱 방법을 주요 적용 기술로서 활용하지만, 추가적으로 최근 연구가 활발히 진행되고 있는 나노 플라즈모닉 센싱 기반으로 개발 범위를 확장하여 학술적으로도 깊이 있는 신규의 센싱 기법을 개발하고자 함. ○ 초소형화 펜타입 SPR 시스템 설계/제작 기술 연구- Kretchmann configuration 기반 광학 미세 집적 기술 연구- 나노플라즈모닉 기반 광학 미세 집적 기술 연구- 일회용 칩 탈부착 기술 및 액체유입 차단 기술 연구- 센서 분해능: 1 x 10-7 RIU (refractive index unit)- SPR 광학모듈 크기: 15 x 15 x 50 mm (W x D x H)- 무선, 저전력 시스템 집적 기술 개발○ 일회용 칩 설계/제작 기술 및 바이러스 측정 기술 연구- 프리즘 일체형 칩 설계 및 최적화 (Kretchmann configuration)- 나노물질 (금속입자 및 금속선) 패터닝 기술 연구 (나노플라즈모닉)- 면역반응 기반 바이러스 측정 방법 최적화- Aptamer, peptide 등 초고민감도, 고선택성을 갖는 경제성 최적 리셉터 발굴- 시료농축기술이 적용된 시료전처리 카트리지 개발○ 스마트폰 연동 소프트웨어 기술 연구- Matlab 기반 SPR curve fitting 알고리즘 단순화 기술 연구- 스마트폰 통신 기술 연구- 바이러스 정량 진단 어플리케이션 시작품 개발○ 임상 유효성 검증 및 실용화 기술 연구 - 대표 급성감염 바이러스 1종에 대한 임상 유효성 검증- 민감도 (sensitivity): 분자진단의 90%- 선택성 (selectivity): 90% 이상 (최종 상용화 단계 100% 달성) ○ 과학기술적 활용가치와 기대효과- 본 연구에서 제안하는 새로운 개념의 「펜타입 무선 초소형화 SPR 바이오센서」는 바이러스 진단 현장에 활용 가능한 플랫폼 개발을 목적으로 한다. 이는 기존의 SPR 센싱 시스템의 연구실에서만의 적용 한계점을 해결할 수 있을 것으로 기대된다. - 본 제안 연구에서 개발될 센싱 시스템 원천기술은 혈액진단, 환경모니터링, 식품모니터링 등 다양한 현장 진단 플랫폼 기술로 활용될 것으로 전망된다.- 최종 목표 달성 시, 바이러스 현장 신속 진단이 가능함으로써 인류 보건 및 국가방위에 기여할 것으로 전망된다.○ 경제사회적 활용가치와 기대효과- 본 제안연구에서 확보된 원천특허 및 노하우는 기술이전을 통한 글로벌 경쟁형 바이러스 검출 신의료기술 개발이 가능할 것으로 기대된다.- SPR 바이오센서 최초의 의료 장치화를 통한 적용 질환 확대 및 시장 선점 효과가 기대된다.- 아프리카 및 동남아시아 지역으로의 수출을 통한 국가 경제 활성화를 전망할 수 있다.- 바이러스성 질환의 신속진단을 통한 국가 의료비 절감효과 또한 기대할 수 있다. 표면 플라즈몬 공명 스마트폰 이용 진단기기 바이러스 진단 나노플라즈모닉 센서 일회용 칩 분석 알고리즘 surfaceplasmonresonance Smartphonebaseddiagnosisdevice Virusdetection Nanoplasmonicsensor disposablechip analysisalgorithm \n",
            " 바이러스 연구 검출용 초소형화 펜타입 연구 플라즈몬 공명 연구 연구\n",
            " ○ 본 제안연구은 연구 연구 연구, 광학 연구 연구, 연구 연구, 바연구이셔 연구을 연구으로 하여, 바이러스 현장 진단용 초소형화 펜타입 SPR 시스템을 세계연구로 연구하는 것을 주요 골자로 함.○ 본 제안연구은 연구 configuration 기반의 연구 센싱 연구을 주요 연구 연구로서 활용하지만, 추가적으로 연구 연구가 활발히 진행되고 있는 나노 플라즈모닉 센싱 기반으로 연구 범위를 확장하여 학술적으로도 깊이 있는 연구의 센싱 연구을 연구하고자 함. ○ 초소형화 연구 SPR 연구 \n",
            "설계/연구 연구 연구- 연구 configuration 기반 광학 연구 집적 연구 연구- 나노플라즈모닉 기반 연구 연구 연구 연구 연구- 일회용 칩 탈부착 연구 및 액체연구 연구 연구 연구- 센서 분해능: 1 x 10-7 RIU (refractive index unit)- SPR 연구모듈 크기: 15 x 15 x 50 연구 (W x D x H)- 연구, 저연구 연구 집적 연구 연구○ 일회용 칩 설계/연구 기술 및 바이러스 측정 연구 연구- 프리즘 연구형 칩 설계 및 연구 (연구 configuration)- 연구 (금속연구 및 금속선) 패터닝 연구 연구 (연구연구)- 면역반응 기반 바이러스 측정 연구 연구화- Aptamer, peptide 등 초고연구도, 고선택성을 갖는 경제성 연구 리셉터 연구- 연구연구연구이 적용된 시료연구 연구 개발○ 연구 연구 연구 연구 연구- 연구 기반 SPR curve fitting 연구 연구화 연구 연구- 스마트폰 통신 연구 연구- 바이러스 연구 진단 어플리케이션 시작품 연구○ 연구 유효성 검증 및 실용화 연구 연구 - 대표 연구감염 바이러스 1종에 대한 연구 유효성 검증- 민감도 (연구): 분자진단의 90%- 선택성 (연구): 90% 이상 (연구 연구화 연구 100% 달성) ○ 과학연구적 활용연구와 연구효과- 본 연구에서 제안하는 새로운 개념의 「연구 연구 초소형화 SPR 연구서」는 바이러스 연구 현장에 활용 가능한 플랫폼 연구을 목적으로 한다. 이는 기존의 SPR 센싱 연\n",
            "구의 연구실에서만의 적용 연구을 연구할 수 있을 것으로 연구된다. - 본 제안 연구에서 연구될 센싱 연구 연구연구은 연구연구, 환경연구, 식품연구 등 다양한 연구 진단 플랫폼 연구로 활용될 것으로 연구된다.- 연구 목표 달성 시, 바이러스 연구 신속 진단이 가능함으로써 인류 보건 및 연구방위에 기여할 것으로 전망된다.○ 경제연구적 활용연구와 기대효과- 본 제안연구에서 확보된 연구특허 및 노하우는 연구이전을 통한 연구 경쟁형 바이러스 연구 신의료연구 연구이 가능할 것으로 기대된다.- 연구 바이오센서 최초의 연구 연구화를 통한 연구 질환 연구 및 연구 연구 효과가 기대된다.- 연구 및 동남아시아 지역으로의 수출을 통한 연구 경제 활성화를 전망할 수 있다.- 바이러스성 질환의 신속진단을 통한 연구 연구비 연구효과 또한 연구할 수 있다. 표면 플라즈몬 공명 스마트폰 이용 진단연구 바이러스 연구 연구연구모닉 센서 일회용 칩 분석 연구 surfaceplasmonresonance 연구 연구 Nanoplasmonicsensor 연구 연구 \n",
            "\n",
            "\n"
          ],
          "name": "stdout"
        }
      ]
    },
    {
      "cell_type": "code",
      "metadata": {
        "id": "pmo8Wo_zoqQ4",
        "colab_type": "code",
        "colab": {}
      },
      "source": [
        "subj_for_test.head(1)"
      ],
      "execution_count": 0,
      "outputs": []
    },
    {
      "cell_type": "code",
      "metadata": {
        "id": "QyE31oymwiZB",
        "colab_type": "code",
        "colab": {}
      },
      "source": [
        "sub_text\n",
        "[m.start() for m in re.finditer(subj_count[\"키워드\"][k],sub_text)]"
      ],
      "execution_count": 0,
      "outputs": []
    },
    {
      "cell_type": "code",
      "metadata": {
        "id": "w6Hx-v3LSk_l",
        "colab_type": "code",
        "colab": {}
      },
      "source": [
        "subj_count.head()"
      ],
      "execution_count": 0,
      "outputs": []
    },
    {
      "cell_type": "code",
      "metadata": {
        "id": "2YwjisZFZkLh",
        "colab_type": "code",
        "colab": {}
      },
      "source": [
        "# # \n",
        "# test_str = re.sub('[A-Za-z가-힣]*\\t',\" \",\" \".join(test))\n",
        "# test_str = re.compile('[A-Za-z가-힣]*/NNG|[A-Za-z가-힣]*/SL|[A-Za-z가-힣]*/NNP').findall(test_str)\n",
        "# test_str = re.sub('/NNG|/SL|/NNP',\"\",\" \".join(test_str))\n",
        "# test_str = re.compile('[A-Za-z가-힣][A-Za-z가-힣]+').findall(test_str)\n",
        "# test_set = list(set(test_str))\n",
        "# test_str = str(\" \"+\" \".join(test_str)+\" \")\n",
        "# print(test_str)\n",
        "# print(test_set)"
      ],
      "execution_count": 0,
      "outputs": []
    },
    {
      "cell_type": "code",
      "metadata": {
        "id": "f7b7LAJXZrjm",
        "colab_type": "code",
        "colab": {}
      },
      "source": [
        "# subj_count = pd.DataFrame(np.zeros([len(test_set),2]),columns = [\"키워드\",\"빈도\"])\n",
        "# subj_count[\"위치\"] = \"\"\n",
        "# subj_count[\"위치변화\"] = \"\"\n",
        "# subj_count[\"변경수\"] = 0\n",
        "# subj_count[\"변경대상\"] = \"\"\n",
        "# for i in range(len(test_set)):\n",
        "#   subj_count[\"키워드\"][i] = test_set[i]\n",
        "#   subj_count[\"빈도\"][i] = len(re.compile(str(\" \"+test_set[i]+\" \")).findall(test_str))\n",
        "#   subj_count[\"위치\"][i] = list(np.where(np.array(test_str.split(\" \")) == test_set[i])[0])\n",
        "#   subj_count[\"위치변화\"][i] = sample(subj_count[\"위치\"][i],len(subj_count[\"위치\"][i]))\n",
        "# subj_count = subj_count.sort_values(by = [\"빈도\"],ascending=False).reset_index(drop=True)\n",
        "# Npercnt = 10\n",
        "# Keycount = int(round(sum(subj_count[\"빈도\"])/100*Npercnt,0))\n",
        "# for j in range(len(subj_count)):\n",
        "#   subj_count[\"변경수\"][j] = int(np.random.randint(0, high = int(subj_count[\"빈도\"][j])+1,size = 1))*int(sample([0,1,1,1],1)[0])\n",
        "#   Keycount -= subj_count[\"변경수\"][j]\n",
        "#   if Keycount < 0:\n",
        "#     subj_count[\"변경수\"][j] = subj_count[\"변경수\"][j] - (0 - Keycount)\n",
        "#     subj_count[\"변경대상\"][j] = list(subj_count[\"위치변화\"][j][0:subj_count[\"변경수\"][j]])\n",
        "#     break\n",
        "#   subj_count[\"변경대상\"][j] = list(subj_count[\"위치변화\"][j][0:subj_count[\"변경수\"][j]])\n"
      ],
      "execution_count": 0,
      "outputs": []
    },
    {
      "cell_type": "code",
      "metadata": {
        "id": "jiA-vwBzmEjv",
        "colab_type": "code",
        "colab": {}
      },
      "source": [
        "subj_count.sort_values(by =[\"빈도\"],ascending=False)[0:30]"
      ],
      "execution_count": 0,
      "outputs": []
    },
    {
      "cell_type": "code",
      "metadata": {
        "id": "i_3xzMmPm3ah",
        "colab_type": "code",
        "colab": {}
      },
      "source": [
        "print(sub_text[382])\n",
        "print(subj_count[\"키워드\"][l])\n",
        "print(subj_count[\"변경대상\"][l][ll])\n",
        "print(l)\n",
        "print(ll)"
      ],
      "execution_count": 0,
      "outputs": []
    },
    {
      "cell_type": "code",
      "metadata": {
        "id": "22Zusz8_YMSD",
        "colab_type": "code",
        "colab": {}
      },
      "source": [
        "print(int(round(sum(subj_count[\"빈도\"])/100*Npercnt,0)))\n",
        "print(sum(subj_count[\"변경수\"]))"
      ],
      "execution_count": 0,
      "outputs": []
    },
    {
      "cell_type": "code",
      "metadata": {
        "id": "i7IA1ujipq7O",
        "colab_type": "code",
        "colab": {}
      },
      "source": [
        "print(int(round(sum(subj_count[\"빈도\"])/10*2,0)))"
      ],
      "execution_count": 0,
      "outputs": []
    },
    {
      "cell_type": "code",
      "metadata": {
        "id": "2VbvoZmnmSwk",
        "colab_type": "code",
        "colab": {}
      },
      "source": [
        "print(RStext[\"과제고유번호\"][num])\n",
        "print(RStext[\"과제명-국문\"][num])"
      ],
      "execution_count": 0,
      "outputs": []
    },
    {
      "cell_type": "code",
      "metadata": {
        "id": "K2CKZWzTjEZK",
        "colab_type": "code",
        "colab": {}
      },
      "source": [
        "# 단어 체인지 후에 각 필드로 배분하기 위한 방법\n",
        "print(len(RStext[\"전체 텍스트\"][num].split(\" \")))\n",
        "print(len(RStext[\"과제명-국문\"][num].split(\" \")))\n",
        "print(RStext[\"전체 텍스트\"][num].split(\" \")[0:len(RStext[\"과제명-국문\"][num].split(\" \"))])\n",
        "print(RStext[\"과제명-국문\"][num].split(\" \"))\n",
        "print(RStext[\"전체 텍스트\"][num].split(\" \")[len(RStext[\"과제명-국문\"][num].split(\" \")):(len(RStext[\"과제명-국문\"][num].split(\" \"))+len(RStext[\"요약문_연구목표\"][num].split(\" \")))])\n",
        "print(RStext[\"요약문_연구목표\"][num].split(\" \"))\n",
        "print(RStext[\"전체 텍스트\"][num].split(\" \")[len(RStext[\"과제명-국문\"][num].split(\" \")):(len(RStext[\"과제명-국문\"][num].split(\" \"))+len(RStext[\"요약문_연구목표\"][num].split(\" \")))])"
      ],
      "execution_count": 0,
      "outputs": []
    },
    {
      "cell_type": "code",
      "metadata": {
        "id": "kopUfT5Rjnfp",
        "colab_type": "code",
        "colab": {}
      },
      "source": [
        "print(RStext[\"요약문_연구내용\"][num].split(\" \"))"
      ],
      "execution_count": 0,
      "outputs": []
    },
    {
      "cell_type": "code",
      "metadata": {
        "id": "xruhY26t60YQ",
        "colab_type": "code",
        "colab": {}
      },
      "source": [
        "np.where(np.array(RStext[\"요약문_연구내용\"][num].split(\" \")) == \"분석\")[0]"
      ],
      "execution_count": 0,
      "outputs": []
    },
    {
      "cell_type": "code",
      "metadata": {
        "id": "Jf5F9iHHM-Ds",
        "colab_type": "code",
        "colab": {}
      },
      "source": [
        ""
      ],
      "execution_count": 0,
      "outputs": []
    }
  ]
}