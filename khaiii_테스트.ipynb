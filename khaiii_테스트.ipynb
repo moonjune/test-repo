{
  "nbformat": 4,
  "nbformat_minor": 0,
  "metadata": {
    "colab": {
      "name": "Untitled",
      "provenance": [],
      "include_colab_link": true
    },
    "kernelspec": {
      "name": "python3",
      "display_name": "Python 3"
    }
  },
  "cells": [
    {
      "cell_type": "markdown",
      "metadata": {
        "id": "view-in-github",
        "colab_type": "text"
      },
      "source": [
        "<a href=\"https://colab.research.google.com/github/moonjune/test-repo/blob/master/khaiii_%ED%85%8C%EC%8A%A4%ED%8A%B8.ipynb\" target=\"_parent\"><img src=\"https://colab.research.google.com/assets/colab-badge.svg\" alt=\"Open In Colab\"/></a>"
      ]
    },
    {
      "cell_type": "code",
      "metadata": {
        "id": "2QVLEIHHNSxf",
        "colab_type": "code",
        "colab": {}
      },
      "source": [
        "!git clone https://github.com/kakao/khaiii.git"
      ],
      "execution_count": 0,
      "outputs": []
    },
    {
      "cell_type": "code",
      "metadata": {
        "id": "zgnYdc_aNpXI",
        "colab_type": "code",
        "colab": {}
      },
      "source": [
        "!cd khaiii\n",
        "!mkdir build\n",
        "!cd build"
      ],
      "execution_count": 0,
      "outputs": []
    },
    {
      "cell_type": "code",
      "metadata": {
        "id": "QORAvUvrNspI",
        "colab_type": "code",
        "colab": {}
      },
      "source": [
        "import os \n",
        "os.chdir('/content/khaiii/')"
      ],
      "execution_count": 0,
      "outputs": []
    },
    {
      "cell_type": "code",
      "metadata": {
        "id": "N0M40J7fNv2x",
        "colab_type": "code",
        "colab": {}
      },
      "source": [
        "!mkdir build"
      ],
      "execution_count": 0,
      "outputs": []
    },
    {
      "cell_type": "code",
      "metadata": {
        "id": "xSTAowCIOgYV",
        "colab_type": "code",
        "colab": {}
      },
      "source": [
        "os.chdir('/content/khaiii/build/')"
      ],
      "execution_count": 0,
      "outputs": []
    },
    {
      "cell_type": "code",
      "metadata": {
        "id": "C12T0rDuOvpH",
        "colab_type": "code",
        "colab": {}
      },
      "source": [
        "!cmake .."
      ],
      "execution_count": 0,
      "outputs": []
    },
    {
      "cell_type": "code",
      "metadata": {
        "id": "ah_dcqafRc9N",
        "colab_type": "code",
        "colab": {}
      },
      "source": [
        "!make all"
      ],
      "execution_count": 0,
      "outputs": []
    },
    {
      "cell_type": "code",
      "metadata": {
        "id": "QS0pfXwwTA3I",
        "colab_type": "code",
        "colab": {}
      },
      "source": [
        "!make resource"
      ],
      "execution_count": 0,
      "outputs": []
    },
    {
      "cell_type": "code",
      "metadata": {
        "id": "aOCmEZy1TI5A",
        "colab_type": "code",
        "colab": {}
      },
      "source": [
        "os.chdir('/content/khaiii/build/')\n",
        "!./bin/khaiii --rsc-dir=./share/khaiii"
      ],
      "execution_count": 0,
      "outputs": []
    },
    {
      "cell_type": "code",
      "metadata": {
        "id": "P9cTq5EeVYyL",
        "colab_type": "code",
        "colab": {}
      },
      "source": [
        "!ctest"
      ],
      "execution_count": 0,
      "outputs": []
    },
    {
      "cell_type": "code",
      "metadata": {
        "id": "ko3SD3gBVe9J",
        "colab_type": "code",
        "colab": {}
      },
      "source": [
        "!make package_python"
      ],
      "execution_count": 0,
      "outputs": []
    },
    {
      "cell_type": "code",
      "metadata": {
        "id": "WQvovF-bVwj7",
        "colab_type": "code",
        "colab": {}
      },
      "source": [
        "os.chdir(\"/content/khaiii/build/package_python/\")\n",
        "!pip install ."
      ],
      "execution_count": 0,
      "outputs": []
    },
    {
      "cell_type": "code",
      "metadata": {
        "id": "79rnNWHwW8dq",
        "colab_type": "code",
        "colab": {}
      },
      "source": [
        "os.chdir(\"/content/\")\n",
        "!mkdir simmilar_work\n",
        "os.chdir(\"/content/simmilar_work/\")"
      ],
      "execution_count": 0,
      "outputs": []
    },
    {
      "cell_type": "code",
      "metadata": {
        "id": "T8qlpqzmXp8v",
        "colab_type": "code",
        "colab": {}
      },
      "source": [
        "os.chdir(\"/content/simmilar_work/\")\n",
        "import numpy as np\n",
        "import pandas as pd"
      ],
      "execution_count": 0,
      "outputs": []
    },
    {
      "cell_type": "code",
      "metadata": {
        "id": "4fjqutZGXfLR",
        "colab_type": "code",
        "colab": {}
      },
      "source": [
        "# 파일 임포팅 파트\n",
        "from google.colab import files\n",
        "uploaded = files.upload()"
      ],
      "execution_count": 0,
      "outputs": []
    },
    {
      "cell_type": "code",
      "metadata": {
        "id": "vrQa-FspXlAA",
        "colab_type": "code",
        "colab": {}
      },
      "source": [
        "# 파일 DF로 읽기\n",
        "\n",
        "RStext = pd.read_excel(\"191101_테스트셋.xlsx\", encoding = \"UTF-8\")\n",
        "del RStext[\"Unnamed: 0\"]\n",
        "RStext.columns"
      ],
      "execution_count": 0,
      "outputs": []
    },
    {
      "cell_type": "code",
      "metadata": {
        "id": "G3bdpxJfYEDe",
        "colab_type": "code",
        "colab": {}
      },
      "source": [
        "# 통합텍스트 셀 생성\n",
        "RStext[\"전체 텍스트\"] = RStext['과제명-국문'] + \" \" + RStext['요약문_연구목표'] + \" \" + RStext['요약문_연구내용'] + \" \" + RStext['요약문_기대효과'] + \" \" + RStext['요약문_한글키워드'] + \" \" + RStext['요약문_영문키워드']\n",
        "RStext[\"전체 텍스트_기본\"] = RStext[\"전체 텍스트\"].str.findall('[a-z|A-Z|가-힣|&|.-.]+')\n",
        "for i in range(len(RStext[\"전체 텍스트_기본\"])):\n",
        "  RStext[\"전체 텍스트_기본\"][i] = \" \".join(RStext[\"전체 텍스트_기본\"][i])"
      ],
      "execution_count": 0,
      "outputs": []
    },
    {
      "cell_type": "code",
      "metadata": {
        "id": "JvKgyDtZXVg5",
        "colab_type": "code",
        "colab": {}
      },
      "source": [
        "import numpy as np\n",
        "import pandas as pd\n",
        "import re\n",
        "from random import sample\n",
        "from khaiii import KhaiiiApi\n",
        "api = KhaiiiApi()"
      ],
      "execution_count": 0,
      "outputs": []
    },
    {
      "cell_type": "code",
      "metadata": {
        "id": "byauPmp_bA8Z",
        "colab_type": "code",
        "colab": {}
      },
      "source": [
        "Npercnt = 90\n",
        "\n",
        "subj_for_test = pd.DataFrame()\n",
        "subj_for_test[\"전체 텍스트\"] = RStext[\"전체 텍스트\"].str.split(\" \")\n",
        "subj_for_test[\"제목 길이\"] = 0\n",
        "subj_for_test[\"목표 길이\"] = 0\n",
        "subj_for_test[\"내용 길이\"] = 0\n",
        "subj_for_test[\"효과 길이\"] = 0\n",
        "subj_for_test[\"한키 길이\"] = 0\n",
        "subj_for_test[\"영키 길이\"] = 0\n",
        "subj_for_test[\"제목 추출\"] = ''\n",
        "subj_for_test[\"목표 추출\"] = ''\n",
        "subj_for_test[\"내용 추출\"] = ''\n",
        "subj_for_test[\"효과 추출\"] = ''\n",
        "subj_for_test[\"한키 추출\"] = ''\n",
        "subj_for_test[\"영키 추출\"] = ''"
      ],
      "execution_count": 0,
      "outputs": []
    },
    {
      "cell_type": "code",
      "metadata": {
        "id": "Y3nOytCWjQke",
        "colab_type": "code",
        "colab": {}
      },
      "source": [
        "type(subj_for_test[\"전체 텍스트\"][0])"
      ],
      "execution_count": 0,
      "outputs": []
    },
    {
      "cell_type": "code",
      "metadata": {
        "id": "kS6YPr4QZkRb",
        "colab_type": "code",
        "colab": {}
      },
      "source": [
        "for i in range(len(RStext)):\n",
        "  sub_text = re.sub(\"\\t|\\n|\\r\",\"\",str(\" \" + \" \".join(subj_for_test[\"전체 텍스트\"][i])+\" \"))\n",
        "  subj_for_test[\"제목 길이\"][i] = len(RStext[\"과제명-국문\"][i]) + 1\n",
        "  subj_for_test[\"목표 길이\"][i] = int(subj_for_test[\"제목 길이\"][i]) + len(RStext[\"요약문_연구목표\"][i])\n",
        "  subj_for_test[\"내용 길이\"][i] = int(subj_for_test[\"목표 길이\"][i]) + len(RStext[\"요약문_연구내용\"][i])\n",
        "  subj_for_test[\"효과 길이\"][i] = int(subj_for_test[\"내용 길이\"][i]) + len(RStext[\"요약문_기대효과\"][i])\n",
        "  subj_for_test[\"한키 길이\"][i] = int(subj_for_test[\"효과 길이\"][i]) + len(RStext[\"요약문_한글키워드\"][i])\n",
        "  subj_for_test[\"영키 길이\"][i] = int(subj_for_test[\"한키 길이\"][i]) + len(RStext[\"요약문_영문키워드\"][i])\n",
        "  test = []\n",
        "  for word in api.analyze(RStext[\"전체 텍스트\"][i]):\n",
        "    test.append(str(word))\n",
        "    test_str = re.sub('[A-Za-z가-힣]*\\t',\" \",\" \".join(test))\n",
        "    test_str = re.compile('[A-Za-z가-힣]*/NNG|[A-Za-z가-힣]*/SL|[A-Za-z가-힣]*/NNP').findall(test_str)\n",
        "    test_str = re.sub('/NNG|/SL|/NNP',\"\",\" \".join(test_str))\n",
        "    test_str = re.compile('[A-Za-z가-힣][A-Za-z가-힣]+').findall(test_str)\n",
        "    test_set = list(set(test_str))\n",
        "    test_str = str(\" \"+\" \".join(test_str)+\" \")\n",
        "    subj_count = pd.DataFrame(np.zeros([len(test_set),2]),columns = [\"키워드\",\"빈도\"])\n",
        "    subj_count[\"위치\"] = \"\"\n",
        "    subj_count[\"위치변화\"] = \"\"\n",
        "    subj_count[\"변경수\"] = 0\n",
        "    subj_count[\"변경대상\"] = \"\"\n",
        "    for k in range(len(test_set)):\n",
        "      subj_count[\"키워드\"][k] = test_set[k]\n",
        "      subj_count[\"빈도\"][k] = len(re.compile(str(\" \"+test_set[k]+\" \")).findall(test_str))\n",
        "      subj_count[\"위치\"][k] = [m.start() for m in re.finditer(subj_count[\"키워드\"][k],sub_text)]\n",
        "      subj_count[\"위치변화\"][k] = sample(subj_count[\"위치\"][k],len(subj_count[\"위치\"][k]))\n",
        "    subj_count = subj_count.sort_values(by = [\"빈도\"],ascending=False).reset_index(drop=True)\n",
        "    Keycount = int(round(sum(subj_count[\"빈도\"])/100*(100-Npercnt),0))\n",
        "    for j in range(len(subj_count)):\n",
        "      subj_count[\"변경수\"][j] = int(np.random.randint(0, high = int(subj_count[\"빈도\"][j])+1,size = 1))*int(sample([0,1,1,1],1)[0])\n",
        "      if Keycount < 0:\n",
        "        subj_count[\"변경수\"][j] = subj_count[\"변경수\"][j] - (0 - Keycount)\n",
        "        subj_count[\"변경대상\"][j] = list(subj_count[\"위치변화\"][j][0:subj_count[\"변경수\"][j]])\n",
        "        break\n",
        "      subj_count[\"변경대상\"][j] = list(subj_count[\"위치변화\"][j][0:subj_count[\"변경수\"][j]])\n",
        "  for l in range(len(subj_count)):\n",
        "    if len(subj_count[\"변경대상\"][l]) == 0:\n",
        "      continue\n",
        "    else:\n",
        "      for ll in range(len(subj_count[\"변경대상\"][l])):\n",
        "        sub_text = \"\".join((sub_text[:subj_count[\"변경대상\"][l][ll]],\"연구\",sub_text[subj_count[\"변경대상\"][l][ll]+len(subj_count[\"키워드\"][l]):]))\n",
        "  subj_for_test[\"제목 추출\"][i] = sub_text[0:subj_for_test[\"제목 길이\"][i]]\n",
        "  subj_for_test[\"목표 추출\"][i] = sub_text[subj_for_test[\"제목 길이\"][i]:subj_for_test[\"목표 길이\"][i]]\n",
        "  subj_for_test[\"내용 추출\"][i] = sub_text[subj_for_test[\"목표 길이\"][i]:subj_for_test[\"내용 길이\"][i]]\n",
        "  subj_for_test[\"효과 추출\"][i] = sub_text[subj_for_test[\"내용 길이\"][i]:subj_for_test[\"효과 길이\"][i]]\n",
        "  subj_for_test[\"한키 추출\"][i] = sub_text[subj_for_test[\"효과 길이\"][i]:subj_for_test[\"한키 길이\"][i]]\n",
        "  subj_for_test[\"영키 추출\"][i] = sub_text[subj_for_test[\"한키 길이\"][i]:subj_for_test[\"영키 길이\"][i]]\n",
        "\n"
      ],
      "execution_count": 0,
      "outputs": []
    },
    {
      "cell_type": "code",
      "metadata": {
        "id": "s1AQh36X71BP",
        "colab_type": "code",
        "colab": {}
      },
      "source": [
        "subj_for_test[\"영키 길이\"][i]"
      ],
      "execution_count": 0,
      "outputs": []
    },
    {
      "cell_type": "code",
      "metadata": {
        "id": "pmo8Wo_zoqQ4",
        "colab_type": "code",
        "colab": {}
      },
      "source": [
        "subj_for_test.head(10)"
      ],
      "execution_count": 0,
      "outputs": []
    },
    {
      "cell_type": "code",
      "metadata": {
        "id": "QyE31oymwiZB",
        "colab_type": "code",
        "colab": {}
      },
      "source": [
        "sub_text\n",
        "[m.start() for m in re.finditer(subj_count[\"키워드\"][k],sub_text)]"
      ],
      "execution_count": 0,
      "outputs": []
    },
    {
      "cell_type": "code",
      "metadata": {
        "id": "2YwjisZFZkLh",
        "colab_type": "code",
        "colab": {}
      },
      "source": [
        "# # \n",
        "# test_str = re.sub('[A-Za-z가-힣]*\\t',\" \",\" \".join(test))\n",
        "# test_str = re.compile('[A-Za-z가-힣]*/NNG|[A-Za-z가-힣]*/SL|[A-Za-z가-힣]*/NNP').findall(test_str)\n",
        "# test_str = re.sub('/NNG|/SL|/NNP',\"\",\" \".join(test_str))\n",
        "# test_str = re.compile('[A-Za-z가-힣][A-Za-z가-힣]+').findall(test_str)\n",
        "# test_set = list(set(test_str))\n",
        "# test_str = str(\" \"+\" \".join(test_str)+\" \")\n",
        "# print(test_str)\n",
        "# print(test_set)"
      ],
      "execution_count": 0,
      "outputs": []
    },
    {
      "cell_type": "code",
      "metadata": {
        "id": "f7b7LAJXZrjm",
        "colab_type": "code",
        "colab": {}
      },
      "source": [
        "# subj_count = pd.DataFrame(np.zeros([len(test_set),2]),columns = [\"키워드\",\"빈도\"])\n",
        "# subj_count[\"위치\"] = \"\"\n",
        "# subj_count[\"위치변화\"] = \"\"\n",
        "# subj_count[\"변경수\"] = 0\n",
        "# subj_count[\"변경대상\"] = \"\"\n",
        "# for i in range(len(test_set)):\n",
        "#   subj_count[\"키워드\"][i] = test_set[i]\n",
        "#   subj_count[\"빈도\"][i] = len(re.compile(str(\" \"+test_set[i]+\" \")).findall(test_str))\n",
        "#   subj_count[\"위치\"][i] = list(np.where(np.array(test_str.split(\" \")) == test_set[i])[0])\n",
        "#   subj_count[\"위치변화\"][i] = sample(subj_count[\"위치\"][i],len(subj_count[\"위치\"][i]))\n",
        "# subj_count = subj_count.sort_values(by = [\"빈도\"],ascending=False).reset_index(drop=True)\n",
        "# Npercnt = 10\n",
        "# Keycount = int(round(sum(subj_count[\"빈도\"])/100*Npercnt,0))\n",
        "# for j in range(len(subj_count)):\n",
        "#   subj_count[\"변경수\"][j] = int(np.random.randint(0, high = int(subj_count[\"빈도\"][j])+1,size = 1))*int(sample([0,1,1,1],1)[0])\n",
        "#   Keycount -= subj_count[\"변경수\"][j]\n",
        "#   if Keycount < 0:\n",
        "#     subj_count[\"변경수\"][j] = subj_count[\"변경수\"][j] - (0 - Keycount)\n",
        "#     subj_count[\"변경대상\"][j] = list(subj_count[\"위치변화\"][j][0:subj_count[\"변경수\"][j]])\n",
        "#     break\n",
        "#   subj_count[\"변경대상\"][j] = list(subj_count[\"위치변화\"][j][0:subj_count[\"변경수\"][j]])\n"
      ],
      "execution_count": 0,
      "outputs": []
    },
    {
      "cell_type": "code",
      "metadata": {
        "id": "jiA-vwBzmEjv",
        "colab_type": "code",
        "colab": {}
      },
      "source": [
        "subj_count.sort_values(by =[\"빈도\"],ascending=False)[0:30]"
      ],
      "execution_count": 0,
      "outputs": []
    },
    {
      "cell_type": "code",
      "metadata": {
        "id": "i_3xzMmPm3ah",
        "colab_type": "code",
        "colab": {}
      },
      "source": [
        "print(sub_text[382])\n",
        "print(subj_count[\"키워드\"][l])\n",
        "print(subj_count[\"변경대상\"][l][ll])\n",
        "print(l)\n",
        "print(ll)"
      ],
      "execution_count": 0,
      "outputs": []
    },
    {
      "cell_type": "code",
      "metadata": {
        "id": "22Zusz8_YMSD",
        "colab_type": "code",
        "colab": {}
      },
      "source": [
        "print(int(round(sum(subj_count[\"빈도\"])/100*Npercnt,0)))\n",
        "print(sum(subj_count[\"변경수\"]))"
      ],
      "execution_count": 0,
      "outputs": []
    },
    {
      "cell_type": "code",
      "metadata": {
        "id": "i7IA1ujipq7O",
        "colab_type": "code",
        "colab": {}
      },
      "source": [
        "print(int(round(sum(subj_count[\"빈도\"])/10*2,0)))"
      ],
      "execution_count": 0,
      "outputs": []
    },
    {
      "cell_type": "code",
      "metadata": {
        "id": "2VbvoZmnmSwk",
        "colab_type": "code",
        "colab": {}
      },
      "source": [
        "print(RStext[\"과제고유번호\"][num])\n",
        "print(RStext[\"과제명-국문\"][num])"
      ],
      "execution_count": 0,
      "outputs": []
    },
    {
      "cell_type": "code",
      "metadata": {
        "id": "K2CKZWzTjEZK",
        "colab_type": "code",
        "colab": {}
      },
      "source": [
        "# 단어 체인지 후에 각 필드로 배분하기 위한 방법\n",
        "print(len(RStext[\"전체 텍스트\"][num].split(\" \")))\n",
        "print(len(RStext[\"과제명-국문\"][num].split(\" \")))\n",
        "print(RStext[\"전체 텍스트\"][num].split(\" \")[0:len(RStext[\"과제명-국문\"][num].split(\" \"))])\n",
        "print(RStext[\"과제명-국문\"][num].split(\" \"))\n",
        "print(RStext[\"전체 텍스트\"][num].split(\" \")[len(RStext[\"과제명-국문\"][num].split(\" \")):(len(RStext[\"과제명-국문\"][num].split(\" \"))+len(RStext[\"요약문_연구목표\"][num].split(\" \")))])\n",
        "print(RStext[\"요약문_연구목표\"][num].split(\" \"))\n",
        "print(RStext[\"전체 텍스트\"][num].split(\" \")[len(RStext[\"과제명-국문\"][num].split(\" \")):(len(RStext[\"과제명-국문\"][num].split(\" \"))+len(RStext[\"요약문_연구목표\"][num].split(\" \")))])"
      ],
      "execution_count": 0,
      "outputs": []
    },
    {
      "cell_type": "code",
      "metadata": {
        "id": "kopUfT5Rjnfp",
        "colab_type": "code",
        "colab": {}
      },
      "source": [
        "print(RStext[\"요약문_연구내용\"][num].split(\" \"))"
      ],
      "execution_count": 0,
      "outputs": []
    },
    {
      "cell_type": "code",
      "metadata": {
        "id": "xruhY26t60YQ",
        "colab_type": "code",
        "colab": {}
      },
      "source": [
        "np.where(np.array(RStext[\"요약문_연구내용\"][num].split(\" \")) == \"분석\")[0]"
      ],
      "execution_count": 0,
      "outputs": []
    },
    {
      "cell_type": "code",
      "metadata": {
        "id": "Jf5F9iHHM-Ds",
        "colab_type": "code",
        "colab": {}
      },
      "source": [
        ""
      ],
      "execution_count": 0,
      "outputs": []
    }
  ]
}